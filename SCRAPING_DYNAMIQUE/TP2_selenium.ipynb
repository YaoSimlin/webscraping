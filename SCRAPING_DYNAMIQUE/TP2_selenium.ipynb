{
 "cells": [
  {
   "attachments": {},
   "cell_type": "markdown",
   "metadata": {},
   "source": [
    "# Gérer les éléments avec Selenium"
   ]
  },
  {
   "attachments": {},
   "cell_type": "markdown",
   "metadata": {},
   "source": [
    "Il existe différentes stratégies pour localiser des éléments dans une page. Vous pouvez utiliser celui qui convient le mieux à votre cas. Selenium fournit les méthodes suivantes pour localiser des éléments dans une page:\n",
    "\n",
    "- **find_element** : Pour trouver le 1er élément recherché. \n",
    "- **find_elements** : Pour trouver tous les éléments recherchés  (dans une liste).\n",
    "\n",
    "\n",
    "les ATTRIBUTS pour trouver des éléments sur une page sont les suivants : \n",
    "- ID = \"id\"  \n",
    "- NAME = \"name\"  \n",
    "- XPATH = \"xpath\"  \n",
    "- LINK_TEXT = \"link text\"  \n",
    "- PARTIAL_LINK_TEXT = \"partial link text\"  \n",
    "- TAG_NAME = \"tag name\"  \n",
    "- CLASS_NAME = \"class name\"  \n",
    "- CSS_SELECTOR = \"css selector\"  \n",
    "\n",
    "Ces attributs sont accessible dans la classe *By* :  ***from selenium.webdriver.common.by import By*** .   \n",
    "La classe *By* fournit des moyens de localiser des éléments sur une page. Ci-dessous quelques exemples:  \n",
    "\n",
    "- --> find_element(By.ID, \"id\")   \n",
    "- --> find_element(By.NAME, \"name\")   \n",
    "- --> find_element(By.XPATH, \"xpath\")  \n",
    "- --> find_element(By.LINK_TEXT, \"link text\")  \n",
    "- --> find_element(By.PARTIAL_LINK_TEXT, \"partial link text\")  \n",
    "- --> find_element(By.TAG_NAME, \"tag name\")  \n",
    "- --> find_element(By.CLASS_NAME, \"class name\")  \n",
    "- --> find_element(By.CSS_SELECTOR, \"css selector\")  \n",
    "\n",
    "Vous trouverez une documentation complète [ici](https://selenium-python.readthedocs.io/locating-elements.html)"
   ]
  },
  {
   "cell_type": "code",
   "execution_count": null,
   "id": "aca40e03",
   "metadata": {},
   "outputs": [],
   "source": []
  },
  {
   "attachments": {},
   "cell_type": "markdown",
   "metadata": {},
   "source": [
    "La recherche de plusieurs éléments se fait par la méthodes **find_elements** avec les mêmes arguments que la méthode précédente. \n",
    "\n",
    "{*id, name, xpath, link_text, partial_link_text, tag_name, class_name, css_selector*}"
   ]
  },
  {
   "cell_type": "markdown",
   "metadata": {},
   "source": [
    "<html>\n",
    " <body>\n",
    "  <form id=\"loginForm\">\n",
    "   <input name=\"username\" type=\"text\" />\n",
    "   <input name=\"password\" type=\"password\" />\n",
    "   <input name=\"continue\" type=\"submit\" value=\"Login\" />\n",
    "  </form>\n",
    " </body>\n",
    "</html>"
   ]
  },
  {
   "cell_type": "code",
   "execution_count": 1,
   "metadata": {},
   "outputs": [],
   "source": [
    "from bs4 import BeautifulSoup\n",
    "from selenium import webdriver \n",
    "from selenium.webdriver.common.by import By "
   ]
  },
  {
   "cell_type": "markdown",
   "metadata": {},
   "source": [
    "## Localisation des éléments"
   ]
  },
  {
   "cell_type": "code",
   "execution_count": 5,
   "metadata": {},
   "outputs": [
    {
     "name": "stdout",
     "output_type": "stream",
     "text": [
      "file:///d:/Data Science/semestre9/Webscraping/SCRAPING_DYNAMIQUE/locating_elements.html\n"
     ]
    }
   ],
   "source": [
    "import os\n",
    "from selenium.webdriver.firefox.options import Options\n",
    "\n",
    "options = Options()\n",
    "options.binary_location = \"C:/Program Files/Mozilla Firefox/firefox.exe\"\n",
    "driver = webdriver.Firefox()\n",
    "\n",
    "# On va sur notre page test.html\n",
    "# url = r\"file:///C:/Users/Utilisateur/Documents/FORMATIONS/WEB_SCRAPING/PRATIQUES_WEB_SCRAPING/SCRAPING_DYNAMIQUE/test.html\"\n",
    "dirPath = str(os.getcwd() + \"\\\\locating_elements.html\")\n",
    "dirPath = dirPath.replace(\"\\\\\", \"/\")\n",
    "url = r\"file:///\"+dirPath\n",
    "print(url)\n",
    "driver.get(url)\n",
    "\n"
   ]
  },
  {
   "cell_type": "code",
   "execution_count": 4,
   "metadata": {},
   "outputs": [],
   "source": [
    "url = \"https://www.ivoiremobiles.net/\""
   ]
  },
  {
   "attachments": {},
   "cell_type": "markdown",
   "metadata": {},
   "source": [
    "### 1. Recherche/Localisation par *ID*"
   ]
  },
  {
   "attachments": {},
   "cell_type": "markdown",
   "metadata": {},
   "source": [
    "L'attribut *`By.ID`* est à utiliser lorsque vous connaissez l' attribut **id** d'un élément.\n",
    "\n",
    "   - Le premier élément avec un attribut id correspondant sera renvoyé.  \n",
    "   - Une exception `NoSuchElementException` sera renvoyée si aucune correspondance n'est faite\n"
   ]
  },
  {
   "attachments": {},
   "cell_type": "markdown",
   "id": "79bdbdf6",
   "metadata": {},
   "source": [
    "Par exemple, l'élément ***loginForm*** peut être répéré/localisé par :"
   ]
  },
  {
   "cell_type": "code",
   "execution_count": 6,
   "metadata": {},
   "outputs": [],
   "source": [
    "login_form = driver.find_element(By.ID, 'loginForm')"
   ]
  },
  {
   "cell_type": "code",
   "execution_count": 7,
   "id": "6a93592a",
   "metadata": {},
   "outputs": [
    {
     "data": {
      "text/plain": [
       "<selenium.webdriver.remote.webelement.WebElement (session=\"c665dfce-b5b6-4faf-b092-3bbc27796b7e\", element=\"1c63122e-9870-42f7-835a-5892bdd7ac8e\")>"
      ]
     },
     "execution_count": 7,
     "metadata": {},
     "output_type": "execute_result"
    }
   ],
   "source": [
    "login_form"
   ]
  },
  {
   "cell_type": "code",
   "execution_count": 8,
   "id": "543ca2c6",
   "metadata": {},
   "outputs": [
    {
     "data": {
      "text/plain": [
       "'loginForm'"
      ]
     },
     "execution_count": 8,
     "metadata": {},
     "output_type": "execute_result"
    }
   ],
   "source": [
    "login_form.get_attribute('id')"
   ]
  },
  {
   "cell_type": "code",
   "execution_count": 9,
   "metadata": {},
   "outputs": [
    {
     "data": {
      "text/plain": [
       "'form'"
      ]
     },
     "execution_count": 9,
     "metadata": {},
     "output_type": "execute_result"
    }
   ],
   "source": [
    "login_form.tag_name"
   ]
  },
  {
   "cell_type": "code",
   "execution_count": 10,
   "id": "d551693b",
   "metadata": {},
   "outputs": [
    {
     "data": {
      "text/plain": [
       "'text login form'"
      ]
     },
     "execution_count": 10,
     "metadata": {},
     "output_type": "execute_result"
    }
   ],
   "source": [
    "login_form.text"
   ]
  },
  {
   "cell_type": "code",
   "execution_count": 11,
   "id": "794affcc",
   "metadata": {},
   "outputs": [
    {
     "data": {
      "text/plain": [
       "[<selenium.webdriver.remote.webelement.WebElement (session=\"c665dfce-b5b6-4faf-b092-3bbc27796b7e\", element=\"1c63122e-9870-42f7-835a-5892bdd7ac8e\")>]"
      ]
     },
     "execution_count": 11,
     "metadata": {},
     "output_type": "execute_result"
    }
   ],
   "source": [
    "login_forms = driver.find_elements(By.ID, 'loginForm')\n",
    "login_forms"
   ]
  },
  {
   "attachments": {},
   "cell_type": "markdown",
   "metadata": {},
   "source": [
    "### 2. Localisation par *NAME*"
   ]
  },
  {
   "attachments": {},
   "cell_type": "markdown",
   "metadata": {},
   "source": [
    "L'attribut *`By.NAME`* est à utiliser lorsque vous connaissez l' attribut **name** d'un élément.\n",
    "\n",
    "Le *username* et le *password* peuvent être localisés comme suit :"
   ]
  },
  {
   "cell_type": "code",
   "execution_count": 12,
   "id": "45327dfa",
   "metadata": {},
   "outputs": [
    {
     "data": {
      "text/plain": [
       "<selenium.webdriver.remote.webelement.WebElement (session=\"c665dfce-b5b6-4faf-b092-3bbc27796b7e\", element=\"75c9c992-5453-4071-8b14-708371757145\")>"
      ]
     },
     "execution_count": 12,
     "metadata": {},
     "output_type": "execute_result"
    }
   ],
   "source": [
    "username = driver.find_element(By.NAME, 'username')\n",
    "username"
   ]
  },
  {
   "cell_type": "code",
   "execution_count": 13,
   "metadata": {},
   "outputs": [
    {
     "data": {
      "text/plain": [
       "<selenium.webdriver.remote.webelement.WebElement (session=\"c665dfce-b5b6-4faf-b092-3bbc27796b7e\", element=\"24b8132d-8bef-4e15-bc9d-1eb35fdd2906\")>"
      ]
     },
     "execution_count": 13,
     "metadata": {},
     "output_type": "execute_result"
    }
   ],
   "source": [
    "\n",
    "password = driver.find_element(By.NAME, 'password')\n",
    "password"
   ]
  },
  {
   "cell_type": "code",
   "execution_count": 14,
   "metadata": {},
   "outputs": [
    {
     "name": "stdout",
     "output_type": "stream",
     "text": [
      "input text\n",
      "input password\n"
     ]
    }
   ],
   "source": [
    "print(username.tag_name, username.get_attribute(\"type\"))\n",
    "print(password.tag_name, password.get_attribute(\"type\"))"
   ]
  },
  {
   "cell_type": "code",
   "execution_count": 15,
   "metadata": {},
   "outputs": [],
   "source": [
    "continue_ = driver.find_element(By.NAME, 'continue')"
   ]
  },
  {
   "cell_type": "code",
   "execution_count": 16,
   "metadata": {},
   "outputs": [
    {
     "name": "stdout",
     "output_type": "stream",
     "text": [
      "input Login submit\n"
     ]
    }
   ],
   "source": [
    "print(continue_.tag_name, continue_.get_attribute(\"value\"), continue_.get_attribute(\"type\"))"
   ]
  },
  {
   "cell_type": "markdown",
   "id": "ed56d1a2",
   "metadata": {},
   "source": [
    "Pour retourner plusieurs éléments ayant le même nom d'attribut"
   ]
  },
  {
   "cell_type": "code",
   "execution_count": 17,
   "id": "fe34b442",
   "metadata": {},
   "outputs": [
    {
     "data": {
      "text/plain": [
       "[<selenium.webdriver.remote.webelement.WebElement (session=\"c665dfce-b5b6-4faf-b092-3bbc27796b7e\", element=\"05a70c5c-7e1e-48a8-a2b3-3aa24afdae3a\")>,\n",
       " <selenium.webdriver.remote.webelement.WebElement (session=\"c665dfce-b5b6-4faf-b092-3bbc27796b7e\", element=\"69b2e5e7-ba48-4e45-a496-74f07d29070a\")>]"
      ]
     },
     "execution_count": 17,
     "metadata": {},
     "output_type": "execute_result"
    }
   ],
   "source": [
    "continues = driver.find_elements(By.NAME, 'continue')\n",
    "continues"
   ]
  },
  {
   "cell_type": "code",
   "execution_count": 18,
   "id": "edcad909",
   "metadata": {},
   "outputs": [
    {
     "data": {
      "text/plain": [
       "2"
      ]
     },
     "execution_count": 18,
     "metadata": {},
     "output_type": "execute_result"
    }
   ],
   "source": [
    "len(continues)"
   ]
  },
  {
   "cell_type": "code",
   "execution_count": 19,
   "id": "af7ec16d",
   "metadata": {},
   "outputs": [
    {
     "name": "stdout",
     "output_type": "stream",
     "text": [
      "ELEMENT : 0 , TAG_NAME : input, VALUE : Login, TYPE : submit\n",
      "ELEMENT : 1 , TAG_NAME : input, VALUE : Clear, TYPE : button\n"
     ]
    }
   ],
   "source": [
    "for i, cont_elt in enumerate(continues) :\n",
    "    print(f'ELEMENT : {i} , TAG_NAME : {cont_elt.tag_name}, VALUE : {cont_elt.get_attribute(\"value\")}, TYPE : {cont_elt.get_attribute(\"type\")}')"
   ]
  },
  {
   "cell_type": "markdown",
   "metadata": {},
   "source": [
    "### 3. Localisation par *xpath*\n",
    "\n",
    "**XPath** est un langage utilisé pour les noeuds/elements dans un document XML. Comme HTML peut être une implémentation de XML (**XHTML**). Les users Selenium se servent aussi de cette stratégie pour cibler les éléments dans leurs applications Web.  \n",
    "\n",
    "Dans notre document HTML :  \n"
   ]
  },
  {
   "cell_type": "markdown",
   "metadata": {},
   "source": [
    " - les éléments de formulaire peuvent être localisés des manières suivantes"
   ]
  },
  {
   "cell_type": "markdown",
   "metadata": {},
   "source": [
    "<html>\n",
    " <body>\n",
    "  <form id=\"loginForm\">\n",
    "   <input name=\"username\" type=\"text\" />\n",
    "   <input name=\"password\" type=\"password\" />\n",
    "   <input name=\"continue\" type=\"submit\" value=\"Login\" />\n",
    "  </form>\n",
    " </body>\n",
    "</html>"
   ]
  },
  {
   "cell_type": "code",
   "execution_count": 20,
   "metadata": {},
   "outputs": [
    {
     "name": "stdout",
     "output_type": "stream",
     "text": [
      "form\n",
      "form loginForm\n",
      "form\n"
     ]
    }
   ],
   "source": [
    "# Chemin absolu (Peut echouer si le code HTML est légèrement modifié)\n",
    "login_form = driver.find_element(By.XPATH, \"/html/body/form[1]\")\n",
    "print(login_form.tag_name)\n",
    "# //*[@id=\"loginForm\"]\n",
    "# /html/body/form\n",
    "\n",
    "# Accès au premier élément de formulaire dans le HTML\n",
    "login_form = driver.find_element(By.XPATH, \"//form[1]\")\n",
    "print(login_form.tag_name, login_form.get_attribute(\"id\"))\n",
    "\n",
    "# Accès à l'élément du formulaire avec l'attribut id défini sur loginForm \n",
    "login_form = driver.find_element(By.XPATH, \"//form[@id='loginForm']\")\n",
    "print(login_form.tag_name)\n"
   ]
  },
  {
   "cell_type": "markdown",
   "metadata": {},
   "source": [
    " -  l'élément username peut être obtenu comme ceci:"
   ]
  },
  {
   "cell_type": "code",
   "execution_count": 21,
   "metadata": {},
   "outputs": [
    {
     "name": "stdout",
     "output_type": "stream",
     "text": [
      "form text login form\n",
      "input \n",
      "input \n"
     ]
    }
   ],
   "source": [
    "# Premier élément de formulaire avec un élément enfant d'entrée dont \n",
    "#le nom est défini sur nom d' utilisateur\n",
    "username = driver.find_element(By.XPATH, \"//form[input/@name='username']\")\n",
    "print(username.tag_name, username.text)\n",
    "\n",
    "#Premier élément enfant d'entrée de l'élément de formulaire avec \n",
    "#l'attribut id défini sur loginForm\n",
    "username = driver.find_element(By.XPATH, \"//form[@id='loginForm']/input[1]\")\n",
    "print(username.tag_name, username.text)\n",
    "\n",
    "#Premier élément d'entrée avec le nom d'attribut défini sur nom d' utilisateur\n",
    "username = driver.find_element(By.XPATH, \"//input[@name='username']\")\n",
    "print(username.tag_name, username.text)"
   ]
  },
  {
   "cell_type": "code",
   "execution_count": 22,
   "id": "1ad346a8",
   "metadata": {},
   "outputs": [
    {
     "name": "stdout",
     "output_type": "stream",
     "text": [
      "input  continue submit\n"
     ]
    }
   ],
   "source": [
    "#Trosième élément enfant d'entrée de l'élément de formulaire avec \n",
    "#l'attribut id défini sur loginForm\n",
    "username = driver.find_element(By.XPATH, \"//form[@id='loginForm']/input[3]\")\n",
    "print(username.tag_name, username.text, username.get_attribute('name'), username.get_attribute('type'))"
   ]
  },
  {
   "cell_type": "code",
   "execution_count": 23,
   "metadata": {},
   "outputs": [
    {
     "name": "stdout",
     "output_type": "stream",
     "text": [
      "p **** Are you sure you want to do this?\n"
     ]
    }
   ],
   "source": [
    "paragraph = driver.find_element(By.XPATH, \"//p\")\n",
    "print(paragraph.tag_name, \"****\", paragraph.text)"
   ]
  },
  {
   "cell_type": "code",
   "execution_count": null,
   "metadata": {},
   "outputs": [],
   "source": []
  },
  {
   "cell_type": "markdown",
   "metadata": {},
   "source": [
    " -  l'élément de boutton **Clear** peut être obtenu comme ceci:"
   ]
  },
  {
   "cell_type": "code",
   "execution_count": 24,
   "metadata": {},
   "outputs": [],
   "source": [
    "# Entrée avec le nom d'attribut défini sur continuer et \n",
    "# le type d'attribut défini sur bouton\n",
    "clear_button = driver.find_element(By.XPATH, \"//input[@name='continue'][@type='button']\")\n",
    "\n",
    "\n",
    "# Quatrième élément enfant d'entrée de l'élément de formulaire avec\n",
    "# l'attribut id défini sur loginForm\n",
    "clear_button = driver.find_element(By.XPATH, \"//form[@id='loginForm']/input[4]\")"
   ]
  },
  {
   "cell_type": "code",
   "execution_count": 25,
   "id": "b5ab4551",
   "metadata": {},
   "outputs": [
    {
     "data": {
      "text/plain": [
       "'button'"
      ]
     },
     "execution_count": 25,
     "metadata": {},
     "output_type": "execute_result"
    }
   ],
   "source": [
    "clear_button.get_attribute(\"type\")"
   ]
  },
  {
   "cell_type": "markdown",
   "id": "0598050d",
   "metadata": {},
   "source": [
    "En résumé, Les expressions XPath peuvent être écrites pour localiser des éléments en utilisant le chemin **absolu** et le chemin **relatif**.\n",
    "\n",
    "- ``Le chemin absolu`` contient le chemin complet de la racine du document HTML à la position de l'élément recherché.  \n",
    "        Dans ce cas, l'expression commence par l'élément racine du document ou par une barre oblique simple indiquant que le chemin commence à la racine du document.    \n",
    "        \n",
    "      /html/body/div[1]/header/div/div[1]/div[3]/div/form/div[3]/div[1]/input       \n",
    "    \n",
    "- ``Le chemin relatif`` quant à lui, permet de commencer le chemin vers élément récherché depuis n'importe quel endroit du document HTML.\n",
    "        Dans ce cas,  l'expression commence par deux barres obliques ``//`` et peut ne pas commencer à la racine du document.  \n",
    "\n",
    "                //input[@name=’username’]\n",
    "                "
   ]
  },
  {
   "cell_type": "markdown",
   "id": "52dccf4a",
   "metadata": {},
   "source": [
    "Les liens suivants vous aideront bien comprendre la logique de la recherche par XPath.\n",
    "- https://saucelabs.com/resources/blog/xpath-locators-cheat-sheet\n",
    "- https://saucelabs.com/resources/blog/xpath-in-selenium-getting-started"
   ]
  },
  {
   "cell_type": "code",
   "execution_count": null,
   "id": "71332eb0",
   "metadata": {},
   "outputs": [],
   "source": []
  },
  {
   "cell_type": "markdown",
   "id": "ff522055",
   "metadata": {},
   "source": [
    "Exmples d'expression XPath."
   ]
  },
  {
   "cell_type": "raw",
   "id": "4b2bbde2",
   "metadata": {
    "vscode": {
     "languageId": "raw"
    }
   },
   "source": [
    "1. Example syntax using a single attribute (relative XPath type):\n",
    "\n",
    "\n",
    "// a [@href='http://www.google.com']\n",
    "\n",
    "//input[@id='name']\n",
    "\n",
    "//input[@name='username']\n",
    "\n",
    "//img[@alt='sometext']\n",
    "\n",
    "\n",
    "2. Example syntax using multiple attributes (relative XPath type):\n",
    "\n",
    "\n",
    "//tagname[@attribute1='value1'] [attribute2='value2']\n",
    "\n",
    "//a[@id='id1'] [@name='namevalue1']\n",
    "\n",
    "//img[@src=''] [@href='']\n",
    "\n",
    "\n",
    "3. Example syntax of a search using “contains” (here, to create an account):\n",
    "\n",
    "\n",
    "//tagname[contains(@attribute,'value1')]\n",
    "\n",
    "//input[contains(@id,'')]\n",
    "\n",
    "//input[contains(@name,'')]\n",
    "\n",
    "//a[contains(@href,'')]\n",
    "\n",
    "//img[contains(@src,'')]\n",
    "\n",
    "//div[contains(@id,'')]\n",
    "\n",
    "\n",
    "4. Example syntax of a search using “starts-with:”:\n",
    "\n",
    "\n",
    "//tagname[starts-with(@attribute-name,'')]\n",
    "\n",
    "//id[starts-with(@id,'')]\n",
    "\n",
    "//a[starts-with(@href='')]\n",
    "\n",
    "//img[starts-with(@src='')]\n",
    "\n",
    "//div[starts-with(@id='')]\n",
    "\n",
    "//input[starts-with(@id='')]\n",
    "\n",
    "//button[starts-with(@id,'')]\n",
    "\n",
    "\n",
    "5. Example syntax for using the following node:\n",
    "\n",
    "\n",
    "Xpath/following::again-ur-regular-path\n",
    "\n",
    "//input[@id='']/following::input[1]\n",
    "\n",
    "//a[@href='']/following::a[1] \n",
    "\n",
    "//img[@src='']/following::img[1]\n",
    "\n",
    "\n",
    "6. Example syntax for using the preceding node:\n",
    "\n",
    "\n",
    "Xpath/preceding::again-ur-regular-path\n",
    "\n",
    " //input[@id='']/ preceding::input[1]\n",
    "\n",
    " //a[@href='']/ preceding::a[1]\n",
    "\n",
    " //img[@src='']/ preceding::img[1]\n",
    "\n",
    "\n",
    "7. Example syntax for using the absolute XPath type:\n",
    "\n",
    "\n",
    "1-/html/head/body/div/input\n",
    "\n",
    "8. Example syntax for text search in XPath:\n",
    "\n",
    "\n",
    "Syntax- tagname[text()='text which is visible on page']\n",
    "\n",
    "\n",
    "9. Example syntax for text search with 'contains':\n",
    "\n",
    "\n",
    "/*[contains(text(),'Employee Distribution by Subunit')]"
   ]
  },
  {
   "cell_type": "code",
   "execution_count": null,
   "id": "471f6b24",
   "metadata": {},
   "outputs": [],
   "source": []
  },
  {
   "cell_type": "markdown",
   "metadata": {},
   "source": [
    "### 4. Localisation des hyperliens par le texte du lien\n",
    "\n",
    "Utile lorsque vous connaissez le texte du lien utilisé dans une balise d'ancrage. \n",
    "\n",
    "Cette méthode renvoie  le premier élément avec le texte du lien correspondant à la valeur fournie."
   ]
  },
  {
   "cell_type": "code",
   "execution_count": 26,
   "metadata": {},
   "outputs": [],
   "source": [
    "import time\n",
    "time.sleep(10)\n",
    "driver.refresh()"
   ]
  },
  {
   "cell_type": "code",
   "execution_count": 27,
   "id": "5880539a",
   "metadata": {},
   "outputs": [
    {
     "data": {
      "text/plain": [
       "<selenium.webdriver.remote.webelement.WebElement (session=\"ef32ccc0-6f98-41da-b866-f9141d8738c5\", element=\"3999f291-fdcc-4b37-b3cd-6b17551502a2\")>"
      ]
     },
     "execution_count": 27,
     "metadata": {},
     "output_type": "execute_result"
    }
   ],
   "source": [
    "continue_link = driver.find_element(By.LINK_TEXT, 'Continue')\n",
    "continue_link\n",
    "\n"
   ]
  },
  {
   "cell_type": "code",
   "execution_count": 28,
   "metadata": {},
   "outputs": [
    {
     "data": {
      "text/plain": [
       "('a',\n",
       " 'Continue',\n",
       " 'file:///d:/Data%20Science/semestre9/Webscraping/SCRAPING_DYNAMIQUE/continue.html')"
      ]
     },
     "execution_count": 28,
     "metadata": {},
     "output_type": "execute_result"
    }
   ],
   "source": [
    "continue_link.tag_name, continue_link.text, continue_link.get_attribute('href')  "
   ]
  },
  {
   "cell_type": "code",
   "execution_count": 29,
   "id": "243fbbcc",
   "metadata": {},
   "outputs": [
    {
     "data": {
      "text/plain": [
       "''"
      ]
     },
     "execution_count": 29,
     "metadata": {},
     "output_type": "execute_result"
    }
   ],
   "source": [
    "continue_link.get_attribute('name')"
   ]
  },
  {
   "cell_type": "code",
   "execution_count": 51,
   "id": "1629d3db",
   "metadata": {},
   "outputs": [
    {
     "ename": "NoSuchElementException",
     "evalue": "Message: Unable to locate element: Continu\nStacktrace:\nRemoteError@chrome://remote/content/shared/RemoteError.sys.mjs:8:8\nWebDriverError@chrome://remote/content/shared/webdriver/Errors.sys.mjs:189:5\nNoSuchElementError@chrome://remote/content/shared/webdriver/Errors.sys.mjs:507:5\ndom.find/</<@chrome://remote/content/shared/DOM.sys.mjs:132:16\n",
     "output_type": "error",
     "traceback": [
      "\u001b[1;31m---------------------------------------------------------------------------\u001b[0m",
      "\u001b[1;31mNoSuchElementException\u001b[0m                    Traceback (most recent call last)",
      "\u001b[1;32mC:\\Users\\UTILIS~1\\AppData\\Local\\Temp/ipykernel_21652/3495861827.py\u001b[0m in \u001b[0;36m<module>\u001b[1;34m\u001b[0m\n\u001b[1;32m----> 1\u001b[1;33m \u001b[0mcontinue_link\u001b[0m \u001b[1;33m=\u001b[0m \u001b[0mdriver\u001b[0m\u001b[1;33m.\u001b[0m\u001b[0mfind_element\u001b[0m\u001b[1;33m(\u001b[0m\u001b[0mBy\u001b[0m\u001b[1;33m.\u001b[0m\u001b[0mLINK_TEXT\u001b[0m\u001b[1;33m,\u001b[0m \u001b[1;34m'Continu'\u001b[0m\u001b[1;33m)\u001b[0m\u001b[1;33m\u001b[0m\u001b[1;33m\u001b[0m\u001b[0m\n\u001b[0m\u001b[0;32m      2\u001b[0m \u001b[1;33m\u001b[0m\u001b[0m\n",
      "\u001b[1;32mc:\\ProgramData\\Anaconda3\\lib\\site-packages\\selenium\\webdriver\\remote\\webdriver.py\u001b[0m in \u001b[0;36mfind_element\u001b[1;34m(self, by, value)\u001b[0m\n\u001b[0;32m    859\u001b[0m             \u001b[0mvalue\u001b[0m \u001b[1;33m=\u001b[0m \u001b[1;34m'[name=\"%s\"]'\u001b[0m \u001b[1;33m%\u001b[0m \u001b[0mvalue\u001b[0m\u001b[1;33m\u001b[0m\u001b[1;33m\u001b[0m\u001b[0m\n\u001b[0;32m    860\u001b[0m \u001b[1;33m\u001b[0m\u001b[0m\n\u001b[1;32m--> 861\u001b[1;33m         \u001b[1;32mreturn\u001b[0m \u001b[0mself\u001b[0m\u001b[1;33m.\u001b[0m\u001b[0mexecute\u001b[0m\u001b[1;33m(\u001b[0m\u001b[0mCommand\u001b[0m\u001b[1;33m.\u001b[0m\u001b[0mFIND_ELEMENT\u001b[0m\u001b[1;33m,\u001b[0m \u001b[1;33m{\u001b[0m\u001b[1;34m\"using\"\u001b[0m\u001b[1;33m:\u001b[0m \u001b[0mby\u001b[0m\u001b[1;33m,\u001b[0m \u001b[1;34m\"value\"\u001b[0m\u001b[1;33m:\u001b[0m \u001b[0mvalue\u001b[0m\u001b[1;33m}\u001b[0m\u001b[1;33m)\u001b[0m\u001b[1;33m[\u001b[0m\u001b[1;34m\"value\"\u001b[0m\u001b[1;33m]\u001b[0m\u001b[1;33m\u001b[0m\u001b[1;33m\u001b[0m\u001b[0m\n\u001b[0m\u001b[0;32m    862\u001b[0m \u001b[1;33m\u001b[0m\u001b[0m\n\u001b[0;32m    863\u001b[0m     \u001b[1;32mdef\u001b[0m \u001b[0mfind_elements\u001b[0m\u001b[1;33m(\u001b[0m\u001b[0mself\u001b[0m\u001b[1;33m,\u001b[0m \u001b[0mby\u001b[0m\u001b[1;33m=\u001b[0m\u001b[0mBy\u001b[0m\u001b[1;33m.\u001b[0m\u001b[0mID\u001b[0m\u001b[1;33m,\u001b[0m \u001b[0mvalue\u001b[0m\u001b[1;33m:\u001b[0m \u001b[0mOptional\u001b[0m\u001b[1;33m[\u001b[0m\u001b[0mstr\u001b[0m\u001b[1;33m]\u001b[0m \u001b[1;33m=\u001b[0m \u001b[1;32mNone\u001b[0m\u001b[1;33m)\u001b[0m \u001b[1;33m->\u001b[0m \u001b[0mList\u001b[0m\u001b[1;33m[\u001b[0m\u001b[0mWebElement\u001b[0m\u001b[1;33m]\u001b[0m\u001b[1;33m:\u001b[0m\u001b[1;33m\u001b[0m\u001b[1;33m\u001b[0m\u001b[0m\n",
      "\u001b[1;32mc:\\ProgramData\\Anaconda3\\lib\\site-packages\\selenium\\webdriver\\remote\\webdriver.py\u001b[0m in \u001b[0;36mexecute\u001b[1;34m(self, driver_command, params)\u001b[0m\n\u001b[0;32m    442\u001b[0m         \u001b[0mresponse\u001b[0m \u001b[1;33m=\u001b[0m \u001b[0mself\u001b[0m\u001b[1;33m.\u001b[0m\u001b[0mcommand_executor\u001b[0m\u001b[1;33m.\u001b[0m\u001b[0mexecute\u001b[0m\u001b[1;33m(\u001b[0m\u001b[0mdriver_command\u001b[0m\u001b[1;33m,\u001b[0m \u001b[0mparams\u001b[0m\u001b[1;33m)\u001b[0m\u001b[1;33m\u001b[0m\u001b[1;33m\u001b[0m\u001b[0m\n\u001b[0;32m    443\u001b[0m         \u001b[1;32mif\u001b[0m \u001b[0mresponse\u001b[0m\u001b[1;33m:\u001b[0m\u001b[1;33m\u001b[0m\u001b[1;33m\u001b[0m\u001b[0m\n\u001b[1;32m--> 444\u001b[1;33m             \u001b[0mself\u001b[0m\u001b[1;33m.\u001b[0m\u001b[0merror_handler\u001b[0m\u001b[1;33m.\u001b[0m\u001b[0mcheck_response\u001b[0m\u001b[1;33m(\u001b[0m\u001b[0mresponse\u001b[0m\u001b[1;33m)\u001b[0m\u001b[1;33m\u001b[0m\u001b[1;33m\u001b[0m\u001b[0m\n\u001b[0m\u001b[0;32m    445\u001b[0m             \u001b[0mresponse\u001b[0m\u001b[1;33m[\u001b[0m\u001b[1;34m\"value\"\u001b[0m\u001b[1;33m]\u001b[0m \u001b[1;33m=\u001b[0m \u001b[0mself\u001b[0m\u001b[1;33m.\u001b[0m\u001b[0m_unwrap_value\u001b[0m\u001b[1;33m(\u001b[0m\u001b[0mresponse\u001b[0m\u001b[1;33m.\u001b[0m\u001b[0mget\u001b[0m\u001b[1;33m(\u001b[0m\u001b[1;34m\"value\"\u001b[0m\u001b[1;33m,\u001b[0m \u001b[1;32mNone\u001b[0m\u001b[1;33m)\u001b[0m\u001b[1;33m)\u001b[0m\u001b[1;33m\u001b[0m\u001b[1;33m\u001b[0m\u001b[0m\n\u001b[0;32m    446\u001b[0m             \u001b[1;32mreturn\u001b[0m \u001b[0mresponse\u001b[0m\u001b[1;33m\u001b[0m\u001b[1;33m\u001b[0m\u001b[0m\n",
      "\u001b[1;32mc:\\ProgramData\\Anaconda3\\lib\\site-packages\\selenium\\webdriver\\remote\\errorhandler.py\u001b[0m in \u001b[0;36mcheck_response\u001b[1;34m(self, response)\u001b[0m\n\u001b[0;32m    247\u001b[0m                 \u001b[0malert_text\u001b[0m \u001b[1;33m=\u001b[0m \u001b[0mvalue\u001b[0m\u001b[1;33m[\u001b[0m\u001b[1;34m\"alert\"\u001b[0m\u001b[1;33m]\u001b[0m\u001b[1;33m.\u001b[0m\u001b[0mget\u001b[0m\u001b[1;33m(\u001b[0m\u001b[1;34m\"text\"\u001b[0m\u001b[1;33m)\u001b[0m\u001b[1;33m\u001b[0m\u001b[1;33m\u001b[0m\u001b[0m\n\u001b[0;32m    248\u001b[0m             \u001b[1;32mraise\u001b[0m \u001b[0mexception_class\u001b[0m\u001b[1;33m(\u001b[0m\u001b[0mmessage\u001b[0m\u001b[1;33m,\u001b[0m \u001b[0mscreen\u001b[0m\u001b[1;33m,\u001b[0m \u001b[0mstacktrace\u001b[0m\u001b[1;33m,\u001b[0m \u001b[0malert_text\u001b[0m\u001b[1;33m)\u001b[0m  \u001b[1;31m# type: ignore[call-arg]  # mypy is not smart enough here\u001b[0m\u001b[1;33m\u001b[0m\u001b[1;33m\u001b[0m\u001b[0m\n\u001b[1;32m--> 249\u001b[1;33m         \u001b[1;32mraise\u001b[0m \u001b[0mexception_class\u001b[0m\u001b[1;33m(\u001b[0m\u001b[0mmessage\u001b[0m\u001b[1;33m,\u001b[0m \u001b[0mscreen\u001b[0m\u001b[1;33m,\u001b[0m \u001b[0mstacktrace\u001b[0m\u001b[1;33m)\u001b[0m\u001b[1;33m\u001b[0m\u001b[1;33m\u001b[0m\u001b[0m\n\u001b[0m",
      "\u001b[1;31mNoSuchElementException\u001b[0m: Message: Unable to locate element: Continu\nStacktrace:\nRemoteError@chrome://remote/content/shared/RemoteError.sys.mjs:8:8\nWebDriverError@chrome://remote/content/shared/webdriver/Errors.sys.mjs:189:5\nNoSuchElementError@chrome://remote/content/shared/webdriver/Errors.sys.mjs:507:5\ndom.find/</<@chrome://remote/content/shared/DOM.sys.mjs:132:16\n"
     ]
    }
   ],
   "source": [
    "continue_link = driver.find_element(By.LINK_TEXT, 'Continu')\n",
    "\n"
   ]
  },
  {
   "cell_type": "code",
   "execution_count": 34,
   "id": "c8f96278",
   "metadata": {},
   "outputs": [
    {
     "data": {
      "text/plain": [
       "<selenium.webdriver.remote.webelement.WebElement (session=\"ef32ccc0-6f98-41da-b866-f9141d8738c5\", element=\"3999f291-fdcc-4b37-b3cd-6b17551502a2\")>"
      ]
     },
     "execution_count": 34,
     "metadata": {},
     "output_type": "execute_result"
    }
   ],
   "source": [
    "continue_link = driver.find_element(By.PARTIAL_LINK_TEXT, 'Continu')\n",
    "continue_link"
   ]
  },
  {
   "cell_type": "code",
   "execution_count": 33,
   "id": "d892a48f",
   "metadata": {},
   "outputs": [
    {
     "data": {
      "text/plain": [
       "<selenium.webdriver.remote.webelement.WebElement (session=\"ef32ccc0-6f98-41da-b866-f9141d8738c5\", element=\"3999f291-fdcc-4b37-b3cd-6b17551502a2\")>"
      ]
     },
     "execution_count": 33,
     "metadata": {},
     "output_type": "execute_result"
    }
   ],
   "source": [
    "continue_link = driver.find_element(By.PARTIAL_LINK_TEXT, 'Continu')\n",
    "continue_link"
   ]
  },
  {
   "cell_type": "code",
   "execution_count": 35,
   "metadata": {},
   "outputs": [
    {
     "data": {
      "text/plain": [
       "2"
      ]
     },
     "execution_count": 35,
     "metadata": {},
     "output_type": "execute_result"
    }
   ],
   "source": [
    "driver.refresh()\n",
    "continue_link = driver.find_elements(By.PARTIAL_LINK_TEXT, 'Cont')\n",
    "len(continue_link)"
   ]
  },
  {
   "cell_type": "code",
   "execution_count": null,
   "metadata": {},
   "outputs": [],
   "source": []
  },
  {
   "cell_type": "code",
   "execution_count": 36,
   "metadata": {},
   "outputs": [
    {
     "data": {
      "text/plain": [
       "'file:///d:/Data%20Science/semestre9/Webscraping/SCRAPING_DYNAMIQUE/continue.html'"
      ]
     },
     "execution_count": 36,
     "metadata": {},
     "output_type": "execute_result"
    }
   ],
   "source": [
    "continue_link[1].get_attribute('href')"
   ]
  },
  {
   "cell_type": "markdown",
   "metadata": {},
   "source": [
    "### 5. Localisation par **Tag Name**\n",
    "Utile lorsque l'on souhaite localiser un élément par Tag Name de balise.\n",
    "\n",
    "Le premier élément d'en-tête **h1** peut être atteint de la manière suivante "
   ]
  },
  {
   "cell_type": "code",
   "execution_count": 37,
   "metadata": {},
   "outputs": [],
   "source": [
    "driver.refresh()\n",
    "\n",
    "heading1 = driver.find_element(By.TAG_NAME, 'h1')"
   ]
  },
  {
   "cell_type": "code",
   "execution_count": 38,
   "metadata": {},
   "outputs": [
    {
     "data": {
      "text/plain": [
       "'Welcome'"
      ]
     },
     "execution_count": 38,
     "metadata": {},
     "output_type": "execute_result"
    }
   ],
   "source": [
    "heading1.text"
   ]
  },
  {
   "cell_type": "code",
   "execution_count": 39,
   "metadata": {},
   "outputs": [
    {
     "data": {
      "text/plain": [
       "1"
      ]
     },
     "execution_count": 39,
     "metadata": {},
     "output_type": "execute_result"
    }
   ],
   "source": [
    "headings = driver.find_elements(By.TAG_NAME, 'h1')\n",
    "len(headings)"
   ]
  },
  {
   "cell_type": "code",
   "execution_count": 40,
   "id": "e9b46e13",
   "metadata": {},
   "outputs": [
    {
     "data": {
      "text/plain": [
       "4"
      ]
     },
     "execution_count": 40,
     "metadata": {},
     "output_type": "execute_result"
    }
   ],
   "source": [
    "headings = driver.find_elements(By.TAG_NAME, 'a')\n",
    "len(headings)"
   ]
  },
  {
   "cell_type": "markdown",
   "metadata": {},
   "source": [
    "### 6. Localisation par Nom de Classe"
   ]
  },
  {
   "attachments": {},
   "cell_type": "markdown",
   "metadata": {},
   "source": [
    "l'attribut `By.CLASS_NAME` est utilisé pour localiser un élément par nom de classe"
   ]
  },
  {
   "cell_type": "code",
   "execution_count": 37,
   "metadata": {},
   "outputs": [],
   "source": [
    "content = driver.find_element(By.CLASS_NAME, 'content')"
   ]
  },
  {
   "cell_type": "code",
   "execution_count": 38,
   "metadata": {},
   "outputs": [
    {
     "data": {
      "text/plain": [
       "'vas-y'"
      ]
     },
     "execution_count": 38,
     "metadata": {},
     "output_type": "execute_result"
    }
   ],
   "source": [
    "content.text"
   ]
  },
  {
   "cell_type": "code",
   "execution_count": 39,
   "metadata": {},
   "outputs": [
    {
     "data": {
      "text/plain": [
       "'a'"
      ]
     },
     "execution_count": 39,
     "metadata": {},
     "output_type": "execute_result"
    }
   ],
   "source": [
    "content.tag_name"
   ]
  },
  {
   "attachments": {},
   "cell_type": "markdown",
   "metadata": {},
   "source": [
    "### 7. Localisation des éléments par les sélecteurs CSS \n",
    "\n",
    "`By.CSS_SELECTOR` est utilisé pour atteindre un élément à l'aide de la syntaxe du sélecteur CSS.  \n",
    "\n",
    "Un sélecteur CSS est une combinaison d'un sélecteur d'élément et d'une valeur qui identifie l'élément web dans une page web. Ce sont des représentations sous forme de chaîne des balises HTML, des attributs, des identifiants (Id) et des classes (Class).  \n",
    "\n",
    "Se référer aux  [tips de selenium avec css selectors](https://saucelabs.com/resources/blog/selenium-tips-css-selectors) pour une compréhension rapide. "
   ]
  },
  {
   "cell_type": "code",
   "execution_count": 41,
   "metadata": {},
   "outputs": [],
   "source": [
    "content = driver.find_element(By.CSS_SELECTOR, 'a.content')"
   ]
  },
  {
   "cell_type": "code",
   "execution_count": 42,
   "metadata": {},
   "outputs": [
    {
     "data": {
      "text/plain": [
       "'vas-y'"
      ]
     },
     "execution_count": 42,
     "metadata": {},
     "output_type": "execute_result"
    }
   ],
   "source": [
    "content.text"
   ]
  },
  {
   "cell_type": "code",
   "execution_count": null,
   "id": "24e0bc36",
   "metadata": {},
   "outputs": [],
   "source": []
  },
  {
   "cell_type": "markdown",
   "id": "0457f910",
   "metadata": {},
   "source": [
    "Quitter/Ferme le navigateur"
   ]
  },
  {
   "cell_type": "code",
   "execution_count": 43,
   "metadata": {},
   "outputs": [],
   "source": [
    "time.sleep(10)\n",
    "driver.quit()\n"
   ]
  },
  {
   "cell_type": "markdown",
   "metadata": {},
   "source": [
    "### Connexion a Facebook"
   ]
  },
  {
   "cell_type": "code",
   "execution_count": 44,
   "metadata": {},
   "outputs": [],
   "source": [
    "# Création de l'instance driver chrome\n",
    "from selenium.webdriver.chrome.options import Options\n",
    "from selenium import webdriver \n",
    "options = Options()\n",
    "driver = webdriver.Chrome()\n",
    "\n",
    "# Demander au driver d'appler sur Facebook\n",
    "driver.get(\"https://www.facebook.com/\")\n",
    "\n",
    "# import time\n",
    "# time.sleep(10)\n",
    "# driver.quit()"
   ]
  },
  {
   "cell_type": "markdown",
   "metadata": {},
   "source": [
    " Une nouvelle instance de Google Chrome devrait apparaître et vous amener sur le site demandé.\n",
    " \n",
    " Revenons à notre code, en supposant que nous ayions déjà des informations d'identification Facebook. Nous voulons dire à Selenium de cliquer sur le  lien de Connexion en bleu\n",
    " \n",
    "Dans la fenêtre de Google Chrome, faites un clic droit sur le lien bleu de connexion. Vous voulez cliquer sur **inspecter**, et copier le Xpath.\n",
    "\n",
    "Vous devriez avoir un truc de ce genre : `//*[@id=\"u_0_d_zc\"]`"
   ]
  },
  {
   "cell_type": "markdown",
   "metadata": {},
   "source": [
    "De même, il s'agit du même processus pour les champs de saisie du nom d'utilisateur, du mot de passe et du bouton de connexion."
   ]
  },
  {
   "cell_type": "code",
   "execution_count": 45,
   "metadata": {},
   "outputs": [],
   "source": [
    "username_input = '//*[@id=\"email\"]'\n",
    "\n",
    "password_input = '//*[@id=\"pass\"]'\n",
    "\n",
    "# login_submit = '//*[@id=\"u_0_d_/e\"]'\n",
    "\n",
    "login_submit = '//*[@id=\"u_0_5_2B\"]'"
   ]
  },
  {
   "cell_type": "markdown",
   "metadata": {},
   "source": [
    "Maintenant nous voulons que Selenium remplisse ces champs avec notre nom d'utilisateur et notre mot de passe. \n",
    "\n",
    "Selenium a une méthode appelée **send_keys** qui nous permet d'automatiser facilement la saisie. Nous avons juste mis une chaîne là-dedans et elle tapera pour nous. Nous pouvons simplement essayer des variables factices, pour l'instant, pour voir si cela fonctionne. Essayez également de vous connecter en sachant que nous serons rejetés."
   ]
  },
  {
   "cell_type": "code",
   "execution_count": 48,
   "metadata": {},
   "outputs": [],
   "source": [
    "\n",
    "import acces_connexion\n",
    "email = acces_connexion.login\n",
    "password = acces_connexion.password\n",
    "# from acces import email, password\n",
    "time.sleep(5)\n",
    "driver.find_element(By.XPATH, username_input).send_keys(email)\n",
    "time.sleep(5)\n",
    "driver.find_element(By.XPATH, password_input).send_keys(password)\n"
   ]
  },
  {
   "cell_type": "markdown",
   "id": "46ce8778",
   "metadata": {},
   "source": [
    "Cliquer pour se connecter"
   ]
  },
  {
   "cell_type": "code",
   "execution_count": 49,
   "id": "8f708e2d",
   "metadata": {},
   "outputs": [
    {
     "ename": "NoSuchElementException",
     "evalue": "Message: no such element: Unable to locate element: {\"method\":\"xpath\",\"selector\":\"//*[@id=\"u_0_5_2B\"]\"}\n  (Session info: chrome=130.0.6723.119); For documentation on this error, please visit: https://www.selenium.dev/documentation/webdriver/troubleshooting/errors#no-such-element-exception\nStacktrace:\n\tGetHandleVerifier [0x00007FF711D938A5+3004357]\n\t(No symbol) [0x00007FF711A29970]\n\t(No symbol) [0x00007FF7118D582A]\n\t(No symbol) [0x00007FF711925B8E]\n\t(No symbol) [0x00007FF711925E7C]\n\t(No symbol) [0x00007FF71196EC27]\n\t(No symbol) [0x00007FF71194BC1F]\n\t(No symbol) [0x00007FF71196BA4C]\n\t(No symbol) [0x00007FF71194B983]\n\t(No symbol) [0x00007FF711917628]\n\t(No symbol) [0x00007FF711918791]\n\tGetHandleVerifier [0x00007FF711DBA00D+3161901]\n\tGetHandleVerifier [0x00007FF711E0E060+3506048]\n\tGetHandleVerifier [0x00007FF711E0400D+3465005]\n\tGetHandleVerifier [0x00007FF711B80EEB+830987]\n\t(No symbol) [0x00007FF711A3467F]\n\t(No symbol) [0x00007FF711A309D4]\n\t(No symbol) [0x00007FF711A30B6D]\n\t(No symbol) [0x00007FF711A20149]\n\tBaseThreadInitThunk [0x00007FFF94A37374+20]\n\tRtlUserThreadStart [0x00007FFF94B7CC91+33]\n",
     "output_type": "error",
     "traceback": [
      "\u001b[1;31m---------------------------------------------------------------------------\u001b[0m",
      "\u001b[1;31mNoSuchElementException\u001b[0m                    Traceback (most recent call last)",
      "Cell \u001b[1;32mIn[49], line 2\u001b[0m\n\u001b[0;32m      1\u001b[0m time\u001b[38;5;241m.\u001b[39msleep(\u001b[38;5;241m8\u001b[39m)\n\u001b[1;32m----> 2\u001b[0m \u001b[43mdriver\u001b[49m\u001b[38;5;241;43m.\u001b[39;49m\u001b[43mfind_element\u001b[49m\u001b[43m(\u001b[49m\u001b[43mBy\u001b[49m\u001b[38;5;241;43m.\u001b[39;49m\u001b[43mXPATH\u001b[49m\u001b[43m,\u001b[49m\u001b[43m \u001b[49m\u001b[43mlogin_submit\u001b[49m\u001b[43m)\u001b[49m\u001b[38;5;241m.\u001b[39mclick()\n",
      "File \u001b[1;32mc:\\Users\\Yao Simlin\\AppData\\Local\\Programs\\Python\\Python310\\lib\\site-packages\\selenium\\webdriver\\remote\\webdriver.py:766\u001b[0m, in \u001b[0;36mWebDriver.find_element\u001b[1;34m(self, by, value)\u001b[0m\n\u001b[0;32m    763\u001b[0m         \u001b[38;5;28;01mraise\u001b[39;00m NoSuchElementException(\u001b[38;5;124mf\u001b[39m\u001b[38;5;124m\"\u001b[39m\u001b[38;5;124mCannot locate relative element with: \u001b[39m\u001b[38;5;132;01m{\u001b[39;00mby\u001b[38;5;241m.\u001b[39mroot\u001b[38;5;132;01m}\u001b[39;00m\u001b[38;5;124m\"\u001b[39m)\n\u001b[0;32m    764\u001b[0m     \u001b[38;5;28;01mreturn\u001b[39;00m elements[\u001b[38;5;241m0\u001b[39m]\n\u001b[1;32m--> 766\u001b[0m \u001b[38;5;28;01mreturn\u001b[39;00m \u001b[38;5;28;43mself\u001b[39;49m\u001b[38;5;241;43m.\u001b[39;49m\u001b[43mexecute\u001b[49m\u001b[43m(\u001b[49m\u001b[43mCommand\u001b[49m\u001b[38;5;241;43m.\u001b[39;49m\u001b[43mFIND_ELEMENT\u001b[49m\u001b[43m,\u001b[49m\u001b[43m \u001b[49m\u001b[43m{\u001b[49m\u001b[38;5;124;43m\"\u001b[39;49m\u001b[38;5;124;43musing\u001b[39;49m\u001b[38;5;124;43m\"\u001b[39;49m\u001b[43m:\u001b[49m\u001b[43m \u001b[49m\u001b[43mby\u001b[49m\u001b[43m,\u001b[49m\u001b[43m \u001b[49m\u001b[38;5;124;43m\"\u001b[39;49m\u001b[38;5;124;43mvalue\u001b[39;49m\u001b[38;5;124;43m\"\u001b[39;49m\u001b[43m:\u001b[49m\u001b[43m \u001b[49m\u001b[43mvalue\u001b[49m\u001b[43m}\u001b[49m\u001b[43m)\u001b[49m[\u001b[38;5;124m\"\u001b[39m\u001b[38;5;124mvalue\u001b[39m\u001b[38;5;124m\"\u001b[39m]\n",
      "File \u001b[1;32mc:\\Users\\Yao Simlin\\AppData\\Local\\Programs\\Python\\Python310\\lib\\site-packages\\selenium\\webdriver\\remote\\webdriver.py:380\u001b[0m, in \u001b[0;36mWebDriver.execute\u001b[1;34m(self, driver_command, params)\u001b[0m\n\u001b[0;32m    378\u001b[0m response \u001b[38;5;241m=\u001b[39m \u001b[38;5;28mself\u001b[39m\u001b[38;5;241m.\u001b[39mcommand_executor\u001b[38;5;241m.\u001b[39mexecute(driver_command, params)\n\u001b[0;32m    379\u001b[0m \u001b[38;5;28;01mif\u001b[39;00m response:\n\u001b[1;32m--> 380\u001b[0m     \u001b[38;5;28;43mself\u001b[39;49m\u001b[38;5;241;43m.\u001b[39;49m\u001b[43merror_handler\u001b[49m\u001b[38;5;241;43m.\u001b[39;49m\u001b[43mcheck_response\u001b[49m\u001b[43m(\u001b[49m\u001b[43mresponse\u001b[49m\u001b[43m)\u001b[49m\n\u001b[0;32m    381\u001b[0m     response[\u001b[38;5;124m\"\u001b[39m\u001b[38;5;124mvalue\u001b[39m\u001b[38;5;124m\"\u001b[39m] \u001b[38;5;241m=\u001b[39m \u001b[38;5;28mself\u001b[39m\u001b[38;5;241m.\u001b[39m_unwrap_value(response\u001b[38;5;241m.\u001b[39mget(\u001b[38;5;124m\"\u001b[39m\u001b[38;5;124mvalue\u001b[39m\u001b[38;5;124m\"\u001b[39m, \u001b[38;5;28;01mNone\u001b[39;00m))\n\u001b[0;32m    382\u001b[0m     \u001b[38;5;28;01mreturn\u001b[39;00m response\n",
      "File \u001b[1;32mc:\\Users\\Yao Simlin\\AppData\\Local\\Programs\\Python\\Python310\\lib\\site-packages\\selenium\\webdriver\\remote\\errorhandler.py:229\u001b[0m, in \u001b[0;36mErrorHandler.check_response\u001b[1;34m(self, response)\u001b[0m\n\u001b[0;32m    227\u001b[0m         alert_text \u001b[38;5;241m=\u001b[39m value[\u001b[38;5;124m\"\u001b[39m\u001b[38;5;124malert\u001b[39m\u001b[38;5;124m\"\u001b[39m]\u001b[38;5;241m.\u001b[39mget(\u001b[38;5;124m\"\u001b[39m\u001b[38;5;124mtext\u001b[39m\u001b[38;5;124m\"\u001b[39m)\n\u001b[0;32m    228\u001b[0m     \u001b[38;5;28;01mraise\u001b[39;00m exception_class(message, screen, stacktrace, alert_text)  \u001b[38;5;66;03m# type: ignore[call-arg]  # mypy is not smart enough here\u001b[39;00m\n\u001b[1;32m--> 229\u001b[0m \u001b[38;5;28;01mraise\u001b[39;00m exception_class(message, screen, stacktrace)\n",
      "\u001b[1;31mNoSuchElementException\u001b[0m: Message: no such element: Unable to locate element: {\"method\":\"xpath\",\"selector\":\"//*[@id=\"u_0_5_2B\"]\"}\n  (Session info: chrome=130.0.6723.119); For documentation on this error, please visit: https://www.selenium.dev/documentation/webdriver/troubleshooting/errors#no-such-element-exception\nStacktrace:\n\tGetHandleVerifier [0x00007FF711D938A5+3004357]\n\t(No symbol) [0x00007FF711A29970]\n\t(No symbol) [0x00007FF7118D582A]\n\t(No symbol) [0x00007FF711925B8E]\n\t(No symbol) [0x00007FF711925E7C]\n\t(No symbol) [0x00007FF71196EC27]\n\t(No symbol) [0x00007FF71194BC1F]\n\t(No symbol) [0x00007FF71196BA4C]\n\t(No symbol) [0x00007FF71194B983]\n\t(No symbol) [0x00007FF711917628]\n\t(No symbol) [0x00007FF711918791]\n\tGetHandleVerifier [0x00007FF711DBA00D+3161901]\n\tGetHandleVerifier [0x00007FF711E0E060+3506048]\n\tGetHandleVerifier [0x00007FF711E0400D+3465005]\n\tGetHandleVerifier [0x00007FF711B80EEB+830987]\n\t(No symbol) [0x00007FF711A3467F]\n\t(No symbol) [0x00007FF711A309D4]\n\t(No symbol) [0x00007FF711A30B6D]\n\t(No symbol) [0x00007FF711A20149]\n\tBaseThreadInitThunk [0x00007FFF94A37374+20]\n\tRtlUserThreadStart [0x00007FFF94B7CC91+33]\n"
     ]
    }
   ],
   "source": [
    "time.sleep(8)\n",
    "driver.find_element(By.XPATH, login_submit).click()"
   ]
  },
  {
   "cell_type": "code",
   "execution_count": 50,
   "metadata": {},
   "outputs": [],
   "source": [
    "time.sleep(8)\n",
    "driver.quit()"
   ]
  },
  {
   "cell_type": "code",
   "execution_count": null,
   "metadata": {},
   "outputs": [],
   "source": []
  }
 ],
 "metadata": {
  "kernelspec": {
   "display_name": "Python 3",
   "language": "python",
   "name": "python3"
  },
  "language_info": {
   "codemirror_mode": {
    "name": "ipython",
    "version": 3
   },
   "file_extension": ".py",
   "mimetype": "text/x-python",
   "name": "python",
   "nbconvert_exporter": "python",
   "pygments_lexer": "ipython3",
   "version": "3.10.0"
  }
 },
 "nbformat": 4,
 "nbformat_minor": 5
}
