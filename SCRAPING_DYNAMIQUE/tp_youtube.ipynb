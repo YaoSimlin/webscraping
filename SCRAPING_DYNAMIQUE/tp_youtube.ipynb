{
 "cells": [
  {
   "cell_type": "markdown",
   "metadata": {},
   "source": [
    "# YOUTUBE"
   ]
  },
  {
   "cell_type": "markdown",
   "metadata": {},
   "source": [
    "Dans cette session, nous allons collecter des infos sur des vidéos YOUTUBE.  \n",
    "Il s'agira de : \n",
    "\n",
    "- se connecter à YOUTUBE\n",
    "- Rechercher une vidéo avec un motif"
   ]
  },
  {
   "cell_type": "markdown",
   "metadata": {},
   "source": [
    "- Le titre de la vidéo.\n",
    "- Le lien ou l’URL de la vidéo.\n",
    "- Le lien ou l’URL de l’image.\n",
    "- Le nombre de vues de la vidéo considérée.\n",
    "- L’heure à laquelle la vidéo a été publiée.\n",
    "- Commentaires d’une URL de vidéo YouTube donnée.\n",
    "/html/head/link[20]\n",
    "head > link:nth-child(51)\n"
   ]
  },
  {
   "cell_type": "code",
   "execution_count": 3,
   "metadata": {},
   "outputs": [],
   "source": [
    "from bs4 import BeautifulSoup\n",
    "from selenium import webdriver \n",
    "from selenium.webdriver.common.by import By "
   ]
  },
  {
   "cell_type": "code",
   "execution_count": 2,
   "metadata": {},
   "outputs": [],
   "source": []
  },
  {
   "cell_type": "code",
   "execution_count": 4,
   "metadata": {},
   "outputs": [
    {
     "name": "stdout",
     "output_type": "stream",
     "text": [
      "https://www.youtube.com/\n"
     ]
    }
   ],
   "source": [
    "import os\n",
    "from selenium.webdriver.firefox.options import Options\n",
    "\n",
    "options = Options()\n",
    "options.binary_location = \"C:/Program Files/Mozilla Firefox/firefox.exe\"\n",
    "driver = webdriver.Firefox(options=options)\n",
    "\n",
    "# On va sur notre page YOUTUBE\n",
    "url = 'https://www.youtube.com/'\n",
    "print(url)\n",
    "driver.get(url)\n"
   ]
  },
  {
   "cell_type": "code",
   "execution_count": null,
   "metadata": {},
   "outputs": [],
   "source": [
    "#description-inline-expander\n",
    "#expand\n"
   ]
  },
  {
   "cell_type": "code",
   "execution_count": 18,
   "metadata": {},
   "outputs": [],
   "source": [
    "search = driver.find_element(By.ID, 'search-input').find_element(By.ID, 'search')"
   ]
  },
  {
   "cell_type": "code",
   "execution_count": 19,
   "metadata": {},
   "outputs": [
    {
     "data": {
      "text/plain": [
       "'input'"
      ]
     },
     "execution_count": 19,
     "metadata": {},
     "output_type": "execute_result"
    }
   ],
   "source": [
    "search.tag_name"
   ]
  },
  {
   "cell_type": "code",
   "execution_count": 28,
   "metadata": {},
   "outputs": [],
   "source": [
    "search.send_keys('Magic System Feat Yemi Alade & Mohamed Ramadan - Akwaba')"
   ]
  },
  {
   "cell_type": "code",
   "execution_count": 30,
   "metadata": {},
   "outputs": [],
   "source": [
    "lunch_search = driver.find_element(By.ID, 'search-icon-legacy')"
   ]
  },
  {
   "cell_type": "code",
   "execution_count": 32,
   "metadata": {},
   "outputs": [],
   "source": [
    "# from selenium.webdriver.support.ui import WebDriverWait\n",
    "# from selenium.webdriver.support import expected_conditions as EC\n",
    "import time\n",
    "time.sleep(5)\n",
    "lunch_search.click()"
   ]
  },
  {
   "cell_type": "code",
   "execution_count": 38,
   "metadata": {},
   "outputs": [],
   "source": [
    "liste_videos = driver.find_elements(By.TAG_NAME, 'ytd-video-renderer')"
   ]
  },
  {
   "cell_type": "code",
   "execution_count": 43,
   "metadata": {},
   "outputs": [
    {
     "data": {
      "text/plain": [
       "\"3:40\\nMagic System Feat Yemi Alade & Mohamed Ramadan - Akwaba [Clip Officiel] [Official Music Video]\\n5,3 M de vues\\nil y a 1 mois\\nMagic System Officiel\\nMagic System Feat @YemiAlade & @MohamedRamadan - Akwaba Hymne Officiel de la COUPE D'AFRIQUE DES NATIONS ...\\n4K\""
      ]
     },
     "execution_count": 43,
     "metadata": {},
     "output_type": "execute_result"
    }
   ],
   "source": [
    "video_can = liste_videos[0]\n",
    "video_can.tag_name\n",
    "video_can = video_can.find_element(By.ID, 'dismissible')\n",
    "video_can.text"
   ]
  },
  {
   "cell_type": "code",
   "execution_count": 21,
   "metadata": {},
   "outputs": [],
   "source": [
    "clear_search = driver.find_element(By.ID, 'search-clear-button')"
   ]
  },
  {
   "cell_type": "code",
   "execution_count": 25,
   "metadata": {},
   "outputs": [],
   "source": [
    "clear_search = clear_search.find_element(By.CLASS_NAME, 'yt-spec-button-shape-next')"
   ]
  },
  {
   "cell_type": "code",
   "execution_count": 27,
   "metadata": {},
   "outputs": [],
   "source": [
    "clear_search.click()"
   ]
  },
  {
   "cell_type": "code",
   "execution_count": 48,
   "metadata": {},
   "outputs": [],
   "source": [
    "from selenium.webdriver.common.keys import Keys\n",
    "driver.find_element(By.TAG_NAME, 'body').send_keys(Keys.END)"
   ]
  },
  {
   "cell_type": "code",
   "execution_count": null,
   "metadata": {},
   "outputs": [],
   "source": []
  }
 ],
 "metadata": {
  "kernelspec": {
   "display_name": "base",
   "language": "python",
   "name": "python3"
  },
  "language_info": {
   "codemirror_mode": {
    "name": "ipython",
    "version": 3
   },
   "file_extension": ".py",
   "mimetype": "text/x-python",
   "name": "python",
   "nbconvert_exporter": "python",
   "pygments_lexer": "ipython3",
   "version": "3.9.7"
  }
 },
 "nbformat": 4,
 "nbformat_minor": 2
}
