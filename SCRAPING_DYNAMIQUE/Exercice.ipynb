{
 "cells": [
  {
   "attachments": {},
   "cell_type": "markdown",
   "metadata": {},
   "source": [
    "Ecrire un script Python qui cherche la sginfication d'un mot *nouchi* sur le site http://www.nouchi.com/dico.html\n",
    "et également le(s) synonyme(s) de ce mot s'il y en a."
   ]
  },
  {
   "cell_type": "markdown",
   "id": "eaa5817f",
   "metadata": {},
   "source": []
  }
 ],
 "metadata": {
  "kernelspec": {
   "display_name": "Python 3",
   "language": "python",
   "name": "python3"
  },
  "language_info": {
   "codemirror_mode": {
    "name": "ipython",
    "version": 3
   },
   "file_extension": ".py",
   "mimetype": "text/x-python",
   "name": "python",
   "nbconvert_exporter": "python",
   "pygments_lexer": "ipython3",
   "version": "3.11.0 (main, Oct 24 2022, 18:26:48) [MSC v.1933 64 bit (AMD64)]"
  },
  "vscode": {
   "interpreter": {
    "hash": "d7d7f1b9f669b2beac7276681914b8f16ac3272f418d2c706df963e08932ded5"
   }
  }
 },
 "nbformat": 4,
 "nbformat_minor": 5
}
