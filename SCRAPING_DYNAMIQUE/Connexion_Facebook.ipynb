{
 "cells": [
  {
   "cell_type": "code",
   "execution_count": null,
   "metadata": {},
   "outputs": [],
   "source": []
  },
  {
   "cell_type": "code",
   "execution_count": 1,
   "metadata": {},
   "outputs": [],
   "source": [
    "from bs4 import BeautifulSoup\n",
    "from selenium import webdriver \n",
    "from selenium.webdriver.common.by import By \n",
    "\n",
    "import time"
   ]
  },
  {
   "cell_type": "code",
   "execution_count": null,
   "metadata": {},
   "outputs": [],
   "source": []
  },
  {
   "cell_type": "markdown",
   "metadata": {},
   "source": [
    "### Connexion a Facebook"
   ]
  },
  {
   "cell_type": "code",
   "execution_count": 2,
   "metadata": {},
   "outputs": [],
   "source": [
    "import os"
   ]
  },
  {
   "cell_type": "code",
   "execution_count": 3,
   "metadata": {},
   "outputs": [
    {
     "data": {
      "text/plain": [
       "'c:\\\\Users\\\\Utilisateur\\\\Documents\\\\FORMATIONS\\\\WEB_SCRAPING\\\\PRATIQUES_WEB_SCRAPING\\\\SCRAPING_DYNAMIQUE'"
      ]
     },
     "execution_count": 3,
     "metadata": {},
     "output_type": "execute_result"
    }
   ],
   "source": [
    "os.getcwd()"
   ]
  },
  {
   "cell_type": "code",
   "execution_count": 4,
   "metadata": {},
   "outputs": [],
   "source": [
    "#D@g3n@9919\n"
   ]
  },
  {
   "attachments": {},
   "cell_type": "markdown",
   "metadata": {},
   "source": [
    "### 1. Via Chrome"
   ]
  },
  {
   "cell_type": "markdown",
   "metadata": {},
   "source": [
    "Assurez-vous de :   \n",
    "- utiliser la version chromedriver compatible avec votre navigateur.\n",
    "- Ajouter le chromedriver à la variable d'environnement PATH de votre système.\n"
   ]
  },
  {
   "cell_type": "code",
   "execution_count": 5,
   "metadata": {},
   "outputs": [],
   "source": [
    "from selenium.webdriver.chrome.options import Options\n",
    "from selenium import webdriver \n",
    "options = Options()\n",
    "# options.binary_location = \"C:\\\\Program Files (x86)\\\\Google\\\\Chrome\\\\Application\\\\chrome.exe\"\n",
    "# options.binary_location = \"../WEB_DRIVERS/chromedriver.exe\"\n",
    "# executable_path = \"../WEB_DRIVERS/chromedriver.exe\"\n",
    "# driver = webdriver.Chrome(executable_path=executable_path)\n",
    "driver = webdriver.Chrome()\n",
    "\n",
    "\n"
   ]
  },
  {
   "cell_type": "code",
   "execution_count": 6,
   "metadata": {},
   "outputs": [],
   "source": [
    "import selenium\n",
    "from selenium import webdriver\n",
    "\n",
    "driver = webdriver.Chrome()\n",
    "\n",
    "url = 'https://en.wikipedia.org/wiki/Main_Page'\n",
    "driver.get(url)"
   ]
  },
  {
   "cell_type": "code",
   "execution_count": 7,
   "metadata": {},
   "outputs": [],
   "source": [
    "\n",
    "# Demander au driver d'appler sur Facebook\n",
    "url = 'https://m.facebook.com/groups/consommateurs.abidjan'\n",
    "# driver.get(\"https://www.facebook.com/\")\n",
    "driver.get(url)"
   ]
  },
  {
   "attachments": {},
   "cell_type": "markdown",
   "metadata": {},
   "source": [
    " Une nouvelle instance de Google Chrome devrait apparaître et vous amener sur le site demandé.\n",
    " \n",
    " Revenons à notre code, en supposant que nous ayons déjà des informations d'identification Facebook. Nous voulons dire à Sélénium de cliquer sur le  lien de Connexion en bleu\n",
    " \n",
    "Dans la fenêtre de Google Chrome, faites un clic droit sur le lien bleu de connexion. Vous voulez cliquer sur **inspecter**, et copier le Xpath.\n",
    "\n",
    "Vous devriez avoir un truc de ce genre : `//*[@id=\"u_0_d_zc\"]`  "
   ]
  },
  {
   "cell_type": "markdown",
   "metadata": {},
   "source": [
    "De même, il s'agit du même processus pour les champs de saisie du nom d'utilisateur, du mot de passe et du bouton de connexion."
   ]
  },
  {
   "cell_type": "code",
   "execution_count": 24,
   "metadata": {},
   "outputs": [],
   "source": [
    "username_input = '//*[@id=\"email\"]' # /html/body/div[1]/div[1]/div[1]/div/div/div/div[2]/div/div[1]/form/div[1]/div[1]/input\n",
    "\n",
    "password_input = '//*[@id=\"pass\"]' # /html/body/div[1]/div[1]/div[1]/div/div/div/div[2]/div/div[1]/form/div[1]/div[2]/div/input\n",
    "\n",
    "login_submit = '//*[@id=\"u_0_5_Hx\"]' # /html/body/div[1]/div[1]/div[1]/div/div/div/div[2]/div/div[1]/form/div[2]/button"
   ]
  },
  {
   "cell_type": "markdown",
   "metadata": {},
   "source": [
    "Maintenant nous voulons que Selenium remplisse ces champs avec notre nom d'utilisateur et notre mot de passe. \n",
    "\n",
    "Selenium a une méthode appelée **send_keys** qui nous permet d'automatiser facilement la saisie. Nous avons juste mis une chaîne là-dedans et elle tapera pour nous. Nous pouvons simplement essayer des variables factices, pour l'instant, pour voir si cela fonctionne. Essayez également de vous connecter en sachant que nous serons rejetés."
   ]
  },
  {
   "cell_type": "code",
   "execution_count": 29,
   "metadata": {},
   "outputs": [],
   "source": [
    "import acces_connexion\n",
    "email = acces_connexion.login\n",
    "password = acces_connexion.password\n",
    "# from acces import email, password\n",
    "driver.find_element(By.XPATH, username_input).send_keys(email)\n",
    "driver.find_element(By.XPATH, password_input).send_keys(password)\n",
    "driver.find_element(By.XPATH, login_submit).click()"
   ]
  },
  {
   "cell_type": "code",
   "execution_count": null,
   "metadata": {},
   "outputs": [],
   "source": []
  },
  {
   "cell_type": "code",
   "execution_count": 32,
   "metadata": {},
   "outputs": [],
   "source": [
    "driver.quit()"
   ]
  },
  {
   "attachments": {},
   "cell_type": "markdown",
   "metadata": {},
   "source": [
    "### 2. Via Firefox "
   ]
  },
  {
   "cell_type": "code",
   "execution_count": 17,
   "metadata": {},
   "outputs": [],
   "source": [
    "\n",
    "from selenium.webdriver.firefox.options import Options\n",
    "\n",
    "options = Options()\n",
    "# gecko_driver_path = \"../web_drivers/geckodriver.exe\"\n",
    "# Specifiez le chemin de votre Firefox\n",
    "options.binary_location = \"C:/Program Files/Mozilla Firefox/firefox.exe\"\n",
    "\n",
    "# Création d'une instance driver\n",
    "driver = webdriver.Firefox(options=options)\n",
    "\n",
    "# Demander au driver d'appler sur Facebook\n",
    "driver.get(\"https://www.facebook.com/\")"
   ]
  },
  {
   "cell_type": "code",
   "execution_count": 18,
   "metadata": {},
   "outputs": [],
   "source": [
    "username_input = '//*[@id=\"email\"]' # /html/body/div[1]/div[1]/div[1]/div/div/div/div[2]/div/div[1]/form/div[1]/div[1]/input\n",
    "\n",
    "password_input = '//*[@id=\"pass\"]' # /html/body/div[1]/div[1]/div[1]/div/div/div/div[2]/div/div[1]/form/div[1]/div[2]/div/input\n",
    "\n",
    "login_submit = '//*[@name=\"login\"]' # /html/body/div[1]/div[1]/div[1]/div/div/div/div[2]/div/div[1]/form/div[2]/button"
   ]
  },
  {
   "cell_type": "code",
   "execution_count": 19,
   "metadata": {},
   "outputs": [
    {
     "name": "stdout",
     "output_type": "stream",
     "text": [
      "xxxxxxxxxx@xxxxx.xxx\n",
      "xxxxxxxxx\n"
     ]
    }
   ],
   "source": [
    "import acces_connexion\n",
    "email = acces_connexion.login\n",
    "print(email)\n",
    "password = acces_connexion.password\n",
    "print(password)\n",
    "driver.refresh()\n",
    "time.sleep(5)\n",
    "# from acces import email, password\n",
    "driver.find_element(By.XPATH, username_input).send_keys(email)\n",
    "driver.find_element(By.XPATH, password_input).send_keys(password)\n",
    "time.sleep(5)\n",
    "driver.find_element(By.XPATH, login_submit).click()"
   ]
  },
  {
   "cell_type": "code",
   "execution_count": null,
   "metadata": {},
   "outputs": [],
   "source": []
  },
  {
   "cell_type": "code",
   "execution_count": 15,
   "metadata": {},
   "outputs": [],
   "source": [
    "driver.quit()"
   ]
  },
  {
   "attachments": {},
   "cell_type": "markdown",
   "metadata": {},
   "source": [
    "+0.5 aux étudiants suivants :  \n",
    "\n",
    "1. Brou Koffi Roland  \n",
    "2. Bessé Ange\n",
    "3. Zrouama \n",
    "4. N'Gouan\n",
    "5. Delma\n",
    "6. Kouadio Alyou"
   ]
  },
  {
   "cell_type": "markdown",
   "metadata": {},
   "source": []
  }
 ],
 "metadata": {
  "kernelspec": {
   "display_name": "base",
   "language": "python",
   "name": "python3"
  },
  "language_info": {
   "codemirror_mode": {
    "name": "ipython",
    "version": 3
   },
   "file_extension": ".py",
   "mimetype": "text/x-python",
   "name": "python",
   "nbconvert_exporter": "python",
   "pygments_lexer": "ipython3",
   "version": "3.9.7"
  },
  "vscode": {
   "interpreter": {
    "hash": "ad2bdc8ecc057115af97d19610ffacc2b4e99fae6737bb82f5d7fb13d2f2c186"
   }
  }
 },
 "nbformat": 4,
 "nbformat_minor": 4
}
