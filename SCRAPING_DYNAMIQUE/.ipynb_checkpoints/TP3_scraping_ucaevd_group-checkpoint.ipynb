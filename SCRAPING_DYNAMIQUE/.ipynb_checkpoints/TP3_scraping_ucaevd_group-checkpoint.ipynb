{
 "cells": [
  {
   "cell_type": "markdown",
   "metadata": {},
   "source": [
    "<h1>  <center> SCRAPING DE GROUPE PUBLIC FACEBOOK</center> </h1>"
   ]
  },
  {
   "cell_type": "markdown",
   "metadata": {},
   "source": [
    "\n",
    "Cette partie sera consacrée à l'étude de la **E-REPUTATION** d'une marque/entreprise/personnalité (selon le besoin) sur les réseaux sociaux ; en particulier sur un **groupe FACEBOOK**.\n",
    "\n",
    "\n",
    "La e-réputation, c'est tout simplement l'idée ou l'opinion qu'a le public envers une personne, une entreprise, un groupe, ou une organisation sur le net. Il est donc important de connaître les plateformes externes vers lesquelles vos clients ou prospects pourraient potentiellement se tourner pour y exprimer leurs sentiments vis-à-vis de vos différents services.\n",
    "\n",
    "Un lieu sûr, les réseaux sociaux :  Facebook, WhatsApp, Twitter, Instagram, ... \n",
    "\n",
    "\n",
    ". | .\n",
    "- | - \n",
    "![alt](images/ereputation_1.png) | ![alt](images/ereputation_2.png)\n",
    "\n",
    "\n",
    "Là, Tout est relax !!! les internautes peuvent se plaindre comme ils le souhaitent;    \n",
    "Attention !!! Il vous faudra porter une attention particulière aux influenceurs. Ces derniers peuvent influer la perception de ses abonnés ou fans sur votre marque/organisation/marque.\n",
    "\n"
   ]
  },
  {
   "cell_type": "markdown",
   "metadata": {},
   "source": [
    "L'idéal serait donc de parvenir à surveiller de prêt, sur toutes les plateformes en lignes, l'opinion du public sur votre entreprise.  \n",
    "  \n",
    "  \n",
    "## Mais comment y parvenir ?\n",
    "\n",
    "\n",
    "Des entités optent pour le recrutement de ressources humaines dédiées spécialement à la réalisation ces tâches.  \n",
    "\n",
    "Imaginez-vous à la place de ces personnes😲😲😲.   \n",
    "Rester scotché devant son écran attendant qu'un internaute porte un jugement pour/contre votre entité sur une plateforme en ligne !!!    \n",
    "Et là, je vous parle d'une plateforme; comment feriez-vous pour les autres plateformes 🤔🤔🤔?    \n",
    " Fastidieux non 🥱🥱?    \n",
    "\n"
   ]
  },
  {
   "cell_type": "markdown",
   "metadata": {},
   "source": [
    "Mais RELAX😉😉😉, fort heureusement, des outils de scraping existent pour collecter automatiquement les traces laissées par les internautes sur le net.\n",
    "\n",
    "Vous pourrez, grâce à ces outils, parcourir plusieurs sites et récupérer les informations souhaitées dans un laps de temps.\n"
   ]
  },
  {
   "cell_type": "markdown",
   "metadata": {},
   "source": [
    "#### Bref!!! Passons aux choses sérieuses à présent!"
   ]
  },
  {
   "cell_type": "markdown",
   "metadata": {},
   "source": []
  },
  {
   "cell_type": "markdown",
   "metadata": {},
   "source": [
    "# Collecte du groupe UCAEVD"
   ]
  },
  {
   "cell_type": "markdown",
   "metadata": {},
   "source": [
    "Dans la suite dans ce notebook, nous allons :\n",
    "\n",
    "- utiliser un driver Selenium le scraping,\n",
    "\n",
    "- nous connecter au groupe Facebook public **Un Consommateur Averti En Vaut Deux**  via son URL  \n",
    "\n",
    "- Renseigner nos informations de connexion au besoin\n",
    "\n",
    "- Scroler la page ouverte une profondeur souhaitée pour atteindre plus de publications\n",
    "\n",
    "- Collecter toutes les publications disponibles sur la page chargée (Nous pouvons éventuellement collecter les commentaires)   \n",
    "\n",
    "- Traiter les données collectées puis les structurer et les insérer dans un DataFrame ou un fichier .\n",
    "\n",
    "\n",
    "\n",
    "Ensuite, nous pourrons :\n",
    "\n",
    "- Effectuer des filtre sur les données selon des mots clés pour ressortir les publications mentionant ces mots clés\n",
    "\n",
    "- Notificier en temps réel (ou quasi temps réel) les nouvelles publications détectées par mail, SMS, sur une Appli, ...\n",
    "\n",
    "\n"
   ]
  },
  {
   "cell_type": "markdown",
   "metadata": {},
   "source": [
    "# I. PHASE DE COLLECTE"
   ]
  },
  {
   "cell_type": "markdown",
   "metadata": {},
   "source": [
    "## I.1. Importation des librairies"
   ]
  },
  {
   "cell_type": "code",
   "execution_count": 2,
   "metadata": {},
   "outputs": [],
   "source": [
    "import numpy as np\n",
    "import pandas as pd\n",
    "import time\n",
    "from datetime import datetime\n",
    "\n",
    "# \n",
    "import sys\n",
    "import os\n",
    "\n",
    "# Importation de selenium\n",
    "from selenium import webdriver\n",
    "from selenium.common import exceptions\n",
    "from selenium.webdriver.common.keys import Keys\n",
    "\n",
    "import dateparser"
   ]
  },
  {
   "cell_type": "markdown",
   "metadata": {},
   "source": [
    "## I.2. Connexion au driver Selenium et à la page du groupe UCAEVD"
   ]
  },
  {
   "cell_type": "code",
   "execution_count": 3,
   "metadata": {},
   "outputs": [],
   "source": [
    "def connexion_to_group(url, gecko_path) :\n",
    "    \n",
    "    # service = webdriver.firefox.service.Service(executable_path=gecko_path, port=port)\n",
    "    driver = webdriver.Firefox(executable_path=gecko_path)\n",
    "    time.sleep(10)\n",
    "    driver.get(url)\n",
    "    #time.sleep(5)\n",
    "    \n",
    "    return driver"
   ]
  },
  {
   "cell_type": "code",
   "execution_count": 4,
   "metadata": {},
   "outputs": [],
   "source": [
    "#gecko_driver_path = \"put_path_to_your_driver.exe\"\n",
    "gecko_driver_path = \"../web_drivers/geckodriver.exe\"\n",
    "url = 'https://m.facebook.com/groups/consommateurs.abidjan/'"
   ]
  },
  {
   "cell_type": "code",
   "execution_count": 5,
   "metadata": {},
   "outputs": [],
   "source": [
    "driver = connexion_to_group(url, gecko_driver_path)"
   ]
  },
  {
   "cell_type": "markdown",
   "metadata": {},
   "source": [
    "## 3. Scroller une page"
   ]
  },
  {
   "cell_type": "markdown",
   "metadata": {},
   "source": [
    "### 3.1. Cas général"
   ]
  },
  {
   "cell_type": "code",
   "execution_count": 7,
   "metadata": {},
   "outputs": [],
   "source": [
    "## Fonction de SCROLLING DE LA PAGE \n",
    "def scroll_down_page(nb_iter = 3, wait_time = 5):\n",
    "#     driver.refresh()\n",
    "    i = 0\n",
    "    while i <nb_iter:\n",
    "        i+=1\n",
    "        print(i)\n",
    "        try:\n",
    "            driver.execute_script(\"window.scrollTo(0, document.body.scrollHeight);\")\n",
    "            time.sleep(wait_time)\n",
    "        except:\n",
    "            break"
   ]
  },
  {
   "cell_type": "code",
   "execution_count": 10,
   "metadata": {},
   "outputs": [
    {
     "name": "stdout",
     "output_type": "stream",
     "text": [
      "1\n",
      "2\n",
      "3\n"
     ]
    }
   ],
   "source": [
    "driver.refresh()\n",
    "time.sleep(3)\n",
    "scroll_down_page(nb_iter = 3, wait_time = 5)"
   ]
  },
  {
   "cell_type": "markdown",
   "metadata": {},
   "source": [
    "Oups !!!\n",
    "\n",
    "La méthode de scrolling d'une page de façon générale fonctionne, mais pas comme on le souhaite ici.\n",
    "\n",
    "Facebook a renvoyé un popup pour nous demander de nous authentifier. Ce qui a empêché le scroll de continuer son travail.\n",
    "\n",
    "![alt](images/scroll_page.png) \n",
    "\n",
    "Mais RELAX, on peut contourner ce imprévu dans le cas particulier suivant.\n",
    "\n",
    "Dans la section suivante, nous allons cliquer sur la croix entourée en rouge sur l'image ci-dessous et poursuivre le scrolling.\n",
    "\n",
    "Pour mettre cela en visibilité, nous allons rouvrir un autre navigateur et nous connecter ensuite au groupe puis scroller la page du groupe."
   ]
  },
  {
   "cell_type": "code",
   "execution_count": null,
   "metadata": {},
   "outputs": [],
   "source": []
  },
  {
   "cell_type": "markdown",
   "metadata": {},
   "source": [
    "### I.3.2. Cas Particulier"
   ]
  },
  {
   "cell_type": "code",
   "execution_count": 11,
   "metadata": {},
   "outputs": [],
   "source": [
    "def afficher_plus_de_pubs(nb_iter = 3, wait_time = 5):\n",
    "#     driver.refresh()\n",
    "    nb = nb_iter - 1\n",
    "    i = 0\n",
    "    while i <nb_iter:\n",
    "        i+=1\n",
    "        \n",
    "        try:\n",
    "            ## Afficher plus de publications\n",
    "            driver.find_element_by_css_selector(\".touchable.primary\").click()\n",
    "#             driver.execute_script(\"window.scrollTo(0, document.body.scrollHeight);\")\n",
    "            time.sleep(wait_time)\n",
    "            print(i)\n",
    "            try :\n",
    "                driver.find_element_by_id(\"popup_xout\").click()\n",
    "            except :\n",
    "                pass\n",
    "        except:\n",
    "            break\n",
    "    if i == 1 :\n",
    "        afficher_plus_de_pubs(nb_iter = nb, wait_time = 5)"
   ]
  },
  {
   "cell_type": "code",
   "execution_count": 12,
   "metadata": {},
   "outputs": [],
   "source": [
    "#gecko_driver_path = \"put_path_to_your_driver.exe\"\n",
    "gecko_driver_path = \"../web_drivers/geckodriver.exe\"\n",
    "url = 'https://m.facebook.com/groups/consommateurs.abidjan/'\n",
    "\n",
    "driver = connexion_to_group(url, gecko_driver_path)\n"
   ]
  },
  {
   "cell_type": "code",
   "execution_count": 16,
   "metadata": {},
   "outputs": [
    {
     "name": "stdout",
     "output_type": "stream",
     "text": [
      "1\n",
      "2\n",
      "3\n",
      "4\n",
      "5\n"
     ]
    }
   ],
   "source": [
    "driver.refresh()\n",
    "afficher_plus_de_pubs(nb_iter = 5, wait_time = 5)"
   ]
  },
  {
   "cell_type": "code",
   "execution_count": null,
   "metadata": {},
   "outputs": [],
   "source": []
  },
  {
   "cell_type": "markdown",
   "metadata": {},
   "source": [
    "## I.4. Obtenir toutes les publications/posts"
   ]
  },
  {
   "cell_type": "code",
   "execution_count": 17,
   "metadata": {},
   "outputs": [],
   "source": [
    "## Get all publications available on the page\n",
    "\n",
    "def get_all_publications() : \n",
    "    # Access to all posts stories container\n",
    "    publications = driver.find_element_by_id(\"m_group_stories_container\")\n",
    "\n",
    "    # Get all posts relative to articles in stories container\n",
    "    publications = publications.find_elements_by_tag_name(\"article\")\n",
    "    \n",
    "    return publications"
   ]
  },
  {
   "cell_type": "code",
   "execution_count": 18,
   "metadata": {},
   "outputs": [],
   "source": [
    "# Collect publications\n",
    "publications = get_all_publications()\n"
   ]
  },
  {
   "cell_type": "code",
   "execution_count": 19,
   "metadata": {},
   "outputs": [
    {
     "data": {
      "text/plain": [
       "120"
      ]
     },
     "execution_count": 19,
     "metadata": {},
     "output_type": "execute_result"
    }
   ],
   "source": [
    "len(publications)"
   ]
  },
  {
   "cell_type": "code",
   "execution_count": 21,
   "metadata": {},
   "outputs": [
    {
     "data": {
      "text/plain": [
       "[<selenium.webdriver.firefox.webelement.FirefoxWebElement (session=\"360a66bd-2419-4f66-9c6e-dcebec1c48b8\", element=\"68719298-331d-47cf-b10e-e5080a32bbf6\")>,\n",
       " <selenium.webdriver.firefox.webelement.FirefoxWebElement (session=\"360a66bd-2419-4f66-9c6e-dcebec1c48b8\", element=\"5ba8a16f-2b45-4822-af4a-27f6625ed0b1\")>,\n",
       " <selenium.webdriver.firefox.webelement.FirefoxWebElement (session=\"360a66bd-2419-4f66-9c6e-dcebec1c48b8\", element=\"2904e31b-0d7e-4e16-8bd4-46213c16da4a\")>,\n",
       " <selenium.webdriver.firefox.webelement.FirefoxWebElement (session=\"360a66bd-2419-4f66-9c6e-dcebec1c48b8\", element=\"1f6be3bb-6dac-4da2-a97a-2a915e8a84e8\")>,\n",
       " <selenium.webdriver.firefox.webelement.FirefoxWebElement (session=\"360a66bd-2419-4f66-9c6e-dcebec1c48b8\", element=\"751168e4-34f9-44bb-b23d-5309fb3977ce\")>]"
      ]
     },
     "execution_count": 21,
     "metadata": {},
     "output_type": "execute_result"
    }
   ],
   "source": [
    "publications[:5]"
   ]
  },
  {
   "cell_type": "markdown",
   "metadata": {},
   "source": [
    "### I.4.1. Obtenir les ID des posts"
   ]
  },
  {
   "cell_type": "raw",
   "metadata": {},
   "source": [
    "##  Get id_post ##\n",
    "def get_id_post(post) :\n",
    "    \n",
    "    id_post = post.get_attribute(\"data-store\")\n",
    "    id_post = id_post.replace(\"null\", \"None\")\n",
    "    # Conversion d'un STRING en DICTIONNAIRE\n",
    "    id_post_dict = eval(id_post)\n",
    "    try :\n",
    "#         id_post = id_post_dict['share_id'] \n",
    "        id_post = id_post_dict['feedback_target']\n",
    "        id_post = str(id_post)\n",
    "    except :\n",
    "        return None\n",
    "        pass\n",
    "    return id_post"
   ]
  },
  {
   "cell_type": "code",
   "execution_count": 20,
   "metadata": {},
   "outputs": [],
   "source": [
    "## Get id_post\n",
    "def get_id_post(post) :\n",
    "    \n",
    "    id_post = post.get_attribute(\"data-store\")\n",
    "    id_post = id_post.replace(\"null\", \"None\")\n",
    "    # Conversion d'un STRING en DICTIONNAIRE\n",
    "    id_post_dict = eval(id_post)\n",
    "    id_post = id_post_dict['share_id'] \n",
    "   \n",
    "    return id_post"
   ]
  },
  {
   "cell_type": "code",
   "execution_count": 22,
   "metadata": {},
   "outputs": [
    {
     "data": {
      "text/plain": [
       "[4911280688907647,\n",
       " 4909455585756824,\n",
       " 4908762469159469,\n",
       " 4908629705839412,\n",
       " 4593294470706272,\n",
       " 4658710097498042,\n",
       " 2109082185794192,\n",
       " 2747551781947226,\n",
       " 4909503042418745,\n",
       " 4908287882540261]"
      ]
     },
     "execution_count": 22,
     "metadata": {},
     "output_type": "execute_result"
    }
   ],
   "source": [
    "[get_id_post(post) for post in publications[:10]]"
   ]
  },
  {
   "cell_type": "code",
   "execution_count": null,
   "metadata": {},
   "outputs": [],
   "source": []
  },
  {
   "cell_type": "markdown",
   "metadata": {},
   "source": [
    "### I.4.2. Obtenir les liens des posts"
   ]
  },
  {
   "cell_type": "code",
   "execution_count": 23,
   "metadata": {},
   "outputs": [],
   "source": [
    "## Get the post link : post_link\n",
    "def get_post_link(url, id_post) :\n",
    "    \n",
    "    permalink = 'permalink/'\n",
    "    post_link = url + permalink + str(id_post)\n",
    "    \n",
    "    if 'https://m' in url :\n",
    "        url_post = url.replace(\"https://m\", \"https://www\")\n",
    "        post_link = url_post + permalink + str(id_post)\n",
    "    \n",
    "    return post_link"
   ]
  },
  {
   "cell_type": "code",
   "execution_count": 24,
   "metadata": {},
   "outputs": [
    {
     "data": {
      "text/plain": [
       "['https://www.facebook.com/groups/consommateurs.abidjan/permalink/4911280688907647',\n",
       " 'https://www.facebook.com/groups/consommateurs.abidjan/permalink/4909455585756824',\n",
       " 'https://www.facebook.com/groups/consommateurs.abidjan/permalink/4908762469159469',\n",
       " 'https://www.facebook.com/groups/consommateurs.abidjan/permalink/4908629705839412',\n",
       " 'https://www.facebook.com/groups/consommateurs.abidjan/permalink/4593294470706272',\n",
       " 'https://www.facebook.com/groups/consommateurs.abidjan/permalink/4658710097498042',\n",
       " 'https://www.facebook.com/groups/consommateurs.abidjan/permalink/2109082185794192',\n",
       " 'https://www.facebook.com/groups/consommateurs.abidjan/permalink/2747551781947226',\n",
       " 'https://www.facebook.com/groups/consommateurs.abidjan/permalink/4909503042418745',\n",
       " 'https://www.facebook.com/groups/consommateurs.abidjan/permalink/4908287882540261']"
      ]
     },
     "execution_count": 24,
     "metadata": {},
     "output_type": "execute_result"
    }
   ],
   "source": [
    "url = 'https://m.facebook.com/groups/consommateurs.abidjan/'\n",
    "id_posts = [get_id_post(post) for post in publications[:10]]\n",
    "\n",
    "posts_links = [get_post_link(url, id_post) for  id_post in id_posts]\n",
    "posts_links"
   ]
  },
  {
   "cell_type": "markdown",
   "metadata": {},
   "source": [
    "### I.4.3. Obtenir les dates des posts"
   ]
  },
  {
   "cell_type": "code",
   "execution_count": 25,
   "metadata": {},
   "outputs": [],
   "source": [
    "### Get date post infos\n",
    "def info_date_post(post) :\n",
    "    \n",
    "    info_date_post = post.find_element_by_tag_name(\"abbr\")\n",
    "    info_date_post = info_date_post.text\n",
    "    return info_date_post"
   ]
  },
  {
   "cell_type": "code",
   "execution_count": 26,
   "metadata": {},
   "outputs": [
    {
     "data": {
      "text/plain": [
       "['2 h',\n",
       " '17 h',\n",
       " 'Hier, à 15:52',\n",
       " '20 h',\n",
       " '14 novembre 2021, 16:23',\n",
       " '1 décembre 2021, 16:56',\n",
       " '4 février 2019, 11:52',\n",
       " '20 janvier 2020, 16:31',\n",
       " '3 h',\n",
       " 'Hier, à 12:27']"
      ]
     },
     "execution_count": 26,
     "metadata": {},
     "output_type": "execute_result"
    }
   ],
   "source": [
    "[info_date_post(post) for post in publications[:10]]"
   ]
  },
  {
   "cell_type": "code",
   "execution_count": 31,
   "metadata": {},
   "outputs": [
    {
     "data": {
      "text/plain": [
       "[datetime.datetime(2022, 2, 5, 14, 30, 48, 625289),\n",
       " datetime.datetime(2022, 2, 4, 23, 30, 48, 626153),\n",
       " datetime.datetime(2022, 2, 4, 15, 52),\n",
       " datetime.datetime(2022, 2, 4, 20, 30, 48, 629145),\n",
       " datetime.datetime(2021, 11, 14, 16, 23),\n",
       " datetime.datetime(2021, 12, 1, 16, 56),\n",
       " datetime.datetime(2019, 2, 4, 11, 52),\n",
       " datetime.datetime(2020, 1, 20, 16, 31),\n",
       " datetime.datetime(2022, 2, 5, 13, 30, 48, 644106),\n",
       " datetime.datetime(2022, 2, 4, 12, 27)]"
      ]
     },
     "execution_count": 31,
     "metadata": {},
     "output_type": "execute_result"
    }
   ],
   "source": [
    "liste_dates_test =  [info_date_post(post) for post in publications[:10]]\n",
    "[dateparser.parse(str_val) for str_val in liste_dates_test]"
   ]
  },
  {
   "cell_type": "markdown",
   "metadata": {},
   "source": [
    "#### Cleaning des dates"
   ]
  },
  {
   "cell_type": "code",
   "execution_count": null,
   "metadata": {},
   "outputs": [],
   "source": []
  },
  {
   "cell_type": "code",
   "execution_count": 28,
   "metadata": {},
   "outputs": [],
   "source": [
    "##   Convert the string date format to datetime \n",
    "import dateparser\n",
    "def transform_string_date(str_val):\n",
    "    str_val = str_val.lower()\n",
    "    date_ = dateparser.parse(str_val)\n",
    "    \n",
    "    if 'instant' in str_val:\n",
    "            return datetime.now().strftime(\"%Y-%m-%d %H:%M:%S\")\n",
    "        \n",
    "    return date_.strftime(\"%Y-%m-%d %H:%M:%S\")\n",
    "\n",
    "## Clean the date and convert it in \"%Y-%m-%d %H:%M:%S\", \"%Y-%m-%d\" and \"%H:%M:%S\" format\n",
    "def clean_date(thedate):\n",
    "    thedate = datetime.strptime(thedate, \"%Y-%m-%d %H:%M:%S\")\n",
    "    return thedate, thedate.date(), thedate.time()\n"
   ]
  },
  {
   "cell_type": "code",
   "execution_count": 29,
   "metadata": {},
   "outputs": [
    {
     "data": {
      "text/plain": [
       "'2022-05-27 17:22:00'"
      ]
     },
     "execution_count": 29,
     "metadata": {},
     "output_type": "execute_result"
    }
   ],
   "source": [
    "transform_string_date('27 mai, 17:22')"
   ]
  },
  {
   "cell_type": "code",
   "execution_count": 30,
   "metadata": {},
   "outputs": [
    {
     "name": "stdout",
     "output_type": "stream",
     "text": [
      "(datetime.datetime(2022, 5, 27, 17, 22), datetime.date(2022, 5, 27), datetime.time(17, 22))\n"
     ]
    }
   ],
   "source": [
    "print(clean_date(transform_string_date('27 mai, 17:22')))"
   ]
  },
  {
   "cell_type": "markdown",
   "metadata": {},
   "source": [
    "### I.4.4. Obtenir les contenus textuels des posts"
   ]
  },
  {
   "cell_type": "code",
   "execution_count": 33,
   "metadata": {},
   "outputs": [],
   "source": [
    "## Get post textual content\n",
    "def get_pub_text(post):\n",
    "    \n",
    "    text_pub = ''\n",
    "    \n",
    "    try :\n",
    "        text_pub = post.find_element_by_css_selector(\"._5rgt._5nk5\")\n",
    "        \n",
    "#         text_pub.find_element_by_link_text(\"Plus\").click()\n",
    "        \n",
    "    except :\n",
    "        pass\n",
    "\n",
    "    text_pub = post.find_element_by_css_selector(\"._5rgt._5nk5\")\n",
    "    text = text_pub.text\n",
    "#     _5rgt _5nk5\n",
    "                                                 \n",
    "    return text"
   ]
  },
  {
   "cell_type": "code",
   "execution_count": 34,
   "metadata": {},
   "outputs": [
    {
     "data": {
      "text/plain": [
       "[\"#textile\\nBonjour à tous !\\nMerci de m'indiquer svp, un bon magasin de tissu coton. Je voudrais réaliser des draps doux pour mon bébé.\",\n",
       " \"#Transpers\\n#czo\\n#suggestion\\nDes cars VIP de la compagnie UTRAKO\\nAvant tout, félicitations aux responsables de cette compagnie pour le bel aménagement effectué dans leurs locaux à la nouvelle gare d'adjame. Le… Plus\",\n",
       " \"#hotel\\nBonjour. Pouvez vous, svp, me recommander un hôtel dans la périphérie d'Abidjan pour quelqu'un qui est surmené ?\\nTrois choses essentielles à prendre en compte:\\n- un endroit très calme, loin des bruits et de l'agitation de la ville,\\n- nourriture correcte.\\nBudget : maximum 25 mille/ nuit,\",\n",
       " '#restau\\n#czo\\nJe tiens à vous partager mon expérience au restaurant Italien Mamma Mia restaurant Lounge.\\nÇa faisait longtemps une petite sortie en famille (ma fiancée et ma fille).\\nJe décide donc de regarder… Plus',\n",
       " '#Beauté\\nBonjour à tous 🥰\\nIl fallait que je fasse ce poste là franchement j’attendais que Facebook me débloque 😂\\nAyant envie de changer de look je contacte toute de suite REVE BY FADYA,je prends rdv et toute… Plus',\n",
       " \"#beaute\\nBonjour\\nSvp je recherche un salon de coiffure ou une personne douée dans les coupes de cheveux, extensions et teinture.\\nNB : un salon où la file d'attente n'est pas trop longue ou si possible prendre un rendez-vous qui sera respecté.\\nMerci\",\n",
       " \"#SANTE\\nExcusez pour la longueur de mon texte.\\nJ'ai eu mes menstrues pour la 1ere fois à l'âge de 12ans en 1998 Et c'était avec des douleurs. Au fil des années cela à empiré jusqu'à ce que je rencontre… Plus\",\n",
       " '#Beauté\\nGros coup de coeurrrrrrrr\\nDepuis une semaine j’avais envie d’une belle coupe mais à cause d’une déception passée j’hésitais , puis hier j’ai vu le retour d’une dame à propos d’un coiffeur nommé aimé… Plus',\n",
       " '#Assur\\n#csoa\\nLe 25 avril 2020 (bientôt ça fera 2 ans), j’ai eu un sinistre avec un « Gbaka ». Ce dernier a percuté le flanc droit de mon véhicule après avoir grillé le feu rouge. Suite à cela j’ai déposé chez Sanlam le dossier complet, y compris l’estimation des dégâts et le constat de la police qui attribue la responsabilité de l’accident à… Plus',\n",
       " \"#restau\\n#czo\\nMardi soir, voulant réconforter mon amie, qui a eu un goumin terrible.\\nSon fiancé l'a laissé, pour partir avec la soeur de son ex-femme (garçon, si on t'a expliqué, que tu nous a compris, c'est qu'… Plus\"]"
      ]
     },
     "execution_count": 34,
     "metadata": {},
     "output_type": "execute_result"
    }
   ],
   "source": [
    "[get_pub_text(post) for post in publications[:10]]"
   ]
  },
  {
   "cell_type": "markdown",
   "metadata": {},
   "source": [
    "### I.4.5. Obtenir les infos sur les Htags\n"
   ]
  },
  {
   "cell_type": "code",
   "execution_count": 35,
   "metadata": {},
   "outputs": [],
   "source": [
    "## Get htags infos\n",
    "def get_htags_info(post) :\n",
    "    \n",
    "    htag_pub_desc = None\n",
    "    htag_link = None\n",
    "    \n",
    "    ### 2.2. Get htags in publication content : htag_pub_desc\n",
    "    try :\n",
    "        htag_pub_desc = post.find_elements_by_class_name(\"_5ayu\")\n",
    "        htag_pub_desc = \"|\".join([htag.text for htag in htag_pub_desc])\n",
    "        htag_pub_desc\n",
    "    except :\n",
    "        pass\n",
    "    \n",
    "    ### 2.3. Get htags link : htag_link\n",
    "    try :\n",
    "        htag_link = post.find_elements_by_css_selector(\"._5ayv._qdx\")\n",
    "        htag_link = \"|\".join([htag.get_attribute(\"href\") for htag in htag_link])\n",
    "        htag_link\n",
    "    except :\n",
    "        pass\n",
    "\n",
    "    return htag_pub_desc, htag_link"
   ]
  },
  {
   "cell_type": "code",
   "execution_count": 36,
   "metadata": {},
   "outputs": [
    {
     "data": {
      "text/plain": [
       "[('textile',\n",
       "  'https://m.facebook.com/hashtag/textile?refid=18&_ft_=qid.-6923662512182915944%3Amf_story_key.4911280688907647%3Atop_level_post_id.4911280688907647%3Atl_objid.4911280688907647%3Acontent_owner_id_new.100033412823779%3Apage_id.242064419162654%3Asrc.22%3Astory_location.6%3Astory_attachment_style.photo%3Afilter.GroupStoriesByActivityEntQuery%3Aott.AX-IxJosR9VpQ4Du%3Atds_flgs.3%3Apage_insights.%7B%22242064419162654%22%3A%7B%22page_id%22%3A242064419162654%2C%22page_id_type%22%3A%22group%22%2C%22actor_id%22%3A100033412823779%2C%22dm%22%3A%7B%22isShare%22%3A0%2C%22originalPostOwnerID%22%3A0%7D%2C%22psn%22%3A%22EntGroupMallPostCreationStory%22%2C%22post_context%22%3A%7B%22object_fbtype%22%3A657%2C%22publish_time%22%3A1644056544%2C%22story_name%22%3A%22EntGroupMallPostCreationStory%22%2C%22story_fbid%22%3A%5B4911280688907647%5D%7D%2C%22role%22%3A1%2C%22sl%22%3A6%7D%7D&__tn__=%2As-R'),\n",
       " ('Transpers|czo|suggestion',\n",
       "  'https://m.facebook.com/hashtag/transpers?refid=18&_ft_=qid.-6923662512275715258%3Amf_story_key.4909455585756824%3Atop_level_post_id.4909455585756824%3Atl_objid.4909455585756824%3Acontent_owner_id_new.1580853160%3Apage_id.242064419162654%3Asrc.22%3Aphoto_attachments_list.%5B10219851430107767%2C10219851430627780%2C10219851431187794%2C10219851431627805%2C10219851432067816%5D%3Astory_location.6%3Astory_attachment_style.album%3Afilter.GroupStoriesByActivityEntQuery%3Aott.AX_Y0mYvkItjj_wt%3Atds_flgs.3%3Apage_insights.%7B%22242064419162654%22%3A%7B%22page_id%22%3A242064419162654%2C%22page_id_type%22%3A%22group%22%2C%22actor_id%22%3A1580853160%2C%22dm%22%3A%7B%22isShare%22%3A0%2C%22originalPostOwnerID%22%3A0%7D%2C%22psn%22%3A%22EntGroupMallPostCreationStory%22%2C%22post_context%22%3A%7B%22object_fbtype%22%3A657%2C%22publish_time%22%3A1644003448%2C%22story_name%22%3A%22EntGroupMallPostCreationStory%22%2C%22story_fbid%22%3A%5B4909455585756824%5D%7D%2C%22role%22%3A1%2C%22sl%22%3A6%7D%7D&__tn__=%2As-R|https://m.facebook.com/hashtag/czo?refid=18&_ft_=qid.-6923662512275715258%3Amf_story_key.4909455585756824%3Atop_level_post_id.4909455585756824%3Atl_objid.4909455585756824%3Acontent_owner_id_new.1580853160%3Apage_id.242064419162654%3Asrc.22%3Aphoto_attachments_list.%5B10219851430107767%2C10219851430627780%2C10219851431187794%2C10219851431627805%2C10219851432067816%5D%3Astory_location.6%3Astory_attachment_style.album%3Afilter.GroupStoriesByActivityEntQuery%3Aott.AX_Y0mYvkItjj_wt%3Atds_flgs.3%3Apage_insights.%7B%22242064419162654%22%3A%7B%22page_id%22%3A242064419162654%2C%22page_id_type%22%3A%22group%22%2C%22actor_id%22%3A1580853160%2C%22dm%22%3A%7B%22isShare%22%3A0%2C%22originalPostOwnerID%22%3A0%7D%2C%22psn%22%3A%22EntGroupMallPostCreationStory%22%2C%22post_context%22%3A%7B%22object_fbtype%22%3A657%2C%22publish_time%22%3A1644003448%2C%22story_name%22%3A%22EntGroupMallPostCreationStory%22%2C%22story_fbid%22%3A%5B4909455585756824%5D%7D%2C%22role%22%3A1%2C%22sl%22%3A6%7D%7D&__tn__=%2As-R|https://m.facebook.com/hashtag/suggestion?refid=18&_ft_=qid.-6923662512275715258%3Amf_story_key.4909455585756824%3Atop_level_post_id.4909455585756824%3Atl_objid.4909455585756824%3Acontent_owner_id_new.1580853160%3Apage_id.242064419162654%3Asrc.22%3Aphoto_attachments_list.%5B10219851430107767%2C10219851430627780%2C10219851431187794%2C10219851431627805%2C10219851432067816%5D%3Astory_location.6%3Astory_attachment_style.album%3Afilter.GroupStoriesByActivityEntQuery%3Aott.AX_Y0mYvkItjj_wt%3Atds_flgs.3%3Apage_insights.%7B%22242064419162654%22%3A%7B%22page_id%22%3A242064419162654%2C%22page_id_type%22%3A%22group%22%2C%22actor_id%22%3A1580853160%2C%22dm%22%3A%7B%22isShare%22%3A0%2C%22originalPostOwnerID%22%3A0%7D%2C%22psn%22%3A%22EntGroupMallPostCreationStory%22%2C%22post_context%22%3A%7B%22object_fbtype%22%3A657%2C%22publish_time%22%3A1644003448%2C%22story_name%22%3A%22EntGroupMallPostCreationStory%22%2C%22story_fbid%22%3A%5B4909455585756824%5D%7D%2C%22role%22%3A1%2C%22sl%22%3A6%7D%7D&__tn__=%2As-R'),\n",
       " ('hotel',\n",
       "  'https://m.facebook.com/hashtag/hotel?refid=18&_ft_=qid.-6923662512319740775%3Amf_story_key.4908762469159469%3Atop_level_post_id.4908762469159469%3Atl_objid.4908762469159469%3Acontent_owner_id_new.100023001137031%3Apage_id.242064419162654%3Asrc.22%3Astory_location.6%3Afilter.GroupStoriesByActivityEntQuery%3Aott.AX_GnPULNfWUAJCy%3Atds_flgs.3%3Apage_insights.%7B%22242064419162654%22%3A%7B%22page_id%22%3A242064419162654%2C%22page_id_type%22%3A%22group%22%2C%22actor_id%22%3A100023001137031%2C%22dm%22%3A%7B%22isShare%22%3A0%2C%22originalPostOwnerID%22%3A0%7D%2C%22psn%22%3A%22EntGroupMallPostCreationStory%22%2C%22post_context%22%3A%7B%22object_fbtype%22%3A657%2C%22publish_time%22%3A1643986663%2C%22story_name%22%3A%22EntGroupMallPostCreationStory%22%2C%22story_fbid%22%3A%5B4908762469159469%5D%7D%2C%22role%22%3A1%2C%22sl%22%3A6%7D%7D&__tn__=%2As-R'),\n",
       " ('restau|czo',\n",
       "  'https://m.facebook.com/hashtag/restau?refid=18&_ft_=qid.-6923662512303957162%3Amf_story_key.4908629705839412%3Atop_level_post_id.4908629705839412%3Atl_objid.4908629705839412%3Acontent_owner_id_new.100025426115119%3Apage_id.930345946992015%3Asrc.22%3Aphoto_attachments_list.%5B473680004137975%2C460103628923966%5D%3Astory_location.6%3Astory_attachment_style.album%3Afilter.GroupStoriesByActivityEntQuery%3Aott.AX8r_PJeGWFY3h2U%3Atds_flgs.3%3Apage_insights.%7B%22930345946992015%22%3A%7B%22page_id%22%3A930345946992015%2C%22page_id_type%22%3A%22page%22%2C%22actor_id%22%3A100025426115119%2C%22dm%22%3A%7B%22isShare%22%3A0%2C%22originalPostOwnerID%22%3A0%7D%2C%22psn%22%3A%22EntGroupMallPostCreationStory%22%2C%22role%22%3A16%2C%22sl%22%3A6%7D%2C%22242064419162654%22%3A%7B%22page_id%22%3A242064419162654%2C%22page_id_type%22%3A%22group%22%2C%22actor_id%22%3A100025426115119%2C%22dm%22%3A%7B%22isShare%22%3A0%2C%22originalPostOwnerID%22%3A0%7D%2C%22psn%22%3A%22EntGroupMallPostCreationStory%22%2C%22post_context%22%3A%7B%22object_fbtype%22%3A657%2C%22publish_time%22%3A1643983736%2C%22story_name%22%3A%22EntGroupMallPostCreationStory%22%2C%22story_fbid%22%3A%5B4908629705839412%5D%7D%2C%22role%22%3A1%2C%22sl%22%3A6%7D%7D&__tn__=%2As-R|https://m.facebook.com/hashtag/czo?refid=18&_ft_=qid.-6923662512303957162%3Amf_story_key.4908629705839412%3Atop_level_post_id.4908629705839412%3Atl_objid.4908629705839412%3Acontent_owner_id_new.100025426115119%3Apage_id.930345946992015%3Asrc.22%3Aphoto_attachments_list.%5B473680004137975%2C460103628923966%5D%3Astory_location.6%3Astory_attachment_style.album%3Afilter.GroupStoriesByActivityEntQuery%3Aott.AX8r_PJeGWFY3h2U%3Atds_flgs.3%3Apage_insights.%7B%22930345946992015%22%3A%7B%22page_id%22%3A930345946992015%2C%22page_id_type%22%3A%22page%22%2C%22actor_id%22%3A100025426115119%2C%22dm%22%3A%7B%22isShare%22%3A0%2C%22originalPostOwnerID%22%3A0%7D%2C%22psn%22%3A%22EntGroupMallPostCreationStory%22%2C%22role%22%3A16%2C%22sl%22%3A6%7D%2C%22242064419162654%22%3A%7B%22page_id%22%3A242064419162654%2C%22page_id_type%22%3A%22group%22%2C%22actor_id%22%3A100025426115119%2C%22dm%22%3A%7B%22isShare%22%3A0%2C%22originalPostOwnerID%22%3A0%7D%2C%22psn%22%3A%22EntGroupMallPostCreationStory%22%2C%22post_context%22%3A%7B%22object_fbtype%22%3A657%2C%22publish_time%22%3A1643983736%2C%22story_name%22%3A%22EntGroupMallPostCreationStory%22%2C%22story_fbid%22%3A%5B4908629705839412%5D%7D%2C%22role%22%3A1%2C%22sl%22%3A6%7D%7D&__tn__=%2As-R'),\n",
       " ('Beauté',\n",
       "  'https://m.facebook.com/hashtag/beaut%C3%A9?refid=18&_ft_=qid.-6923662512137575043%3Amf_story_key.4593294470706272%3Atop_level_post_id.4593294470706272%3Atl_objid.4593294470706272%3Acontent_owner_id_new.100002674909163%3Apage_id.242064419162654%3Asrc.22%3Aphoto_attachments_list.%5B4314475711984883%2C4314476075318180%2C4518838271487051%2C4314475721984882%2C4314476235318164%5D%3Astory_location.6%3Astory_attachment_style.album%3Afilter.GroupStoriesByActivityEntQuery%3Aott.AX8Oqmd9VtYZjex2%3Atds_flgs.3%3Apage_insights.%7B%22242064419162654%22%3A%7B%22page_id%22%3A242064419162654%2C%22page_id_type%22%3A%22group%22%2C%22actor_id%22%3A100002674909163%2C%22dm%22%3A%7B%22isShare%22%3A0%2C%22originalPostOwnerID%22%3A0%7D%2C%22psn%22%3A%22EntGroupMallPostCreationStory%22%2C%22post_context%22%3A%7B%22object_fbtype%22%3A657%2C%22publish_time%22%3A1636640525%2C%22story_name%22%3A%22EntGroupMallPostCreationStory%22%2C%22story_fbid%22%3A%5B4593294470706272%5D%7D%2C%22role%22%3A1%2C%22sl%22%3A6%7D%7D&__tn__=%2As-R')]"
      ]
     },
     "execution_count": 36,
     "metadata": {},
     "output_type": "execute_result"
    }
   ],
   "source": [
    "[get_htags_info(post) for post in publications[:5] ]"
   ]
  },
  {
   "cell_type": "code",
   "execution_count": null,
   "metadata": {},
   "outputs": [],
   "source": []
  },
  {
   "cell_type": "markdown",
   "metadata": {},
   "source": [
    "### I.4.6. Obtenir les liens des images et leur description"
   ]
  },
  {
   "cell_type": "code",
   "execution_count": 37,
   "metadata": {},
   "outputs": [],
   "source": [
    "## Get image link and its description\n",
    "def get_image_infos(post, sep = '|') :\n",
    "    \n",
    "    image_link = ''\n",
    "    image_desc = ''\n",
    "    \n",
    "    ## Get image link and its description\n",
    "    try :\n",
    "    ## Get image link and its description\n",
    "        image_link_desc = post.find_element_by_class_name(\"story_body_container\")\n",
    "        image_link_desc = image_link_desc.find_element_by_class_name(\"_5rgu._7dc9\")\n",
    "        image_link_desc = image_link_desc.find_elements_by_tag_name(\"img\")\n",
    "\n",
    "        ## Image link : image_link\n",
    "        image_link = \"\"+sep+\"\".join([img_link.get_attribute(\"src\") for img_link in image_link_desc])\n",
    "\n",
    "        ## Image description : image_desc\n",
    "        image_desc = \"\"+sep+\"\".join([img_desc.get_attribute(\"alt\") for img_desc in image_link_desc])\n",
    "\n",
    "    except :\n",
    "        pass\n",
    "    \n",
    "    return image_link, image_desc"
   ]
  },
  {
   "cell_type": "code",
   "execution_count": 38,
   "metadata": {},
   "outputs": [
    {
     "data": {
      "text/plain": [
       "[('|https://scontent.fabj3-1.fna.fbcdn.net/v/t39.30808-6/cp0/e15/q65/s480x480/273283534_666375227819565_641040053615767924_n.jpg?_nc_cat=107&ccb=1-5&_nc_sid=5bac3a&_nc_ohc=GpcDRjSfnmEAX8CB23L&_nc_ht=scontent.fabj3-1.fna&oh=00_AT_FhCjUo2Y-3GKYcBdAseWWNvA0Ocg-FbyurgX3hm2ALg&oe=62040CCA',\n",
       "  '|Aucune description de photo disponible.'),\n",
       " ('|https://scontent.fabj3-1.fna.fbcdn.net/v/t39.30808-6/cp0/e15/q65/p240x240/273220601_10219851429947763_6321039448469062657_n.jpg?_nc_cat=100&ccb=1-5&_nc_sid=5bac3a&_nc_ohc=MzaefbdYB9wAX-rDbk0&_nc_ht=scontent.fabj3-1.fna&oh=00_AT-s94P7ovWa4-vEfonWyQDVIxE_wa4obWyyYYaiAfeWQA&oe=620307ABhttps://scontent.fabj3-1.fna.fbcdn.net/v/t39.30808-6/cp0/e15/q65/p240x240/273218836_10219851430427775_7461215593878163146_n.jpg?_nc_cat=1&ccb=1-5&_nc_sid=5bac3a&_nc_ohc=49o8TAByyHsAX9dgYYn&_nc_ht=scontent.fabj3-1.fna&oh=00_AT8juZWdklMWGGSg4qikB-kvEwRFOXW4aoX03DxxOvsQTw&oe=62043CFBhttps://scontent.fabj3-1.fna.fbcdn.net/v/t39.30808-6/cp0/e15/q65/s240x240/273265303_10219851431147793_6517570900544020622_n.jpg?_nc_cat=1&ccb=1-5&_nc_sid=5bac3a&_nc_ohc=anBlO3TiE_gAX91AwGA&_nc_ht=scontent.fabj3-1.fna&oh=00_AT8c4unqva8s5aFg7G9S7_3MJhqLCPrCcdtaCXCwrQcuug&oe=620352ADhttps://scontent.fabj3-1.fna.fbcdn.net/v/t39.30808-6/cp0/e15/q65/s280x280/273270758_10219851431587804_7332054036062240946_n.jpg?_nc_cat=109&ccb=1-5&_nc_sid=5bac3a&_nc_ohc=FwuxkZIC5SoAX8s3Vhv&_nc_ht=scontent.fabj3-1.fna&oh=00_AT9bZ6RrCFwpxt_vQgpkeRoQDf9zRnZmitZAw7yuMPwp2w&oe=62031055https://scontent.fabj3-1.fna.fbcdn.net/v/t39.30808-6/cp0/e15/q65/p240x240/273220181_10219851432027815_164267233442430357_n.jpg?_nc_cat=106&ccb=1-5&_nc_sid=5bac3a&_nc_ohc=2L8DozeEfk8AX_zfKRf&_nc_ht=scontent.fabj3-1.fna&oh=00_AT9j5KGEPScGoOXo2Z-l2BKVauwv1ExuEwUCFq-hJwxuLg&oe=6203B420',\n",
       "  '|Peut être une image de bus et texte qui dit ’78 CHALLENGE’Aucune description de photo disponible.Aucune description de photo disponible.Peut être une image de intérieurPeut être une image de intérieur'),\n",
       " ('', ''),\n",
       " ('|https://scontent.fabj3-1.fna.fbcdn.net/v/t15.5256-10/cp0/e15/q65/s480x480/272256843_686064159076631_6680337884279039361_n.jpg?_nc_cat=110&ccb=1-5&_nc_sid=08861d&_nc_ohc=hkCuDJhBVKwAX9vdTL3&_nc_ht=scontent.fabj3-1.fna&oh=00_AT9q8uXkbdMReTywVzunI6GVpV1VDODkiqDLd33ea9g_ww&oe=6203468Ahttps://scontent.fabj3-1.fna.fbcdn.net/v/t15.5256-10/cp0/e15/q65/s480x480/273350658_148706170862707_3932762693113792224_n.jpg?_nc_cat=108&ccb=1-5&_nc_sid=08861d&_nc_ohc=Y5eNkxP-O9kAX_bFSSl&_nc_oc=AQkzppuxzUMGp3juyzMDVD5LS5GyzqGyYmnvULJNwGagshXTXH-Gc6ZM8cZ119eU_3g&_nc_ht=scontent.fabj3-1.fna&oh=00_AT_t6kiZY9V_M_JHJkKcQfPZOupYRitWI2A8bCan2VQrFA&oe=62031EC2',\n",
       "  '|videovideo'),\n",
       " ('|https://scontent.fabj3-1.fna.fbcdn.net/v/t39.30808-6/cp0/e15/q65/p240x240/255425754_4314476878651433_4513567298634537084_n.jpg?_nc_cat=101&ccb=1-5&_nc_sid=07e735&_nc_ohc=M6iwEKnEbYUAX9mZVdc&_nc_ht=scontent.fabj3-1.fna&oh=00_AT8s3bPpROyXiFyyJo2pf60sZFniPXl2t4tQaqRNMLOQTg&oe=62038B0Ehttps://scontent.fabj3-1.fna.fbcdn.net/v/t39.30808-6/cp0/e15/q65/p240x240/255284722_4314476948651426_8958846861526979845_n.jpg?_nc_cat=109&ccb=1-5&_nc_sid=07e735&_nc_ohc=wO4_L8LSJ6YAX_EUbOe&_nc_ht=scontent.fabj3-1.fna&oh=00_AT_mOPtxjFyWRpskhUeSCjLU1D4sgKU4rMO6yEt_jecQYg&oe=620322D3https://scontent.fabj3-1.fna.fbcdn.net/v/t15.5256-10/cp0/e15/q65/p160x160/252394402_4518839748153570_7725077739318737009_n.jpg?_nc_cat=100&ccb=1-5&_nc_sid=08861d&_nc_ohc=BGUt2MBWfvEAX_WYugx&_nc_ht=scontent.fabj3-1.fna&oh=00_AT8H55PyIxpyd9mCvtRu9HVR1Af88QP-TdhpOeigfH1ZIA&oe=6203FBEChttps://scontent.fabj3-1.fna.fbcdn.net/v/t39.30808-6/cp0/e15/q65/s206x206/254972598_4314476891984765_1204045440419953216_n.jpg?_nc_cat=110&ccb=1-5&_nc_sid=07e735&_nc_ohc=4NSWG8UA1OwAX8XGU30&_nc_ht=scontent.fabj3-1.fna&oh=00_AT967d2gX8FojFsZR9B2KSzAfEQIvCgBVSs9_mRY-hXNrQ&oe=6204332Ahttps://scontent.fabj3-1.fna.fbcdn.net/v/t39.30808-6/cp0/e15/q65/p160x160/253330379_4314476985318089_314499782350627140_n.jpg?_nc_cat=104&ccb=1-5&_nc_sid=07e735&_nc_ohc=_wL8S7YGiBkAX_0nTA0&_nc_ht=scontent.fabj3-1.fna&oh=00_AT-wi-_wcbH1S8pmklms9OFLJnMGRTJR5P3kJoxtMZMfOg&oe=620472D4',\n",
       "  '|Peut être une image de 1 personne et intérieurPeut être une image de 1 personne et intérieurvideoPeut être une image de 1 personne et intérieurPeut être une image de 1 personne et intérieur')]"
      ]
     },
     "execution_count": 38,
     "metadata": {},
     "output_type": "execute_result"
    }
   ],
   "source": [
    "[get_image_infos(post, sep = '|') for post in publications[:5] ]"
   ]
  },
  {
   "cell_type": "markdown",
   "metadata": {},
   "source": [
    "## I.5. Récupérer les réactions"
   ]
  },
  {
   "cell_type": "markdown",
   "metadata": {},
   "source": [
    "Cette section de code permet d'accéder à la zone des réactions effectuées sur les publications postées sur le groupe."
   ]
  },
  {
   "cell_type": "code",
   "execution_count": 39,
   "metadata": {},
   "outputs": [],
   "source": [
    "## Get  posts reactions driver element\n",
    "def reactions_elements(post) :\n",
    "    \n",
    "    reactions = []\n",
    "    try :\n",
    "        reaction = post.find_element_by_tag_name(\"footer\").\\\n",
    "        find_element_by_class_name(\"_2og4.slimLike\").\\\n",
    "        find_element_by_tag_name(\"a\")\n",
    "        reactions = reaction.find_elements_by_class_name(\"_28wy\")\n",
    "    except :\n",
    "        pass\n",
    "    \n",
    "    return reactions"
   ]
  },
  {
   "cell_type": "code",
   "execution_count": 40,
   "metadata": {},
   "outputs": [
    {
     "data": {
      "text/plain": [
       "[[<selenium.webdriver.firefox.webelement.FirefoxWebElement (session=\"360a66bd-2419-4f66-9c6e-dcebec1c48b8\", element=\"279b3182-5b0a-4a5e-988b-5695df25e5ed\")>,\n",
       "  <selenium.webdriver.firefox.webelement.FirefoxWebElement (session=\"360a66bd-2419-4f66-9c6e-dcebec1c48b8\", element=\"7c480ebe-a20f-4f01-be39-6360c050e8aa\")>],\n",
       " [<selenium.webdriver.firefox.webelement.FirefoxWebElement (session=\"360a66bd-2419-4f66-9c6e-dcebec1c48b8\", element=\"97de2fcb-8301-40e8-905d-0f4bc91f8e19\")>,\n",
       "  <selenium.webdriver.firefox.webelement.FirefoxWebElement (session=\"360a66bd-2419-4f66-9c6e-dcebec1c48b8\", element=\"7b5fa9d3-bc13-4585-861c-2489093de2c1\")>,\n",
       "  <selenium.webdriver.firefox.webelement.FirefoxWebElement (session=\"360a66bd-2419-4f66-9c6e-dcebec1c48b8\", element=\"f3372cd4-6048-4670-a95c-9f299cd20aed\")>],\n",
       " [<selenium.webdriver.firefox.webelement.FirefoxWebElement (session=\"360a66bd-2419-4f66-9c6e-dcebec1c48b8\", element=\"7f714759-e0be-4443-89a1-0f656d712353\")>,\n",
       "  <selenium.webdriver.firefox.webelement.FirefoxWebElement (session=\"360a66bd-2419-4f66-9c6e-dcebec1c48b8\", element=\"26e14865-7bf8-4ed1-8d7b-526483341575\")>,\n",
       "  <selenium.webdriver.firefox.webelement.FirefoxWebElement (session=\"360a66bd-2419-4f66-9c6e-dcebec1c48b8\", element=\"f60b9155-e176-4990-8c3d-30827ae08b57\")>],\n",
       " [<selenium.webdriver.firefox.webelement.FirefoxWebElement (session=\"360a66bd-2419-4f66-9c6e-dcebec1c48b8\", element=\"db1bf0ef-0cb1-419a-898c-2f56c8bfcbd0\")>,\n",
       "  <selenium.webdriver.firefox.webelement.FirefoxWebElement (session=\"360a66bd-2419-4f66-9c6e-dcebec1c48b8\", element=\"022989b6-790e-4c44-952b-97c27092833d\")>,\n",
       "  <selenium.webdriver.firefox.webelement.FirefoxWebElement (session=\"360a66bd-2419-4f66-9c6e-dcebec1c48b8\", element=\"b0853d23-9794-4bf2-b6e9-bd50ccc152bf\")>],\n",
       " [<selenium.webdriver.firefox.webelement.FirefoxWebElement (session=\"360a66bd-2419-4f66-9c6e-dcebec1c48b8\", element=\"161508ac-8c90-4ae6-b8ee-4af7342f2552\")>,\n",
       "  <selenium.webdriver.firefox.webelement.FirefoxWebElement (session=\"360a66bd-2419-4f66-9c6e-dcebec1c48b8\", element=\"32be8407-8d86-43e4-9c2d-42da74c8fde1\")>,\n",
       "  <selenium.webdriver.firefox.webelement.FirefoxWebElement (session=\"360a66bd-2419-4f66-9c6e-dcebec1c48b8\", element=\"1bb413c4-78ca-4568-90fd-33772b75edf0\")>]]"
      ]
     },
     "execution_count": 40,
     "metadata": {},
     "output_type": "execute_result"
    }
   ],
   "source": [
    "[reactions_elements(post) for post in publications[:5] ]"
   ]
  },
  {
   "cell_type": "code",
   "execution_count": null,
   "metadata": {},
   "outputs": [],
   "source": []
  },
  {
   "cell_type": "markdown",
   "metadata": {},
   "source": [
    "### I.5.1. résumé des réactions"
   ]
  },
  {
   "cell_type": "markdown",
   "metadata": {},
   "source": [
    "Ce code permet de compter les réactions selon le type de réaction :   \n",
    "Par exemple : Le nombre de **J'aime**, de **commentaires**, de **partages**, de **Haha**, ..."
   ]
  },
  {
   "cell_type": "code",
   "execution_count": 43,
   "metadata": {},
   "outputs": [],
   "source": [
    "## Count reaction using type reaction\n",
    "def keep_number(text) :\n",
    "    \n",
    "    return ''.join([nber for nber in text if nber.isdigit()]) \n",
    "\n",
    "def count_reactions(liste_text, type_text):\n",
    "    \"\"\"\n",
    "    Reactions type can be for :\n",
    "        - 'aime' type : J'aime\n",
    "        - 'commentaire' : commentaire , commentaires\n",
    "       \"\"\"   \n",
    "    if len(liste_text) == 0:\n",
    "        res = '0'\n",
    "\n",
    "    for react in liste_text :\n",
    "        \n",
    "        if type_text in react :\n",
    "#             print(react)\n",
    "            res = keep_number(react)\n",
    "            break\n",
    "        else :\n",
    "            res = '0'\n",
    "    return res"
   ]
  },
  {
   "cell_type": "code",
   "execution_count": 44,
   "metadata": {},
   "outputs": [],
   "source": [
    "def keep_number(text) :\n",
    "    \n",
    "    return ''.join([nber for nber in text if nber.isdigit()])"
   ]
  },
  {
   "cell_type": "code",
   "execution_count": null,
   "metadata": {},
   "outputs": [],
   "source": []
  },
  {
   "cell_type": "code",
   "execution_count": 45,
   "metadata": {},
   "outputs": [
    {
     "data": {
      "text/plain": [
       "'115'"
      ]
     },
     "execution_count": 45,
     "metadata": {},
     "output_type": "execute_result"
    }
   ],
   "source": [
    "text = \"J'ai réalisé 1 commentaire sur Facebook et  15 partages hier\"\n",
    "keep_number(text)"
   ]
  },
  {
   "cell_type": "code",
   "execution_count": 46,
   "metadata": {},
   "outputs": [],
   "source": [
    "liste_text = [\"1 commentaire\", \"19 partages\", \"3 j'aime\"]"
   ]
  },
  {
   "cell_type": "code",
   "execution_count": 47,
   "metadata": {},
   "outputs": [
    {
     "data": {
      "text/plain": [
       "'1'"
      ]
     },
     "execution_count": 47,
     "metadata": {},
     "output_type": "execute_result"
    }
   ],
   "source": [
    "count_reactions(liste_text, type_text = 'commentaire')"
   ]
  },
  {
   "cell_type": "code",
   "execution_count": 48,
   "metadata": {},
   "outputs": [
    {
     "data": {
      "text/plain": [
       "'19'"
      ]
     },
     "execution_count": 48,
     "metadata": {},
     "output_type": "execute_result"
    }
   ],
   "source": [
    "count_reactions(liste_text, type_text = 'partages')"
   ]
  },
  {
   "cell_type": "code",
   "execution_count": 49,
   "metadata": {},
   "outputs": [
    {
     "data": {
      "text/plain": [
       "'3'"
      ]
     },
     "execution_count": 49,
     "metadata": {},
     "output_type": "execute_result"
    }
   ],
   "source": [
    "count_reactions(liste_text, type_text = 'aime')"
   ]
  },
  {
   "cell_type": "markdown",
   "metadata": {},
   "source": [
    "### I.5.2. Collecte de toutes les réactions"
   ]
  },
  {
   "cell_type": "markdown",
   "metadata": {},
   "source": []
  },
  {
   "cell_type": "code",
   "execution_count": 50,
   "metadata": {},
   "outputs": [],
   "source": [
    "## Count all reactions\n",
    "def get_posts_reactions(post) :\n",
    "    \n",
    "    nbre_jaime = '0'\n",
    "    nbre_partage = '0'\n",
    "    nbre_commentaire = '0'\n",
    "    \n",
    "    ## Other indicators \n",
    "    nbre_jadore = '0'\n",
    "    nbre_wouah = '0'\n",
    "    nbre_haha = '0'\n",
    "    nbre_grrr = '0'\n",
    "    nbre_triste = '0'\n",
    "    nbre_autres_reactions = '0'\n",
    "    \n",
    "    try :\n",
    "        ## Get  posts reactions driver element\n",
    "        reactions = reactions_elements(post)\n",
    "        reactions = [react.text for react in reactions]\n",
    "\n",
    "        ### Count Like : nbre_jaime\n",
    "        nbre_jaime = count_reactions(liste_text = reactions, type_text = 'aime')\n",
    "\n",
    "        ### Count comments : nbre_commentaire\n",
    "        nbre_commentaire = count_reactions(liste_text = reactions, type_text = 'commentaire')\n",
    "\n",
    "        ### Count Sharing : nbre_partage\n",
    "        nbre_partage = count_reactions(liste_text = reactions, type_text = 'partage')\n",
    "    except :\n",
    "        pass\n",
    "    result = [nbre_jaime, nbre_commentaire, nbre_partage, nbre_jadore,nbre_wouah,nbre_haha,\n",
    "              nbre_grrr,nbre_triste,nbre_autres_reactions]\n",
    "    return result"
   ]
  },
  {
   "cell_type": "code",
   "execution_count": 51,
   "metadata": {},
   "outputs": [
    {
     "data": {
      "text/plain": [
       "[['4', '5', '0', '0', '0', '0', '0', '0', '0'],\n",
       " ['1548', '393', '139', '0', '0', '0', '0', '0', '0'],\n",
       " ['117', '71', '4', '0', '0', '0', '0', '0', '0'],\n",
       " ['45', '10', '3', '0', '0', '0', '0', '0', '0'],\n",
       " ['1294', '336', '72', '0', '0', '0', '0', '0', '0']]"
      ]
     },
     "execution_count": 51,
     "metadata": {},
     "output_type": "execute_result"
    }
   ],
   "source": [
    "[get_posts_reactions(post) for post in publications[:5] ]"
   ]
  },
  {
   "cell_type": "markdown",
   "metadata": {},
   "source": [
    "# II. PHASE DE STOCKAGE"
   ]
  },
  {
   "cell_type": "markdown",
   "metadata": {},
   "source": [
    "## II.1. Stockage des données sur les infos générales des posts"
   ]
  },
  {
   "cell_type": "code",
   "execution_count": 52,
   "metadata": {},
   "outputs": [],
   "source": [
    "## 1. Data author posts Infos\n",
    "def data_author_posts(posts) :\n",
    "        \n",
    "    id_posts = []\n",
    "    post_links = []\n",
    "    date_time_posts = []\n",
    "    date_posts = []\n",
    "    hours_posts = []\n",
    "    \n",
    "    for i, post in enumerate(posts):\n",
    "        # Vous pouvez activer la ligne ci-dessous pour controler afficher les itérations\n",
    "        # print(\"Renseignement des Infos/Auteur post \\t{}\".format(i))\n",
    "        \n",
    "        # Get post ID\n",
    "        id_post = get_id_post(post)\n",
    "        id_posts.append(id_post)\n",
    "        \n",
    "        # Get Post URL\n",
    "        post_link = get_post_link(url, id_post)\n",
    "        post_links.append(post_link)\n",
    "        \n",
    "        ## Get dates post\n",
    "        date_infos = transform_string_date(info_date_post(post))\n",
    "        date_infos = clean_date(date_infos)\n",
    "        # Code to develop here\n",
    "        date_time_post = date_infos[0]\n",
    "        date_time_posts.append(date_time_post)\n",
    "        \n",
    "        # Code to develop here\n",
    "        date_post = date_infos[1]\n",
    "        date_posts.append(date_post)\n",
    "        \n",
    "        # Code to develop here\n",
    "        hours_post = date_infos[2]\n",
    "        hours_posts.append(hours_post)        \n",
    "\n",
    "    authors_posts_dates = pd.DataFrame(\n",
    "        data= {'id_post':id_posts, 'post_link':post_links,'date_time_post':date_time_posts,\n",
    "                      'date_post':date_posts, 'hours_post':hours_posts \n",
    "                      }, \n",
    "        columns = ['id_post', 'post_link','date_time_post','date_post', 'hours_post']\n",
    "         )\n",
    "    \n",
    "    return authors_posts_dates"
   ]
  },
  {
   "cell_type": "code",
   "execution_count": 53,
   "metadata": {},
   "outputs": [
    {
     "data": {
      "text/html": [
       "<div>\n",
       "<style scoped>\n",
       "    .dataframe tbody tr th:only-of-type {\n",
       "        vertical-align: middle;\n",
       "    }\n",
       "\n",
       "    .dataframe tbody tr th {\n",
       "        vertical-align: top;\n",
       "    }\n",
       "\n",
       "    .dataframe thead th {\n",
       "        text-align: right;\n",
       "    }\n",
       "</style>\n",
       "<table border=\"1\" class=\"dataframe\">\n",
       "  <thead>\n",
       "    <tr style=\"text-align: right;\">\n",
       "      <th></th>\n",
       "      <th>id_post</th>\n",
       "      <th>post_link</th>\n",
       "      <th>date_time_post</th>\n",
       "      <th>date_post</th>\n",
       "      <th>hours_post</th>\n",
       "    </tr>\n",
       "  </thead>\n",
       "  <tbody>\n",
       "    <tr>\n",
       "      <th>0</th>\n",
       "      <td>4911280688907647</td>\n",
       "      <td>https://www.facebook.com/groups/consommateurs....</td>\n",
       "      <td>2022-02-05 14:51:55</td>\n",
       "      <td>2022-02-05</td>\n",
       "      <td>14:51:55</td>\n",
       "    </tr>\n",
       "    <tr>\n",
       "      <th>1</th>\n",
       "      <td>4909455585756824</td>\n",
       "      <td>https://www.facebook.com/groups/consommateurs....</td>\n",
       "      <td>2022-02-04 23:51:55</td>\n",
       "      <td>2022-02-04</td>\n",
       "      <td>23:51:55</td>\n",
       "    </tr>\n",
       "    <tr>\n",
       "      <th>2</th>\n",
       "      <td>4908762469159469</td>\n",
       "      <td>https://www.facebook.com/groups/consommateurs....</td>\n",
       "      <td>2022-02-04 15:52:00</td>\n",
       "      <td>2022-02-04</td>\n",
       "      <td>15:52:00</td>\n",
       "    </tr>\n",
       "    <tr>\n",
       "      <th>3</th>\n",
       "      <td>4908629705839412</td>\n",
       "      <td>https://www.facebook.com/groups/consommateurs....</td>\n",
       "      <td>2022-02-04 20:51:55</td>\n",
       "      <td>2022-02-04</td>\n",
       "      <td>20:51:55</td>\n",
       "    </tr>\n",
       "    <tr>\n",
       "      <th>4</th>\n",
       "      <td>4593294470706272</td>\n",
       "      <td>https://www.facebook.com/groups/consommateurs....</td>\n",
       "      <td>2021-11-14 16:23:00</td>\n",
       "      <td>2021-11-14</td>\n",
       "      <td>16:23:00</td>\n",
       "    </tr>\n",
       "  </tbody>\n",
       "</table>\n",
       "</div>"
      ],
      "text/plain": [
       "            id_post                                          post_link  \\\n",
       "0  4911280688907647  https://www.facebook.com/groups/consommateurs....   \n",
       "1  4909455585756824  https://www.facebook.com/groups/consommateurs....   \n",
       "2  4908762469159469  https://www.facebook.com/groups/consommateurs....   \n",
       "3  4908629705839412  https://www.facebook.com/groups/consommateurs....   \n",
       "4  4593294470706272  https://www.facebook.com/groups/consommateurs....   \n",
       "\n",
       "       date_time_post   date_post hours_post  \n",
       "0 2022-02-05 14:51:55  2022-02-05   14:51:55  \n",
       "1 2022-02-04 23:51:55  2022-02-04   23:51:55  \n",
       "2 2022-02-04 15:52:00  2022-02-04   15:52:00  \n",
       "3 2022-02-04 20:51:55  2022-02-04   20:51:55  \n",
       "4 2021-11-14 16:23:00  2021-11-14   16:23:00  "
      ]
     },
     "execution_count": 53,
     "metadata": {},
     "output_type": "execute_result"
    }
   ],
   "source": [
    "author_post_data = data_author_posts(publications)\n",
    "author_post_data.head()\n"
   ]
  },
  {
   "cell_type": "code",
   "execution_count": null,
   "metadata": {},
   "outputs": [],
   "source": []
  },
  {
   "cell_type": "markdown",
   "metadata": {},
   "source": [
    "## II.2. Stockage des données des contenus des posts"
   ]
  },
  {
   "cell_type": "code",
   "execution_count": 54,
   "metadata": {},
   "outputs": [],
   "source": [
    "## 2. data_content_post\n",
    "def data_contents_posts(posts):\n",
    "    id_posts = []\n",
    "    text_pub = []\n",
    "    htag_pub_desc = []\n",
    "    htag_links = []\n",
    "    \n",
    "    for i, post in enumerate(posts):\n",
    "        # Vous pouvez activer la ligne ci-dessous pour controler afficher les itérations        #print(\"Contenu du post \\t{}\".format(i))\n",
    "        \n",
    "        # Get post ID\n",
    "        id_post = get_id_post(post)\n",
    "        id_posts.append(id_post)\n",
    "        \n",
    "        ## Textual content of the publication\n",
    "        text_post = get_pub_text(post)\n",
    "        text_pub.append(text_post)\n",
    "        \n",
    "        ## Hatgs in the post \n",
    "        htag_desc = get_htags_info(post)[0]\n",
    "        htag_pub_desc.append(htag_desc)\n",
    "        \n",
    "        ## Hatg link in the post\n",
    "        htag_link = get_htags_info(post)[1]\n",
    "        htag_links.append(htag_link)\n",
    "\n",
    "    # Donnees des Auteurs et dates de posts\n",
    "    contents_posts = pd.DataFrame(data= { 'id_post' : id_posts,\n",
    "        'text_pub' : text_pub, 'htag_pub_desc' : htag_pub_desc,\n",
    "      'htag_link' : htag_links  \n",
    "    }, columns = ['id_post','text_pub', 'htag_pub_desc',  'htag_link'])\n",
    "    \n",
    "    return contents_posts"
   ]
  },
  {
   "cell_type": "code",
   "execution_count": 55,
   "metadata": {},
   "outputs": [
    {
     "data": {
      "text/html": [
       "<div>\n",
       "<style scoped>\n",
       "    .dataframe tbody tr th:only-of-type {\n",
       "        vertical-align: middle;\n",
       "    }\n",
       "\n",
       "    .dataframe tbody tr th {\n",
       "        vertical-align: top;\n",
       "    }\n",
       "\n",
       "    .dataframe thead th {\n",
       "        text-align: right;\n",
       "    }\n",
       "</style>\n",
       "<table border=\"1\" class=\"dataframe\">\n",
       "  <thead>\n",
       "    <tr style=\"text-align: right;\">\n",
       "      <th></th>\n",
       "      <th>id_post</th>\n",
       "      <th>text_pub</th>\n",
       "      <th>htag_pub_desc</th>\n",
       "      <th>htag_link</th>\n",
       "    </tr>\n",
       "  </thead>\n",
       "  <tbody>\n",
       "    <tr>\n",
       "      <th>0</th>\n",
       "      <td>4911280688907647</td>\n",
       "      <td>#textile\\nBonjour à tous !\\nMerci de m'indique...</td>\n",
       "      <td>textile</td>\n",
       "      <td>https://m.facebook.com/hashtag/textile?refid=1...</td>\n",
       "    </tr>\n",
       "    <tr>\n",
       "      <th>1</th>\n",
       "      <td>4909455585756824</td>\n",
       "      <td>#Transpers\\n#czo\\n#suggestion\\nDes cars VIP de...</td>\n",
       "      <td>Transpers|czo|suggestion</td>\n",
       "      <td>https://m.facebook.com/hashtag/transpers?refid...</td>\n",
       "    </tr>\n",
       "    <tr>\n",
       "      <th>2</th>\n",
       "      <td>4908762469159469</td>\n",
       "      <td>#hotel\\nBonjour. Pouvez vous, svp, me recomman...</td>\n",
       "      <td>hotel</td>\n",
       "      <td>https://m.facebook.com/hashtag/hotel?refid=18&amp;...</td>\n",
       "    </tr>\n",
       "    <tr>\n",
       "      <th>3</th>\n",
       "      <td>4908629705839412</td>\n",
       "      <td>#restau\\n#czo\\nJe tiens à vous partager mon ex...</td>\n",
       "      <td>restau|czo</td>\n",
       "      <td>https://m.facebook.com/hashtag/restau?refid=18...</td>\n",
       "    </tr>\n",
       "    <tr>\n",
       "      <th>4</th>\n",
       "      <td>4593294470706272</td>\n",
       "      <td>#Beauté\\nBonjour à tous 🥰\\nIl fallait que je f...</td>\n",
       "      <td>Beauté</td>\n",
       "      <td>https://m.facebook.com/hashtag/beaut%C3%A9?ref...</td>\n",
       "    </tr>\n",
       "  </tbody>\n",
       "</table>\n",
       "</div>"
      ],
      "text/plain": [
       "            id_post                                           text_pub  \\\n",
       "0  4911280688907647  #textile\\nBonjour à tous !\\nMerci de m'indique...   \n",
       "1  4909455585756824  #Transpers\\n#czo\\n#suggestion\\nDes cars VIP de...   \n",
       "2  4908762469159469  #hotel\\nBonjour. Pouvez vous, svp, me recomman...   \n",
       "3  4908629705839412  #restau\\n#czo\\nJe tiens à vous partager mon ex...   \n",
       "4  4593294470706272  #Beauté\\nBonjour à tous 🥰\\nIl fallait que je f...   \n",
       "\n",
       "              htag_pub_desc                                          htag_link  \n",
       "0                   textile  https://m.facebook.com/hashtag/textile?refid=1...  \n",
       "1  Transpers|czo|suggestion  https://m.facebook.com/hashtag/transpers?refid...  \n",
       "2                     hotel  https://m.facebook.com/hashtag/hotel?refid=18&...  \n",
       "3                restau|czo  https://m.facebook.com/hashtag/restau?refid=18...  \n",
       "4                    Beauté  https://m.facebook.com/hashtag/beaut%C3%A9?ref...  "
      ]
     },
     "execution_count": 55,
     "metadata": {},
     "output_type": "execute_result"
    }
   ],
   "source": [
    "content_post_data = data_contents_posts(publications)\n",
    "content_post_data.head()"
   ]
  },
  {
   "cell_type": "code",
   "execution_count": null,
   "metadata": {},
   "outputs": [],
   "source": []
  },
  {
   "cell_type": "markdown",
   "metadata": {},
   "source": [
    "## II.3. Stockage données des images dans les posts"
   ]
  },
  {
   "cell_type": "code",
   "execution_count": 56,
   "metadata": {},
   "outputs": [],
   "source": [
    "## 3. data image in post\n",
    "def images_posts_info(posts, sep = '|'):\n",
    "    id_posts = []\n",
    "    images_desc = []\n",
    "    images_link = []\n",
    "    \n",
    "    for i, post in enumerate(posts):\n",
    "        # Vous pouvez activer la ligne ci-dessous pour controler afficher les itérations\n",
    "        #print(\"Collecte des images du post \\t{}\".format(i))\n",
    "        \n",
    "        # Get post ID\n",
    "        id_post = get_id_post(post)\n",
    "        id_posts.append(id_post)\n",
    "        \n",
    "        image_desc = get_image_infos(post, sep)[1]\n",
    "        images_desc.append(image_desc)\n",
    "        \n",
    "        image_link = get_image_infos(post, sep)[0]\n",
    "        images_link.append(image_link)\n",
    "#         print(\"Image link \\t{}\".format(image_link))\n",
    "    # Infos sur les images\n",
    "    images_desc_links = pd.DataFrame(data= {'id_post' : id_posts,\n",
    "        'image_desc' : images_desc, 'image_link' : images_link\n",
    "    }, columns = ['id_post','image_desc', 'image_link'])\n",
    "    return images_desc_links"
   ]
  },
  {
   "cell_type": "code",
   "execution_count": 57,
   "metadata": {},
   "outputs": [
    {
     "data": {
      "text/html": [
       "<div>\n",
       "<style scoped>\n",
       "    .dataframe tbody tr th:only-of-type {\n",
       "        vertical-align: middle;\n",
       "    }\n",
       "\n",
       "    .dataframe tbody tr th {\n",
       "        vertical-align: top;\n",
       "    }\n",
       "\n",
       "    .dataframe thead th {\n",
       "        text-align: right;\n",
       "    }\n",
       "</style>\n",
       "<table border=\"1\" class=\"dataframe\">\n",
       "  <thead>\n",
       "    <tr style=\"text-align: right;\">\n",
       "      <th></th>\n",
       "      <th>id_post</th>\n",
       "      <th>image_desc</th>\n",
       "      <th>image_link</th>\n",
       "    </tr>\n",
       "  </thead>\n",
       "  <tbody>\n",
       "    <tr>\n",
       "      <th>0</th>\n",
       "      <td>4911280688907647</td>\n",
       "      <td>|Aucune description de photo disponible.</td>\n",
       "      <td>|https://scontent.fabj3-1.fna.fbcdn.net/v/t39....</td>\n",
       "    </tr>\n",
       "    <tr>\n",
       "      <th>1</th>\n",
       "      <td>4909455585756824</td>\n",
       "      <td>|Peut être une image de bus et texte qui dit ’...</td>\n",
       "      <td>|https://scontent.fabj3-1.fna.fbcdn.net/v/t39....</td>\n",
       "    </tr>\n",
       "    <tr>\n",
       "      <th>2</th>\n",
       "      <td>4908762469159469</td>\n",
       "      <td></td>\n",
       "      <td></td>\n",
       "    </tr>\n",
       "    <tr>\n",
       "      <th>3</th>\n",
       "      <td>4908629705839412</td>\n",
       "      <td>|videovideo</td>\n",
       "      <td>|https://scontent.fabj3-1.fna.fbcdn.net/v/t15....</td>\n",
       "    </tr>\n",
       "    <tr>\n",
       "      <th>4</th>\n",
       "      <td>4593294470706272</td>\n",
       "      <td>|Peut être une image de 1 personne et intérieu...</td>\n",
       "      <td>|https://scontent.fabj3-1.fna.fbcdn.net/v/t39....</td>\n",
       "    </tr>\n",
       "  </tbody>\n",
       "</table>\n",
       "</div>"
      ],
      "text/plain": [
       "            id_post                                         image_desc  \\\n",
       "0  4911280688907647           |Aucune description de photo disponible.   \n",
       "1  4909455585756824  |Peut être une image de bus et texte qui dit ’...   \n",
       "2  4908762469159469                                                      \n",
       "3  4908629705839412                                        |videovideo   \n",
       "4  4593294470706272  |Peut être une image de 1 personne et intérieu...   \n",
       "\n",
       "                                          image_link  \n",
       "0  |https://scontent.fabj3-1.fna.fbcdn.net/v/t39....  \n",
       "1  |https://scontent.fabj3-1.fna.fbcdn.net/v/t39....  \n",
       "2                                                     \n",
       "3  |https://scontent.fabj3-1.fna.fbcdn.net/v/t15....  \n",
       "4  |https://scontent.fabj3-1.fna.fbcdn.net/v/t39....  "
      ]
     },
     "execution_count": 57,
     "metadata": {},
     "output_type": "execute_result"
    }
   ],
   "source": [
    "sep = \"|\"\n",
    "images_post_data = images_posts_info(publications, sep)\n",
    "images_post_data.head()"
   ]
  },
  {
   "cell_type": "code",
   "execution_count": null,
   "metadata": {},
   "outputs": [],
   "source": []
  },
  {
   "cell_type": "markdown",
   "metadata": {},
   "source": [
    "## II.4. Stockage données des réactions"
   ]
  },
  {
   "cell_type": "code",
   "execution_count": 58,
   "metadata": {},
   "outputs": [],
   "source": [
    "## 4. Reactions data\n",
    "def data_reactions(posts) :\n",
    "    liste = ['id_post','nbre_jaime','nbre_commentaire', 'nbre_partage','nbre_jadore', 'nbre_wouah', \n",
    "             'nbre_haha', 'nbre_grrr', 'nbre_triste','nbre_autres_reactions' ]\n",
    "    \n",
    "    nb_reactions = []\n",
    "    \n",
    "    for i, post in enumerate(posts):\n",
    "        # Vous pouvez activer la ligne ci-dessous pour controler afficher les itérations\n",
    "        #print(\"Collecte des reactions \\t{}\".format(i))\n",
    "        \n",
    "        # Get post ID\n",
    "        id_post = get_id_post(post)\n",
    "        id_posts = list([id_post]) \n",
    "        \n",
    "        reacts_elts = get_posts_reactions(post)\n",
    "        reacts_elts = id_posts + reacts_elts\n",
    "        nb_reactions.append(reacts_elts)\n",
    "        \n",
    "    data = pd.DataFrame(nb_reactions, columns=liste)\n",
    "    \n",
    "    return data"
   ]
  },
  {
   "cell_type": "code",
   "execution_count": 59,
   "metadata": {},
   "outputs": [
    {
     "data": {
      "text/html": [
       "<div>\n",
       "<style scoped>\n",
       "    .dataframe tbody tr th:only-of-type {\n",
       "        vertical-align: middle;\n",
       "    }\n",
       "\n",
       "    .dataframe tbody tr th {\n",
       "        vertical-align: top;\n",
       "    }\n",
       "\n",
       "    .dataframe thead th {\n",
       "        text-align: right;\n",
       "    }\n",
       "</style>\n",
       "<table border=\"1\" class=\"dataframe\">\n",
       "  <thead>\n",
       "    <tr style=\"text-align: right;\">\n",
       "      <th></th>\n",
       "      <th>id_post</th>\n",
       "      <th>nbre_jaime</th>\n",
       "      <th>nbre_commentaire</th>\n",
       "      <th>nbre_partage</th>\n",
       "      <th>nbre_jadore</th>\n",
       "      <th>nbre_wouah</th>\n",
       "      <th>nbre_haha</th>\n",
       "      <th>nbre_grrr</th>\n",
       "      <th>nbre_triste</th>\n",
       "      <th>nbre_autres_reactions</th>\n",
       "    </tr>\n",
       "  </thead>\n",
       "  <tbody>\n",
       "    <tr>\n",
       "      <th>0</th>\n",
       "      <td>4911280688907647</td>\n",
       "      <td>4</td>\n",
       "      <td>5</td>\n",
       "      <td>0</td>\n",
       "      <td>0</td>\n",
       "      <td>0</td>\n",
       "      <td>0</td>\n",
       "      <td>0</td>\n",
       "      <td>0</td>\n",
       "      <td>0</td>\n",
       "    </tr>\n",
       "    <tr>\n",
       "      <th>1</th>\n",
       "      <td>4909455585756824</td>\n",
       "      <td>1548</td>\n",
       "      <td>393</td>\n",
       "      <td>139</td>\n",
       "      <td>0</td>\n",
       "      <td>0</td>\n",
       "      <td>0</td>\n",
       "      <td>0</td>\n",
       "      <td>0</td>\n",
       "      <td>0</td>\n",
       "    </tr>\n",
       "    <tr>\n",
       "      <th>2</th>\n",
       "      <td>4908762469159469</td>\n",
       "      <td>117</td>\n",
       "      <td>71</td>\n",
       "      <td>4</td>\n",
       "      <td>0</td>\n",
       "      <td>0</td>\n",
       "      <td>0</td>\n",
       "      <td>0</td>\n",
       "      <td>0</td>\n",
       "      <td>0</td>\n",
       "    </tr>\n",
       "    <tr>\n",
       "      <th>3</th>\n",
       "      <td>4908629705839412</td>\n",
       "      <td>45</td>\n",
       "      <td>10</td>\n",
       "      <td>3</td>\n",
       "      <td>0</td>\n",
       "      <td>0</td>\n",
       "      <td>0</td>\n",
       "      <td>0</td>\n",
       "      <td>0</td>\n",
       "      <td>0</td>\n",
       "    </tr>\n",
       "    <tr>\n",
       "      <th>4</th>\n",
       "      <td>4593294470706272</td>\n",
       "      <td>1294</td>\n",
       "      <td>336</td>\n",
       "      <td>72</td>\n",
       "      <td>0</td>\n",
       "      <td>0</td>\n",
       "      <td>0</td>\n",
       "      <td>0</td>\n",
       "      <td>0</td>\n",
       "      <td>0</td>\n",
       "    </tr>\n",
       "  </tbody>\n",
       "</table>\n",
       "</div>"
      ],
      "text/plain": [
       "            id_post nbre_jaime nbre_commentaire nbre_partage nbre_jadore  \\\n",
       "0  4911280688907647          4                5            0           0   \n",
       "1  4909455585756824       1548              393          139           0   \n",
       "2  4908762469159469        117               71            4           0   \n",
       "3  4908629705839412         45               10            3           0   \n",
       "4  4593294470706272       1294              336           72           0   \n",
       "\n",
       "  nbre_wouah nbre_haha nbre_grrr nbre_triste nbre_autres_reactions  \n",
       "0          0         0         0           0                     0  \n",
       "1          0         0         0           0                     0  \n",
       "2          0         0         0           0                     0  \n",
       "3          0         0         0           0                     0  \n",
       "4          0         0         0           0                     0  "
      ]
     },
     "execution_count": 59,
     "metadata": {},
     "output_type": "execute_result"
    }
   ],
   "source": [
    "reactions_post_data = data_reactions(publications)\n",
    "reactions_post_data.head()"
   ]
  },
  {
   "cell_type": "code",
   "execution_count": null,
   "metadata": {},
   "outputs": [],
   "source": []
  },
  {
   "cell_type": "markdown",
   "metadata": {},
   "source": [
    "## II.5. Consolidation des données"
   ]
  },
  {
   "cell_type": "code",
   "execution_count": 60,
   "metadata": {},
   "outputs": [],
   "source": [
    "## 5. Join all informations on collected publications \n",
    "def post_data_reacts_content(author_df, content_df, image_df, reacts_df) :\n",
    "    \n",
    "    posts_data_reacts = pd.merge(author_df, content_df, how = 'inner', on = 'id_post')\n",
    "    posts_data_reacts = pd.merge(posts_data_reacts, image_df, how = 'inner', on = 'id_post')\n",
    "    posts_data_reacts = pd.merge(posts_data_reacts, reacts_df, how = 'inner', on = 'id_post')\n",
    "    posts_data_reacts = posts_data_reacts[posts_data_reacts['id_post'].notnull()]\n",
    "    posts_data_reacts = posts_data_reacts.drop_duplicates(['id_post'])\n",
    "    posts_data_reacts['text_pub'] = posts_data_reacts['text_pub'].astype(str)\n",
    "    posts_data_reacts = posts_data_reacts[posts_data_reacts['text_pub']!='']\n",
    "    \n",
    "    return posts_data_reacts"
   ]
  },
  {
   "cell_type": "code",
   "execution_count": 61,
   "metadata": {},
   "outputs": [
    {
     "data": {
      "text/html": [
       "<div>\n",
       "<style scoped>\n",
       "    .dataframe tbody tr th:only-of-type {\n",
       "        vertical-align: middle;\n",
       "    }\n",
       "\n",
       "    .dataframe tbody tr th {\n",
       "        vertical-align: top;\n",
       "    }\n",
       "\n",
       "    .dataframe thead th {\n",
       "        text-align: right;\n",
       "    }\n",
       "</style>\n",
       "<table border=\"1\" class=\"dataframe\">\n",
       "  <thead>\n",
       "    <tr style=\"text-align: right;\">\n",
       "      <th></th>\n",
       "      <th>id_post</th>\n",
       "      <th>post_link</th>\n",
       "      <th>date_time_post</th>\n",
       "      <th>date_post</th>\n",
       "      <th>hours_post</th>\n",
       "      <th>text_pub</th>\n",
       "      <th>htag_pub_desc</th>\n",
       "      <th>htag_link</th>\n",
       "      <th>image_desc</th>\n",
       "      <th>image_link</th>\n",
       "      <th>nbre_jaime</th>\n",
       "      <th>nbre_commentaire</th>\n",
       "      <th>nbre_partage</th>\n",
       "      <th>nbre_jadore</th>\n",
       "      <th>nbre_wouah</th>\n",
       "      <th>nbre_haha</th>\n",
       "      <th>nbre_grrr</th>\n",
       "      <th>nbre_triste</th>\n",
       "      <th>nbre_autres_reactions</th>\n",
       "    </tr>\n",
       "  </thead>\n",
       "  <tbody>\n",
       "    <tr>\n",
       "      <th>0</th>\n",
       "      <td>4911280688907647</td>\n",
       "      <td>https://www.facebook.com/groups/consommateurs....</td>\n",
       "      <td>2022-02-05 14:51:55</td>\n",
       "      <td>2022-02-05</td>\n",
       "      <td>14:51:55</td>\n",
       "      <td>#textile\\nBonjour à tous !\\nMerci de m'indique...</td>\n",
       "      <td>textile</td>\n",
       "      <td>https://m.facebook.com/hashtag/textile?refid=1...</td>\n",
       "      <td>|Aucune description de photo disponible.</td>\n",
       "      <td>|https://scontent.fabj3-1.fna.fbcdn.net/v/t39....</td>\n",
       "      <td>4</td>\n",
       "      <td>5</td>\n",
       "      <td>0</td>\n",
       "      <td>0</td>\n",
       "      <td>0</td>\n",
       "      <td>0</td>\n",
       "      <td>0</td>\n",
       "      <td>0</td>\n",
       "      <td>0</td>\n",
       "    </tr>\n",
       "    <tr>\n",
       "      <th>1</th>\n",
       "      <td>4909455585756824</td>\n",
       "      <td>https://www.facebook.com/groups/consommateurs....</td>\n",
       "      <td>2022-02-04 23:51:55</td>\n",
       "      <td>2022-02-04</td>\n",
       "      <td>23:51:55</td>\n",
       "      <td>#Transpers\\n#czo\\n#suggestion\\nDes cars VIP de...</td>\n",
       "      <td>Transpers|czo|suggestion</td>\n",
       "      <td>https://m.facebook.com/hashtag/transpers?refid...</td>\n",
       "      <td>|Peut être une image de bus et texte qui dit ’...</td>\n",
       "      <td>|https://scontent.fabj3-1.fna.fbcdn.net/v/t39....</td>\n",
       "      <td>1548</td>\n",
       "      <td>393</td>\n",
       "      <td>139</td>\n",
       "      <td>0</td>\n",
       "      <td>0</td>\n",
       "      <td>0</td>\n",
       "      <td>0</td>\n",
       "      <td>0</td>\n",
       "      <td>0</td>\n",
       "    </tr>\n",
       "    <tr>\n",
       "      <th>2</th>\n",
       "      <td>4908762469159469</td>\n",
       "      <td>https://www.facebook.com/groups/consommateurs....</td>\n",
       "      <td>2022-02-04 15:52:00</td>\n",
       "      <td>2022-02-04</td>\n",
       "      <td>15:52:00</td>\n",
       "      <td>#hotel\\nBonjour. Pouvez vous, svp, me recomman...</td>\n",
       "      <td>hotel</td>\n",
       "      <td>https://m.facebook.com/hashtag/hotel?refid=18&amp;...</td>\n",
       "      <td></td>\n",
       "      <td></td>\n",
       "      <td>117</td>\n",
       "      <td>71</td>\n",
       "      <td>4</td>\n",
       "      <td>0</td>\n",
       "      <td>0</td>\n",
       "      <td>0</td>\n",
       "      <td>0</td>\n",
       "      <td>0</td>\n",
       "      <td>0</td>\n",
       "    </tr>\n",
       "    <tr>\n",
       "      <th>3</th>\n",
       "      <td>4908629705839412</td>\n",
       "      <td>https://www.facebook.com/groups/consommateurs....</td>\n",
       "      <td>2022-02-04 20:51:55</td>\n",
       "      <td>2022-02-04</td>\n",
       "      <td>20:51:55</td>\n",
       "      <td>#restau\\n#czo\\nJe tiens à vous partager mon ex...</td>\n",
       "      <td>restau|czo</td>\n",
       "      <td>https://m.facebook.com/hashtag/restau?refid=18...</td>\n",
       "      <td>|videovideo</td>\n",
       "      <td>|https://scontent.fabj3-1.fna.fbcdn.net/v/t15....</td>\n",
       "      <td>45</td>\n",
       "      <td>10</td>\n",
       "      <td>3</td>\n",
       "      <td>0</td>\n",
       "      <td>0</td>\n",
       "      <td>0</td>\n",
       "      <td>0</td>\n",
       "      <td>0</td>\n",
       "      <td>0</td>\n",
       "    </tr>\n",
       "    <tr>\n",
       "      <th>4</th>\n",
       "      <td>4593294470706272</td>\n",
       "      <td>https://www.facebook.com/groups/consommateurs....</td>\n",
       "      <td>2021-11-14 16:23:00</td>\n",
       "      <td>2021-11-14</td>\n",
       "      <td>16:23:00</td>\n",
       "      <td>#Beauté\\nBonjour à tous 🥰\\nIl fallait que je f...</td>\n",
       "      <td>Beauté</td>\n",
       "      <td>https://m.facebook.com/hashtag/beaut%C3%A9?ref...</td>\n",
       "      <td>|Peut être une image de 1 personne et intérieu...</td>\n",
       "      <td>|https://scontent.fabj3-1.fna.fbcdn.net/v/t39....</td>\n",
       "      <td>1294</td>\n",
       "      <td>336</td>\n",
       "      <td>72</td>\n",
       "      <td>0</td>\n",
       "      <td>0</td>\n",
       "      <td>0</td>\n",
       "      <td>0</td>\n",
       "      <td>0</td>\n",
       "      <td>0</td>\n",
       "    </tr>\n",
       "  </tbody>\n",
       "</table>\n",
       "</div>"
      ],
      "text/plain": [
       "            id_post                                          post_link  \\\n",
       "0  4911280688907647  https://www.facebook.com/groups/consommateurs....   \n",
       "1  4909455585756824  https://www.facebook.com/groups/consommateurs....   \n",
       "2  4908762469159469  https://www.facebook.com/groups/consommateurs....   \n",
       "3  4908629705839412  https://www.facebook.com/groups/consommateurs....   \n",
       "4  4593294470706272  https://www.facebook.com/groups/consommateurs....   \n",
       "\n",
       "       date_time_post   date_post hours_post  \\\n",
       "0 2022-02-05 14:51:55  2022-02-05   14:51:55   \n",
       "1 2022-02-04 23:51:55  2022-02-04   23:51:55   \n",
       "2 2022-02-04 15:52:00  2022-02-04   15:52:00   \n",
       "3 2022-02-04 20:51:55  2022-02-04   20:51:55   \n",
       "4 2021-11-14 16:23:00  2021-11-14   16:23:00   \n",
       "\n",
       "                                            text_pub  \\\n",
       "0  #textile\\nBonjour à tous !\\nMerci de m'indique...   \n",
       "1  #Transpers\\n#czo\\n#suggestion\\nDes cars VIP de...   \n",
       "2  #hotel\\nBonjour. Pouvez vous, svp, me recomman...   \n",
       "3  #restau\\n#czo\\nJe tiens à vous partager mon ex...   \n",
       "4  #Beauté\\nBonjour à tous 🥰\\nIl fallait que je f...   \n",
       "\n",
       "              htag_pub_desc  \\\n",
       "0                   textile   \n",
       "1  Transpers|czo|suggestion   \n",
       "2                     hotel   \n",
       "3                restau|czo   \n",
       "4                    Beauté   \n",
       "\n",
       "                                           htag_link  \\\n",
       "0  https://m.facebook.com/hashtag/textile?refid=1...   \n",
       "1  https://m.facebook.com/hashtag/transpers?refid...   \n",
       "2  https://m.facebook.com/hashtag/hotel?refid=18&...   \n",
       "3  https://m.facebook.com/hashtag/restau?refid=18...   \n",
       "4  https://m.facebook.com/hashtag/beaut%C3%A9?ref...   \n",
       "\n",
       "                                          image_desc  \\\n",
       "0           |Aucune description de photo disponible.   \n",
       "1  |Peut être une image de bus et texte qui dit ’...   \n",
       "2                                                      \n",
       "3                                        |videovideo   \n",
       "4  |Peut être une image de 1 personne et intérieu...   \n",
       "\n",
       "                                          image_link nbre_jaime  \\\n",
       "0  |https://scontent.fabj3-1.fna.fbcdn.net/v/t39....          4   \n",
       "1  |https://scontent.fabj3-1.fna.fbcdn.net/v/t39....       1548   \n",
       "2                                                           117   \n",
       "3  |https://scontent.fabj3-1.fna.fbcdn.net/v/t15....         45   \n",
       "4  |https://scontent.fabj3-1.fna.fbcdn.net/v/t39....       1294   \n",
       "\n",
       "  nbre_commentaire nbre_partage nbre_jadore nbre_wouah nbre_haha nbre_grrr  \\\n",
       "0                5            0           0          0         0         0   \n",
       "1              393          139           0          0         0         0   \n",
       "2               71            4           0          0         0         0   \n",
       "3               10            3           0          0         0         0   \n",
       "4              336           72           0          0         0         0   \n",
       "\n",
       "  nbre_triste nbre_autres_reactions  \n",
       "0           0                     0  \n",
       "1           0                     0  \n",
       "2           0                     0  \n",
       "3           0                     0  \n",
       "4           0                     0  "
      ]
     },
     "execution_count": 61,
     "metadata": {},
     "output_type": "execute_result"
    }
   ],
   "source": [
    "posts_data_reacts = post_data_reacts_content(author_post_data, \n",
    "                                             content_post_data,\n",
    "                                             images_post_data,\n",
    "                                             reactions_post_data)\n",
    "posts_data_reacts = posts_data_reacts[posts_data_reacts['text_pub']!='']\n",
    "\n",
    "posts_data_reacts.head()"
   ]
  },
  {
   "cell_type": "markdown",
   "metadata": {},
   "source": [
    "### II.6. Stockage en format Parquet"
   ]
  },
  {
   "cell_type": "markdown",
   "metadata": {},
   "source": [
    "Pour stocker vos fichiers textuels (surtout provenant des réseaux sociaux où les internautes qui écrivent un peu de tout à volonté), il est préférable d'utiliser le stockage en format **parquet** , **JSON**, ...\n",
    "\n",
    "Pour le stockage en format **parquet**, vous aurez besoin d'intaller le package **pyarrow** en faisant ``pip install pyarrow``."
   ]
  },
  {
   "cell_type": "code",
   "execution_count": null,
   "metadata": {},
   "outputs": [],
   "source": [
    "from datetime import datetime\n",
    "def stored_post_data_to_parquet(data, dossier, group_name, \n",
    "                                type_infos = 'posts', \n",
    "                                file_name = 'posts_data_reacts') :\n",
    "    \"\"\"\n",
    "    dossier : storage directory ;\n",
    "    type_infos : {'posts', 'commentaires'} ;\n",
    "    group_name : the name or the abbreviation of the collected group ;\n",
    "    file_name : the file name (without extension); \n",
    "\n",
    "    \"\"\"\n",
    "    data = data[data['text_pub']!='']\n",
    "    now = str(datetime.now())[:19]\n",
    "    # ile_date : the datetime of collect (the started time of collect) in format : YYYY-mm-dd_HH_MM_SS\n",
    "    file_date = '_'.join(now.split()).replace(':', '_')\n",
    "    posts_dir = type_infos\n",
    "    \n",
    "    os.makedirs(dossier, exist_ok=True)\n",
    "    os.chdir(dossier)\n",
    "    os.makedirs(group_name+\"\\\\\"+posts_dir, exist_ok=True)\n",
    "    stored_path = dossier+\"\\\\\"+ group_name+\"\\\\\"+posts_dir+\"\\\\\"+file_name+file_date + \".parquet\"\n",
    "    data.to_parquet(stored_path, \"pyarrow\")\n"
   ]
  },
  {
   "cell_type": "code",
   "execution_count": null,
   "metadata": {},
   "outputs": [],
   "source": [
    "dossier = \"C:\\\\Users\\\\FJPN3406\\\\Documents\\\\FORMATIONS\\\\WEB_SCRAPING\\\\STOCKAGES\"\n",
    "group_name = \"ucaevd\""
   ]
  },
  {
   "cell_type": "code",
   "execution_count": null,
   "metadata": {},
   "outputs": [],
   "source": [
    "stored_post_data_to_parquet(data = posts_data_reacts,\n",
    "                            dossier = dossier,\n",
    "                            group_name = group_name,\n",
    "                            type_infos = 'posts',\n",
    "                            file_name = 'posts_data_reacts')"
   ]
  },
  {
   "cell_type": "code",
   "execution_count": null,
   "metadata": {},
   "outputs": [],
   "source": []
  },
  {
   "cell_type": "markdown",
   "metadata": {},
   "source": [
    "### II.7. Stockage en CSV"
   ]
  },
  {
   "cell_type": "markdown",
   "metadata": {},
   "source": [
    "Pour des données textuelles, il est conseillé d'éviter le stockage en CSV pour structurer votre ficher du fait des séparateurs qui peuvent être utilisés sdans les contenus textuels, autant que le souhaite l'auteur."
   ]
  },
  {
   "cell_type": "code",
   "execution_count": null,
   "metadata": {},
   "outputs": [],
   "source": [
    "## 7. Storage collected data\n",
    "def stored_post_data_to_csv(data, dossier, group_name,\n",
    "                            type_infos = 'posts', \n",
    "                            file_name = 'posts_data_reacts',\n",
    "                            sep = \"|\") :\n",
    "    \"\"\"\n",
    "    dossier : storage directory ;\n",
    "    type_infos : {'posts', 'commentaires'} ;\n",
    "    group_name : the name or the abbreviation of the collected group ;\n",
    "    file_name : the file name (without extension); \n",
    "\n",
    "    \"\"\"\n",
    "    data = data[data['text_pub']!='']\n",
    "    from datetime import datetime\n",
    "    now = str(datetime.now())[:19]\n",
    "    # ile_date : the datetime of collect (the started time of collect) in format : YYYY-mm-dd_HH_MM_SS\n",
    "    file_date = '_'.join(now.split()).replace(':', '_')\n",
    "    posts_dir = type_infos\n",
    "    \n",
    "    os.makedirs(dossier, exist_ok=True)\n",
    "    os.chdir(dossier)\n",
    "    os.makedirs(group_name+\"\\\\\"+posts_dir, exist_ok=True)\n",
    "    stored_path = dossier+\"\\\\\"+ group_name+\"\\\\\"+posts_dir+\"\\\\\"+file_name+file_date + \".csv\"\n",
    "    data.to_csv(stored_path,  encoding = 'utf-8',\n",
    "                         index = False, sep = sep)"
   ]
  },
  {
   "cell_type": "code",
   "execution_count": null,
   "metadata": {},
   "outputs": [],
   "source": [
    "stored_post_data_to_csv(data = posts_data_reacts,\n",
    "                            dossier = dossier,\n",
    "                            group_name = group_name,\n",
    "                            type_infos = 'posts',\n",
    "                            file_name = 'posts_data_reacts',\n",
    "                            sep = \"@\")"
   ]
  },
  {
   "cell_type": "markdown",
   "metadata": {},
   "source": [
    "Ici, le séparateur utilisé est ``\"@\"``. Un problème de structuration des données peut suvenir si ``\"@\"`` est utilisé dans le contenu d'un post.\n",
    "\n",
    "Par exemple la chaine ``surname.name@inphb.ci`` faussera la structure des champs dans les données stockées.\n",
    "\n"
   ]
  },
  {
   "cell_type": "markdown",
   "metadata": {},
   "source": [
    "\n",
    "## III. APPLICATIONS DES FONCTIONS DE COLLECTE"
   ]
  },
  {
   "cell_type": "markdown",
   "metadata": {},
   "source": [
    "Génial !!!\n",
    "\n",
    "Vous êtes parvenus à l'étape d'exécution de toutes les fonctions établies pour scraper les publication FACEBOOK d'un groupe public via le lien de la version mobile.\n",
    "\n",
    "Maintenant, vous pouvez faire l'une actions suivantes :   \n",
    "\n",
    "- 1. Action N°1\n",
    "    \n",
    "    - Redémarrer tout le notebook  \n",
    "    - Exécuter toutes les cellules où ont été définies les différentes fonctions (en prénant le soin de ne pas appeler ces fonctions : \n",
    "        - *N'exécutez pas les cellules code après les cellules des fonctions*\n",
    "    - Après vous êtes assurés que toutes les fonctions aient été chargées, exécutez la cellule ci-dessous  *APPLICATIONS : APPLYING FUNCTIONS FOR COLLECT* :\n",
    "        - *Prenez le soins de bien rensiegner les chemins du driver et du répertoire de stockage de vos données.\n",
    "    - Exécuter la cellule\n",
    "        \n",
    "        \n",
    "- 2. Action N°2 : \n",
    "    \n",
    "    - Ouvrir un nouveau notebook\n",
    "    - Copier toutes les fonctions définies\n",
    "    - Puis les mettre dans une seule cellule\n",
    "        - Ne pas oublier d'y mettre aussi tous les packages\n",
    "    - Insérer maintenant le code de la cellule ci-dessous dans le nouveau notebook à la suite des fonctions (dans la même cellule) :  \n",
    "        - Prenez le soins de bien rensiegner les chemins du driver et du répertoire de stockage de vos données.\n",
    "    - Exécuter la cellule\n",
    "        \n",
    "\n",
    "- 3. Actions N°3\n",
    "\n",
    "    - Créer un nouveau fichier ``.py`` \n",
    "    - Copier le contenu de la cellule du nouveau notebook\n",
    "    - Insérer le contenu dans le fichier ``.py`` créé\n",
    "    - Exécuter le fichier en invite de commande\n",
    "    "
   ]
  },
  {
   "cell_type": "code",
   "execution_count": null,
   "metadata": {},
   "outputs": [],
   "source": [
    "# ============= APPLICATIONS : APPLYING FUNCTIONS FOR COLLECT ===================#\n",
    "print(\"Heure de DEBUT de collecte \\t{}\".format(str(datetime.now())[:19]))\n",
    "\n",
    "# ## Group to collact an its mobile URL \n",
    "group = 'ucaevd' \n",
    "url = 'https://m.facebook.com/groups/consommateurs.abidjan/'\n",
    "\n",
    "## Complementary element to get POST URL\n",
    "permalink = 'permalink/'\n",
    "\n",
    "## Geckodriver Path\n",
    "# gecko_path = \"put_your_driver_path_here\"\n",
    "gecko_path = \"C:/Users/FJPN3406/Documents/FORMATIONS/WEB_SCRAPING/PRATIQUES_WEB_SCRAPING/scraping_env/geckodriver.exe\"\n",
    "\n",
    "## Storage Space for collected data\n",
    "#dossier = \"put_your_root_storage_directory_here\"\n",
    "dossier = \"C:\\\\Users\\\\FJPN3406\\\\Documents\\\\FORMATIONS\\\\WEB_SCRAPING\\\\STOCKAGES\"\n",
    "\n",
    "os.chdir(dossier)\n",
    "comments_dir = \"commentaires\"\n",
    "posts_dir = \"posts\"\n",
    "\n",
    "## Connect to driver and Facebook\n",
    "driver = connexion_to_group(url, gecko_path)\n",
    "\n",
    "try :\n",
    "\n",
    "    # Authentification\n",
    "    try :\n",
    "        login = \"your_login\"\n",
    "        password = \"your_password\"\n",
    "        login_to_group(login, password)\n",
    "    except :\n",
    "        pass\n",
    "\n",
    "    ## Get more page\n",
    "    afficher_plus_de_pubs(2, 3)\n",
    "\n",
    "    ## Collect publications\n",
    "    print('\\n *********** COLLECTE DES ELEMENTS WEB DES POSTS **********\\n ')\n",
    "    publications = get_all_publications()\n",
    "\n",
    "    ## Collect authors posts data\n",
    "    print('\\n COLLECTE DES DONNEES DES ********* AUTEURS ********* DES POSTS \\n ')\n",
    "    author_post_data = data_author_posts(publications)\n",
    "\n",
    "    ## Collect Contents posts data\n",
    "    print('\\n COLLECTE DES ***********  CONTENUS TEXTUELS ********** DES POSTS \\n ')\n",
    "    content_post_data = data_contents_posts(publications)\n",
    "\n",
    "    ## Collect contents image posts data\n",
    "    print('\\n COLLECTE DES *********** IMAGES *********** DES POSTS \\n ')\n",
    "    sep = \"|\"\n",
    "    images_post_data = images_posts_info(publications, sep)\n",
    "\n",
    "    ## Collect des reactions data\n",
    "    print('\\n  COLLECTE DES *********** REACTIONS *********** DES POSTS \\n ')\n",
    "    reactions_post_data = data_reactions(publications)\n",
    "except :\n",
    "    pass\n",
    "    \n",
    "## Get All collected posts data\n",
    "print('\\n *********** REGROUPEMENTS DE TOUTES LES DONNEES DES POSTS **********\\n ')\n",
    "posts_data_reacts = post_data_reacts_content(author_post_data, \n",
    "                                             content_post_data,\n",
    "                                             images_post_data,\n",
    "                                             reactions_post_data)\n",
    "posts_data_reacts = posts_data_reacts[posts_data_reacts['text_pub']!='']\n",
    "\n",
    "# stored_path = dossier + group+\"\\\\\"+posts_dir+\"\\\\posts_data_reacts\"+file_date + \".csv\"\n",
    "print(\"\\n STOCKAGE DES DONNEES DES POSTS \\n\")\n",
    "stored_post_data_to_csv(data = posts_data_reacts,\n",
    "                            dossier = dossier,\n",
    "                            group_name = group_name,\n",
    "                            type_infos = 'posts',\n",
    "                            file_name = 'posts_data_reacts',\n",
    "                            sep = \"@\")\n",
    "\n",
    "print(\"\\n STOCKAGE DES DONNEES DES SENTIMENTS \\n\")\n",
    "stored_post_data_to_parquet(data = posts_data_reacts,\n",
    "                            dossier = dossier,\n",
    "                            group_name = group_name,\n",
    "                            type_infos = 'posts',\n",
    "                            file_name = 'posts_data_reacts')\n",
    "\n",
    "driver.quit()\n",
    "print(\"\\nHeure de FIN de collecte \\t{}\".format(str(datetime.now())[:19]))"
   ]
  },
  {
   "cell_type": "markdown",
   "metadata": {},
   "source": []
  },
  {
   "cell_type": "markdown",
   "metadata": {},
   "source": [
    "Merci d'avoir accordé un si grand intérêt à ce cours!!\n",
    "\n",
    "Nous restons ouvert pour d'éventuelles préoccupations.\n",
    "\n",
    "**ON NE FINIT JAMAIS D'APPRENDRE**\n",
    "\n",
    "\n",
    "**VOS CRITIQUES & SUGGESTIONS SONT LES BIENVENUES POUR AIDER A AMELIORER LE COURS**\n",
    "\n",
    "\n",
    "\n",
    "  ![alt](images/merci-bonhomme.gif) "
   ]
  },
  {
   "cell_type": "markdown",
   "metadata": {},
   "source": []
  }
 ],
 "metadata": {
  "kernelspec": {
   "display_name": "Python 3",
   "language": "python",
   "name": "python3"
  },
  "language_info": {
   "codemirror_mode": {
    "name": "ipython",
    "version": 3
   },
   "file_extension": ".py",
   "mimetype": "text/x-python",
   "name": "python",
   "nbconvert_exporter": "python",
   "pygments_lexer": "ipython3",
   "version": "3.8.5"
  }
 },
 "nbformat": 4,
 "nbformat_minor": 4
}
