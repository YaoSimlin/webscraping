{
 "cells": [
  {
   "cell_type": "markdown",
   "metadata": {},
   "source": [
    "# SCRAPING DE PAGE DYNAMIQUE : SELENIUM\n",
    "\n",
    "\n",
    "*OBJECTIF*: \n",
    "  - Utiliser le module **Selenium** de Python pour scraper les pages dynamiques\n",
    "\n",
    "Prérequis: \n",
    "  - Installer `selenium`\n",
    "  - Télécharger le `webdriver chrome` (l’objet qui gère le navigateur utilisé par Selenium)  [ici](https://chromedriver.chromium.org/downloads)."
   ]
  },
  {
   "cell_type": "markdown",
   "metadata": {},
   "source": [
    "## Introduction"
   ]
  },
  {
   "cell_type": "markdown",
   "metadata": {},
   "source": [
    "**BeautifulSoup** est une excellente bibliothèque pour récupérer des données sur le Web, mais elle ne traite pas du contenu créé de manière dynamique. Ce n’est en aucun cas une critique - Beautiful Soup fait exactement le travail qu’elle est censée faire et cela n’inclut pas le rendu de la page Web comme le ferait un navigateur.\n",
    "\n",
    "Afin d'obtenir ce contenu dynamique, la page Web doit être interprétée par un navigateur afin que le Javascript qui crée le contenu dynamique puisse faire son travail. Mais comment arriver au code HTML rendu par le navigateur? Une réponse consiste à utiliser un navigateur auxiliaire et la bibliothèque **Selenium** de Python. \n",
    "\n",
    "Nous allons utiliser un fichier HTML très simple qui contient du texte rendu dynamiquement. \n",
    "\n",
    "Copiez le code suivant dans un fichier nommé *test.html*"
   ]
  },
  {
   "cell_type": "markdown",
   "metadata": {},
   "source": [
    "<html>\n",
    "<head>\n",
    "   <title>Page Dynamique</title>\n",
    "</head>\n",
    "<body>\n",
    "   <div id=\"text\">Zone de texte</div>\n",
    "   <script>\n",
    "      document.getElementById(\"text\").innerHTML=\"Ceci est notre texte\"\n",
    "   </script>\n",
    "</body>\n",
    "</html>"
   ]
  },
  {
   "cell_type": "markdown",
   "metadata": {},
   "source": [
    "Tout ce que nous avons ici est un fichier HTML avec un seul `<div>` dans le corps qui contient du texte («Zone de texte») mais lorsque la page est chargée, ce texte est remplacé par le texte généré par le Javascript plus bas. Le script localise le `<div>` par son id, «texte», puis définit le texte interne sur: «Ceci est notre texte»."
   ]
  },
  {
   "cell_type": "markdown",
   "metadata": {},
   "source": [
    "Maintenant voyons ce qui passe nous essayons de scraper cette page"
   ]
  },
  {
   "cell_type": "code",
   "execution_count": 2,
   "metadata": {},
   "outputs": [
    {
     "name": "stdout",
     "output_type": "stream",
     "text": [
      "Page Dynamique\n",
      "Zone de texte\n"
     ]
    }
   ],
   "source": [
    "from bs4 import BeautifulSoup\n",
    "\n",
    "# Lecture du fichier\n",
    "soup_file=open(\"test.html\")\n",
    "# Parcourrir le code source\n",
    "soup = BeautifulSoup(soup_file)\n",
    "print(soup.title.get_text())\n",
    "print(soup.find(id='text').get_text())"
   ]
  },
  {
   "cell_type": "markdown",
   "metadata": {},
   "source": [
    "Dans le code ci-dessus, nous ouvrons le fichier html et par la suite nous utilisons BS pour parcourir le code source de la page.\n",
    "\n",
    "Mais comme vous pouvez le voir, nous n'avons récupéré que le contenu static de la page. Le texte généré par le JS n'as pu etre récupéré par BS. **C'est là que selenium rentre en jeu**\n",
    "\n",
    "## SELENIUM\n",
    "\n",
    "Selenium est un outil d’automatisation de test pour le web. Il permet de créer des **robots** qui naviguent dans des pages webs comme le ferait un vrai utilisateur. Bien que le premier rôle de Selenium soit le testing de pages webs (développement web), cet outil est beaucoup utilisé pour l’extraction de données.\n",
    "\n",
    "## Pourquoi utiliser Selenium pour scraper ?\n",
    "\n",
    "   La démarche habituelle pour scraper est : une requête suivie du parsing de la réponse. Dans la plupart des cas cela marche bien. Mais lorsque l’on a affaire à des sites avec plusieurs redirections ou avec des pop-ups avec lesquels il faut interagir avant d’avoir la page qu’on veut, cette démarche devient beaucoup moins amusante. Car il faut analyser le réseau et simuler les requêtes dans le bon ordre avec les bons arguments. Et parfois il est carrement impossible d’accéder à une page via une simple requête.\n",
    "\n",
    "   L’avantage de Selenium c’est que l’on (notre script) peut naviguer sur les pages. Du coup, si on voit la donnée dans notre navigateur, on peut la scraper via Selenium. Avec selenium, on peut remplir des formulaire, cliquer sur des boutons, scroller, parser des pages etc."
   ]
  },
  {
   "cell_type": "markdown",
   "metadata": {},
   "source": []
  },
  {
   "cell_type": "code",
   "execution_count": 9,
   "metadata": {},
   "outputs": [],
   "source": [
    "from selenium import webdriver\n",
    "from selenium.webdriver.common.keys import Keys"
   ]
  },
  {
   "cell_type": "code",
   "execution_count": 17,
   "metadata": {},
   "outputs": [],
   "source": [
    "# Création d'une instance driver\n",
    "chrome_driver = webdriver.Chrome(r\"C:\\Users\\XVMP2111\\Downloads\\chromedriver.exe\")\n",
    "\n",
    "# On va sur notre page test.html\n",
    "chrome_driver.get(r\"C:/Users/XVMP2111/Documents/Course/test.html\")"
   ]
  },
  {
   "cell_type": "markdown",
   "metadata": {},
   "source": [
    "L'étape suivante consiste à créer un objet BeautifulSoup et à y charger la source de la page. Nous pouvons ensuite extraire les données de cette source. Dans le code ci-dessous, vous pouvez voir que nous faisons à peu près la même chose que dans l'exercice précédent. Mais cette fois, le résultat sera différent"
   ]
  },
  {
   "cell_type": "code",
   "execution_count": 20,
   "metadata": {},
   "outputs": [
    {
     "name": "stdout",
     "output_type": "stream",
     "text": [
      "Page Dynamique\n",
      "Ceci est notre texte\n"
     ]
    }
   ],
   "source": [
    "# Mettez la source de la page dans une variable et créez un objet BS à partir de celle-ci \n",
    "soup_file = chrome_driver.page_source \n",
    "soup = BeautifulSoup (soup_file)\n",
    "# Charger et imprimer le titre et le texte de <div> \n",
    "print (soup.title.get_text ()) \n",
    "print(soup.find(id='text').get_text())"
   ]
  },
  {
   "cell_type": "markdown",
   "metadata": {},
   "source": [
    "Comme vous pouvez le voir, nous utilisons maintenant le code qui a été traité par le navigateur Web driver, le résultat est ce qui serait rendu dans une fenêtre de navigateur, et non la source d'origine comme lors de notre première tentative."
   ]
  },
  {
   "cell_type": "code",
   "execution_count": 21,
   "metadata": {},
   "outputs": [],
   "source": [
    "# Fermez le navigateur \n",
    "chrome_driver.quit ()"
   ]
  },
  {
   "cell_type": "markdown",
   "metadata": {},
   "source": [
    "## Exemple\n",
    "\n",
    "Nous voulons avoir les prix, titres d’offre et images pour toutes les offres concernants les IPhones sur le site de [http://www.ebay.fr](\"http://www.ebay.fr\"). Pour cela nous allons juste faire une recherche du mot clé “iphone” puis récupérer les informations. Simple non ?"
   ]
  },
  {
   "cell_type": "code",
   "execution_count": 38,
   "metadata": {},
   "outputs": [],
   "source": [
    "#  Le webdriver est l’objet qui gère le navigateur utilisé par Selenium\n",
    "from selenium import webdriver\n",
    "\n",
    "# Pour utiliser toutes les touches du clavier\n",
    "from selenium.webdriver.common.keys import Keys\n",
    "\n",
    "# Pour mettre le script en “pause” pour les chargement de page.\n",
    "from time import sleep"
   ]
  },
  {
   "cell_type": "code",
   "execution_count": 40,
   "metadata": {},
   "outputs": [],
   "source": [
    "chrome_driver = webdriver.Chrome(r\"C:\\Users\\XVMP2111\\Downloads\\chromedriver.exe\")\n",
    "\n",
    "# Chargement de la page dans le driver\n",
    "chrome_driver.get(\"https://www.ivoiremobiles.net\")\n",
    "\n",
    "# En fonction de notre connexion et des performance de notre machine il faudra attendre\n",
    "# que la page charge avant de passer à la suite\n",
    "sleep(10)"
   ]
  },
  {
   "cell_type": "markdown",
   "metadata": {},
   "source": [
    "On recupère, grâce au selecteur de Selenium, l’élément qui correspond au champ “recherche”. Pour trouver le bon élément il faut inspecter la page"
   ]
  },
  {
   "cell_type": "code",
   "execution_count": 42,
   "metadata": {},
   "outputs": [],
   "source": [
    "# On recupere la bar de recherche, on la remplit avec \"iphone\" puis on appuie \"Entrez\"\n",
    "search_bar = chrome_driver.find_element_by_name(\"search_query\")\n",
    "search_bar.send_keys(\"iphone\")\n",
    "search_bar.send_keys(Keys.ENTER)"
   ]
  },
  {
   "cell_type": "markdown",
   "metadata": {},
   "source": [
    "Jetez maintenant un oeil sur le webdriver généré par selenium"
   ]
  },
  {
   "cell_type": "code",
   "execution_count": 47,
   "metadata": {},
   "outputs": [],
   "source": [
    "# Chargement du code source de la page recherchée\n",
    "page = chrome_driver.page_source\n",
    "soup = BeautifulSoup (page)"
   ]
  },
  {
   "cell_type": "code",
   "execution_count": 53,
   "metadata": {},
   "outputs": [],
   "source": [
    "# La liste des articles (Iphone)\n",
    "products = soup.find_all('div',class_='product-container')"
   ]
  },
  {
   "cell_type": "code",
   "execution_count": 61,
   "metadata": {},
   "outputs": [
    {
     "data": {
      "text/plain": [
       "<div class=\"product-container\" itemscope=\"\" itemtype=\"http://schema.org/Product\"><div class=\"left-block\"><div class=\"product-image-container\"> <a class=\"product_img_link\" href=\"https://www.ivoiremobiles.net/apple/1214-apple-iphone-11-pro.html\" itemprop=\"url\" title=\"Apple iPhone 11 Pro 64 Go\"> <img alt=\"Apple iPhone 11 Pro\" class=\"replace-2x img-responsive\" data-pagespeed-url-hash=\"3461212240\" height=\"250\" itemprop=\"image\" onload=\"pagespeed.CriticalImages.checkImageForCriticality(this);\" src=\"https://www.ivoiremobiles.net/15864-home_default/xapple-iphone-11-pro.jpg.pagespeed.ic.U5849SlcEN.webp\" title=\"Apple iPhone 11 Pro\" width=\"250\"/> </a><div class=\"content_price\" itemprop=\"offers\" itemscope=\"\" itemtype=\"http://schema.org/Offer\"> <span class=\"price product-price\" itemprop=\"price\"> 629 900 FCFA </span><meta content=\"XOF\" itemprop=\"priceCurrency\"/></div></div></div><div class=\"right-block\"><h5 itemprop=\"name\"> <a class=\"product-name\" href=\"https://www.ivoiremobiles.net/apple/1214-apple-iphone-11-pro.html\" itemprop=\"url\" title=\"Apple iPhone 11 Pro 64 Go\"> Apple iPhone 11 Pro 64 Go </a></h5><p class=\"product-desc\" itemprop=\"description\"> Et maintenant, le Pro. Un triple appareil photo visionnaire qui démultiplie vos possibilités sans ajouter la moindre complexité. Une autonomie qui fait un bond en avant sans précédent. Une puce surpuissante qui va deux fois plus loin en matière d’apprentissage automatique et repousse les limites de ce qu’un smart­phone peut faire. Voici l'iPhone qui...</p><div class=\"content_price\" itemprop=\"offers\" itemscope=\"\" itemtype=\"http://schema.org/Offer\"> <span class=\"price product-price\" itemprop=\"price\"> 629 900 FCFA </span><meta content=\"XOF\" itemprop=\"priceCurrency\"/></div><div class=\"button-container\"> <a class=\"button ajax_add_to_cart_button btn btn-default\" data-id-product=\"1214\" href=\"http://www.ivoiremobiles.net/panier?add=1&amp;id_product=1214&amp;token=1049b5ed27f980da4674046bcc555c1c\" rel=\"nofollow\" title=\"Ajouter au panier\"> <span>Ajouter au panier</span> </a> <a class=\"button lnk_view btn btn-default\" href=\"https://www.ivoiremobiles.net/apple/1214-apple-iphone-11-pro.html\" itemprop=\"url\" title=\"Afficher\"> <span>Détails</span> </a></div><div class=\"color-list-container\"></div><div class=\"product-flags\"></div> <span class=\"availability\" itemprop=\"offers\" itemscope=\"\" itemtype=\"http://schema.org/Offer\"> <span class=\"available-now\"><link href=\"http://schema.org/InStock\" itemprop=\"availability\"/>Livré aujourd'hui </span> </span></div><div class=\"functional-buttons clearfix\"><div class=\"compare\"> <a class=\"add_to_compare\" data-id-product=\"1214\" href=\"https://www.ivoiremobiles.net/apple/1214-apple-iphone-11-pro.html\">Ajouter au comparateur</a></div></div></div>"
      ]
     },
     "execution_count": 61,
     "metadata": {},
     "output_type": "execute_result"
    }
   ],
   "source": [
    "products[0]"
   ]
  },
  {
   "cell_type": "code",
   "execution_count": 62,
   "metadata": {},
   "outputs": [
    {
     "data": {
      "text/plain": [
       "<h5 itemprop=\"name\"> <a class=\"product-name\" href=\"https://www.ivoiremobiles.net/apple/1214-apple-iphone-11-pro.html\" itemprop=\"url\" title=\"Apple iPhone 11 Pro 64 Go\"> Apple iPhone 11 Pro 64 Go </a></h5>"
      ]
     },
     "execution_count": 62,
     "metadata": {},
     "output_type": "execute_result"
    }
   ],
   "source": [
    "# Avoir la balise contenant la description de l'article\n",
    "products[0].find(\"h5\",itemprop='name')"
   ]
  },
  {
   "cell_type": "code",
   "execution_count": 63,
   "metadata": {},
   "outputs": [
    {
     "data": {
      "text/plain": [
       "'  Apple iPhone 11 Pro 64 Go '"
      ]
     },
     "execution_count": 63,
     "metadata": {},
     "output_type": "execute_result"
    }
   ],
   "source": [
    "products[0].find(\"h5\",itemprop='name').get_text()"
   ]
  },
  {
   "cell_type": "code",
   "execution_count": 64,
   "metadata": {},
   "outputs": [
    {
     "data": {
      "text/plain": [
       "' 629 900 FCFA '"
      ]
     },
     "execution_count": 64,
     "metadata": {},
     "output_type": "execute_result"
    }
   ],
   "source": [
    "# Le prix de l'article\n",
    "products[0].find(\"span\",itemprop='price').get_text()"
   ]
  },
  {
   "cell_type": "code",
   "execution_count": 65,
   "metadata": {},
   "outputs": [
    {
     "data": {
      "text/plain": [
       "<img alt=\"Apple iPhone 11 Pro\" class=\"replace-2x img-responsive\" data-pagespeed-url-hash=\"3461212240\" height=\"250\" itemprop=\"image\" onload=\"pagespeed.CriticalImages.checkImageForCriticality(this);\" src=\"https://www.ivoiremobiles.net/15864-home_default/xapple-iphone-11-pro.jpg.pagespeed.ic.U5849SlcEN.webp\" title=\"Apple iPhone 11 Pro\" width=\"250\"/>"
      ]
     },
     "execution_count": 65,
     "metadata": {},
     "output_type": "execute_result"
    }
   ],
   "source": [
    "# L'image de l'article\n",
    "products[0].find(\"img\",itemprop='image')"
   ]
  },
  {
   "cell_type": "markdown",
   "metadata": {},
   "source": [
    "Parcourons maintenant la liste des articles pour avoir les infos sur tous les articles"
   ]
  },
  {
   "cell_type": "code",
   "execution_count": 58,
   "metadata": {},
   "outputs": [],
   "source": [
    "import pandas as pd\n",
    "names = []\n",
    "prices = []\n",
    "links = []\n",
    "\n",
    "for prd in products:\n",
    "        names.append(prd.find(\"h5\",itemprop='name').get_text())\n",
    "        prices.append(prd.find(\"span\",itemprop='price').get_text())\n",
    "        links.append(prd.find(\"img\",itemprop='image')[\"src\"])\n",
    "        \n",
    "df_iphones = pd.DataFrame({\"names\":names,\"prices\":prices,\"link_image\":links})"
   ]
  },
  {
   "cell_type": "code",
   "execution_count": 59,
   "metadata": {
    "scrolled": true
   },
   "outputs": [
    {
     "data": {
      "text/html": [
       "<div>\n",
       "<style scoped>\n",
       "    .dataframe tbody tr th:only-of-type {\n",
       "        vertical-align: middle;\n",
       "    }\n",
       "\n",
       "    .dataframe tbody tr th {\n",
       "        vertical-align: top;\n",
       "    }\n",
       "\n",
       "    .dataframe thead th {\n",
       "        text-align: right;\n",
       "    }\n",
       "</style>\n",
       "<table border=\"1\" class=\"dataframe\">\n",
       "  <thead>\n",
       "    <tr style=\"text-align: right;\">\n",
       "      <th></th>\n",
       "      <th>names</th>\n",
       "      <th>prices</th>\n",
       "      <th>link_image</th>\n",
       "    </tr>\n",
       "  </thead>\n",
       "  <tbody>\n",
       "    <tr>\n",
       "      <th>0</th>\n",
       "      <td>Apple iPhone 11 Pro 64 Go</td>\n",
       "      <td>629 900 FCFA</td>\n",
       "      <td>https://www.ivoiremobiles.net/15864-home_defau...</td>\n",
       "    </tr>\n",
       "    <tr>\n",
       "      <th>1</th>\n",
       "      <td>Apple iPhone 11 Pro Max 64 Go</td>\n",
       "      <td>689 900 FCFA</td>\n",
       "      <td>https://www.ivoiremobiles.net/15868-home_defau...</td>\n",
       "    </tr>\n",
       "    <tr>\n",
       "      <th>2</th>\n",
       "      <td>Apple iPhone 11 Pro 256 Go</td>\n",
       "      <td>699 900 FCFA</td>\n",
       "      <td>https://www.ivoiremobiles.net/15862-home_defau...</td>\n",
       "    </tr>\n",
       "    <tr>\n",
       "      <th>3</th>\n",
       "      <td>Apple iPhone 11 Pro Max 256 Go</td>\n",
       "      <td>779 900 FCFA</td>\n",
       "      <td>https://www.ivoiremobiles.net/15866-home_defau...</td>\n",
       "    </tr>\n",
       "    <tr>\n",
       "      <th>4</th>\n",
       "      <td>Apple iPhone 11 Pro Max 512 Go</td>\n",
       "      <td>1 059 900 FCFA</td>\n",
       "      <td>https://www.ivoiremobiles.net/14751-home_defau...</td>\n",
       "    </tr>\n",
       "    <tr>\n",
       "      <th>...</th>\n",
       "      <td>...</td>\n",
       "      <td>...</td>\n",
       "      <td>...</td>\n",
       "    </tr>\n",
       "    <tr>\n",
       "      <th>68</th>\n",
       "      <td>Tecno Phantom 8</td>\n",
       "      <td>114 900 FCFA</td>\n",
       "      <td>https://www.ivoiremobiles.net/14602-home_defau...</td>\n",
       "    </tr>\n",
       "    <tr>\n",
       "      <th>69</th>\n",
       "      <td>PS4 500 Go</td>\n",
       "      <td>249 900 FCFA</td>\n",
       "      <td>data:image/webp;base64,UklGRpoKAABXRUJQVlA4II4...</td>\n",
       "    </tr>\n",
       "    <tr>\n",
       "      <th>70</th>\n",
       "      <td>PS4 1 To</td>\n",
       "      <td>279 900 FCFA</td>\n",
       "      <td>data:image/webp;base64,UklGRpoKAABXRUJQVlA4II4...</td>\n",
       "    </tr>\n",
       "    <tr>\n",
       "      <th>71</th>\n",
       "      <td>Apple iPad 10.2 2019 (7th Generation)...</td>\n",
       "      <td>429 900 FCFA</td>\n",
       "      <td>https://www.ivoiremobiles.net/16891-home_defau...</td>\n",
       "    </tr>\n",
       "    <tr>\n",
       "      <th>72</th>\n",
       "      <td>Apple iPad 10.2 2020 (8th Generation)...</td>\n",
       "      <td>449 900 FCFA</td>\n",
       "      <td>https://www.ivoiremobiles.net/16885-home_defau...</td>\n",
       "    </tr>\n",
       "  </tbody>\n",
       "</table>\n",
       "<p>73 rows × 3 columns</p>\n",
       "</div>"
      ],
      "text/plain": [
       "                                          names            prices  \\\n",
       "0                    Apple iPhone 11 Pro 64 Go      629 900 FCFA    \n",
       "1                Apple iPhone 11 Pro Max 64 Go      689 900 FCFA    \n",
       "2                   Apple iPhone 11 Pro 256 Go      699 900 FCFA    \n",
       "3               Apple iPhone 11 Pro Max 256 Go      779 900 FCFA    \n",
       "4               Apple iPhone 11 Pro Max 512 Go    1 059 900 FCFA    \n",
       "..                                          ...               ...   \n",
       "68                             Tecno Phantom 8      114 900 FCFA    \n",
       "69                                  PS4 500 Go      249 900 FCFA    \n",
       "70                                    PS4 1 To      279 900 FCFA    \n",
       "71    Apple iPad 10.2 2019 (7th Generation)...      429 900 FCFA    \n",
       "72    Apple iPad 10.2 2020 (8th Generation)...      449 900 FCFA    \n",
       "\n",
       "                                           link_image  \n",
       "0   https://www.ivoiremobiles.net/15864-home_defau...  \n",
       "1   https://www.ivoiremobiles.net/15868-home_defau...  \n",
       "2   https://www.ivoiremobiles.net/15862-home_defau...  \n",
       "3   https://www.ivoiremobiles.net/15866-home_defau...  \n",
       "4   https://www.ivoiremobiles.net/14751-home_defau...  \n",
       "..                                                ...  \n",
       "68  https://www.ivoiremobiles.net/14602-home_defau...  \n",
       "69  data:image/webp;base64,UklGRpoKAABXRUJQVlA4II4...  \n",
       "70  data:image/webp;base64,UklGRpoKAABXRUJQVlA4II4...  \n",
       "71  https://www.ivoiremobiles.net/16891-home_defau...  \n",
       "72  https://www.ivoiremobiles.net/16885-home_defau...  \n",
       "\n",
       "[73 rows x 3 columns]"
      ]
     },
     "execution_count": 59,
     "metadata": {},
     "output_type": "execute_result"
    }
   ],
   "source": [
    "df_iphones"
   ]
  },
  {
   "cell_type": "code",
   "execution_count": null,
   "metadata": {},
   "outputs": [],
   "source": [
    "Nous avons maintenant un dataframe contenant pour les téléphones Iphone disponible sue le site"
   ]
  },
  {
   "cell_type": "code",
   "execution_count": null,
   "metadata": {},
   "outputs": [],
   "source": []
  },
  {
   "cell_type": "code",
   "execution_count": null,
   "metadata": {},
   "outputs": [],
   "source": []
  },
  {
   "cell_type": "code",
   "execution_count": null,
   "metadata": {},
   "outputs": [],
   "source": []
  },
  {
   "cell_type": "code",
   "execution_count": null,
   "metadata": {},
   "outputs": [],
   "source": []
  },
  {
   "cell_type": "code",
   "execution_count": null,
   "metadata": {},
   "outputs": [],
   "source": []
  },
  {
   "cell_type": "code",
   "execution_count": null,
   "metadata": {},
   "outputs": [],
   "source": []
  },
  {
   "cell_type": "code",
   "execution_count": null,
   "metadata": {},
   "outputs": [],
   "source": []
  }
 ],
 "metadata": {
  "kernelspec": {
   "display_name": "Python 3",
   "language": "python",
   "name": "python3"
  },
  "language_info": {
   "codemirror_mode": {
    "name": "ipython",
    "version": 3
   },
   "file_extension": ".py",
   "mimetype": "text/x-python",
   "name": "python",
   "nbconvert_exporter": "python",
   "pygments_lexer": "ipython3",
   "version": "3.8.5"
  }
 },
 "nbformat": 4,
 "nbformat_minor": 5
}
