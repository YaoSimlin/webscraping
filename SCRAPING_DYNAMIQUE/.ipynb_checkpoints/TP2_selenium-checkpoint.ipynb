{
 "cells": [
  {
   "cell_type": "markdown",
   "metadata": {},
   "source": [
    "# Gérer les élément avec Selelium"
   ]
  },
  {
   "cell_type": "markdown",
   "metadata": {},
   "source": [
    "Il existe différentes stratégies pour localiser des éléments dans une page. Vous pouvez utiliser celui qui convient le mieux à votre cas. Selenium fournit les méthodes suivantes pour localiser des éléments dans une page:\n",
    "\n",
    "- find_element_by_id\n",
    "- find_element_by_name\n",
    "- find_element_by_xpath\n",
    "- find_element_by_link_text\n",
    "- find_element_by_partial_link_text\n",
    "- find_element_by_tag_name\n",
    "- find_element_by_class_name\n",
    "- find_element_by_css_selector\n",
    "\n",
    "Vous trouverez une documentation complète [ici](https://selenium-python.readthedocs.io/locating-elements.html#locating-elements-by-css-selectors)"
   ]
  },
  {
   "cell_type": "markdown",
   "metadata": {},
   "source": [
    "La recherche de plusieurs éléments se fait par les méthodes **find_elements_by_**\\***{*id, name, xpath, link_text, partial_link_text, tag_name, class_nam, css_selector*}"
   ]
  },
  {
   "cell_type": "markdown",
   "metadata": {},
   "source": [
    "<html>\n",
    " <body>\n",
    "  <form id=\"loginForm\">\n",
    "   <input name=\"username\" type=\"text\" />\n",
    "   <input name=\"password\" type=\"password\" />\n",
    "   <input name=\"continue\" type=\"submit\" value=\"Login\" />\n",
    "  </form>\n",
    " </body>\n",
    "</html>"
   ]
  },
  {
   "cell_type": "code",
   "execution_count": null,
   "metadata": {},
   "outputs": [],
   "source": []
  },
  {
   "cell_type": "code",
   "execution_count": 1,
   "metadata": {},
   "outputs": [],
   "source": [
    "from bs4 import BeautifulSoup\n",
    "from selenium import webdriver \n",
    "from selenium.webdriver.common.by import By "
   ]
  },
  {
   "cell_type": "markdown",
   "metadata": {},
   "source": [
    "## Localisation des éléments"
   ]
  },
  {
   "cell_type": "code",
   "execution_count": 2,
   "metadata": {},
   "outputs": [],
   "source": [
    "#gecko_driver_path = \"put_path_to_your_driver.exe\"\n",
    "gecko_driver_path = \"../web_drivers/geckodriver.exe\"\n",
    "\n",
    "# Création d'une instance driver\n",
    "driver = webdriver.Firefox(executable_path=gecko_driver_path)\n",
    "\n",
    "# On va sur notre page test.html\n",
    "url = r\"file:///C:/Users/FJPN3406/Documents/FORMATIONS/WEB_SCRAPING/Web_Scraping_Dynamique/locating_elements.html\"\n",
    "driver.get(url)\n",
    "\n"
   ]
  },
  {
   "cell_type": "code",
   "execution_count": null,
   "metadata": {},
   "outputs": [],
   "source": [
    "url = \"https://www.ivoiremobiles.net/\""
   ]
  },
  {
   "cell_type": "markdown",
   "metadata": {},
   "source": [
    "### 1. Localisation par *id*"
   ]
  },
  {
   "cell_type": "markdown",
   "metadata": {},
   "source": [
    "La méthode *`find_element_by_id`* est à utiliser lorsque vous connaissez l' attribut **id** d'un élément.\n",
    "\n",
    "   - Le premier élément avec un attribut id correspondant sera renvoyé.  \n",
    "   - Une exception `NoSuchElementException` si aucune correspondance n'est faite\n"
   ]
  },
  {
   "cell_type": "code",
   "execution_count": 3,
   "metadata": {},
   "outputs": [],
   "source": [
    "login_form = driver.find_element_by_id('loginForm')"
   ]
  },
  {
   "cell_type": "code",
   "execution_count": 4,
   "metadata": {},
   "outputs": [
    {
     "data": {
      "text/plain": [
       "'form'"
      ]
     },
     "execution_count": 4,
     "metadata": {},
     "output_type": "execute_result"
    }
   ],
   "source": [
    "login_form.tag_name"
   ]
  },
  {
   "cell_type": "markdown",
   "metadata": {},
   "source": [
    "### 2. Localisation par *name*"
   ]
  },
  {
   "cell_type": "markdown",
   "metadata": {},
   "source": [
    "La méthode *`find_element_by_name`* est à utiliser lorsque vous connaissez l' attribut **name** d'un élément.\n",
    "\n",
    "Le *username* et le *password* peuvent être localisés comme suit :"
   ]
  },
  {
   "cell_type": "code",
   "execution_count": 5,
   "metadata": {},
   "outputs": [],
   "source": [
    "username = driver.find_element_by_name('username')\n",
    "password = driver.find_element_by_name('password')"
   ]
  },
  {
   "cell_type": "code",
   "execution_count": 6,
   "metadata": {},
   "outputs": [
    {
     "name": "stdout",
     "output_type": "stream",
     "text": [
      "input text\n",
      "input password\n"
     ]
    }
   ],
   "source": [
    "print(username.tag_name, username.get_attribute(\"type\"))\n",
    "print(password.tag_name, password.get_attribute(\"type\"))"
   ]
  },
  {
   "cell_type": "code",
   "execution_count": 15,
   "metadata": {},
   "outputs": [],
   "source": [
    "continue_ = driver.find_element_by_name('continue')"
   ]
  },
  {
   "cell_type": "code",
   "execution_count": 16,
   "metadata": {},
   "outputs": [
    {
     "data": {
      "text/plain": [
       "'input'"
      ]
     },
     "execution_count": 16,
     "metadata": {},
     "output_type": "execute_result"
    }
   ],
   "source": [
    "continue_.tag_name "
   ]
  },
  {
   "cell_type": "markdown",
   "metadata": {},
   "source": [
    "### 3. Localisation par *xpath*\n",
    "\n",
    "**XPath** est un langage utilisé pour les noeuds/elements dans un document XML. Comme HTML peut être une implémentation de XML (**XHTML**). Les users Selenium se servent aussi de cette stratégie pour cibler les éléments dans leurs applications Web.  \n",
    "\n",
    "Dans notre document HTML :  \n"
   ]
  },
  {
   "cell_type": "markdown",
   "metadata": {},
   "source": [
    " - les éléments de formulaire peuvent être localisés des manières suivantes"
   ]
  },
  {
   "cell_type": "markdown",
   "metadata": {},
   "source": [
    "<html>\n",
    " <body>\n",
    "  <form id=\"loginForm\">\n",
    "   <input name=\"username\" type=\"text\" />\n",
    "   <input name=\"password\" type=\"password\" />\n",
    "   <input name=\"continue\" type=\"submit\" value=\"Login\" />\n",
    "  </form>\n",
    " </body>\n",
    "</html>"
   ]
  },
  {
   "cell_type": "code",
   "execution_count": 17,
   "metadata": {},
   "outputs": [
    {
     "name": "stdout",
     "output_type": "stream",
     "text": [
      "form\n",
      "form\n",
      "form\n"
     ]
    }
   ],
   "source": [
    "# Chemin absolu (Peut echouer si le code HTML est légèrement modifié)\n",
    "login_form = driver.find_element_by_xpath(\"/html/body/form[1]\")\n",
    "print(login_form.tag_name)\n",
    "\n",
    "# Accès au premier élément de formulaire dans le HTML\n",
    "login_form = driver.find_element_by_xpath(\"//form[1]\")\n",
    "print(login_form.tag_name)\n",
    "\n",
    "# Accès à l'élément du formulaire avec l'attribut id défini sur loginForm \n",
    "login_form = driver.find_element_by_xpath(\"//form[@id='loginForm']\")\n",
    "print(login_form.tag_name)"
   ]
  },
  {
   "cell_type": "markdown",
   "metadata": {},
   "source": [
    " -  l'élément username peut être obtenu comme ceci:"
   ]
  },
  {
   "cell_type": "code",
   "execution_count": 21,
   "metadata": {},
   "outputs": [
    {
     "name": "stdout",
     "output_type": "stream",
     "text": [
      "form \n",
      "input \n",
      "input \n"
     ]
    }
   ],
   "source": [
    "# Premier élément de formulaire avec un élément enfant d'entrée dont \n",
    "#le nom est défini sur nom d' utilisateur\n",
    "username = driver.find_element_by_xpath(\"//form[input/@name='username']\")\n",
    "print(username.tag_name, username.text)\n",
    "\n",
    "#Premier élément enfant d'entrée de l'élément de formulaire avec \n",
    "#l'attribut id défini sur loginForm\n",
    "username = driver.find_element_by_xpath(\"//form[@id='loginForm']/input[1]\")\n",
    "print(username.tag_name, username.text)\n",
    "\n",
    "#Premier élément d'entrée avec le nom d'attribut défini sur nom d' utilisateur\n",
    "username = driver.find_element_by_xpath(\"//input[@name='username']\")\n",
    "print(username.tag_name, username.text)"
   ]
  },
  {
   "cell_type": "code",
   "execution_count": 24,
   "metadata": {},
   "outputs": [
    {
     "name": "stdout",
     "output_type": "stream",
     "text": [
      "p **** Are you sure you want to do this?\n"
     ]
    }
   ],
   "source": [
    "paragraph = driver.find_element_by_xpath(\"//p\")\n",
    "print(paragraph.tag_name, \"****\", paragraph.text)"
   ]
  },
  {
   "cell_type": "code",
   "execution_count": null,
   "metadata": {},
   "outputs": [],
   "source": []
  },
  {
   "cell_type": "markdown",
   "metadata": {},
   "source": [
    " -  l'élément de boutton **Clear** peut être obtenu comme ceci:"
   ]
  },
  {
   "cell_type": "code",
   "execution_count": 27,
   "metadata": {},
   "outputs": [],
   "source": [
    "# Entrée avec le nom d'attribut défini sur continuer et \n",
    "# le type d'attribut défini sur bouton\n",
    "clear_button = driver.find_element_by_xpath(\"//input[@name='continue'][@type='button']\")\n",
    "\n",
    "\n",
    "\n",
    "# Quatrième élément enfant d'entrée de l'élément de formulaire avec\n",
    "# l'attribut id défini sur loginForm\n",
    "clear_button = driver.find_element_by_xpath(\"//form[@id='loginForm']/input[4]\")"
   ]
  },
  {
   "cell_type": "code",
   "execution_count": 30,
   "metadata": {},
   "outputs": [
    {
     "data": {
      "text/plain": [
       "[<selenium.webdriver.firefox.webelement.FirefoxWebElement (session=\"2f73fd6e-3e5d-4961-8564-540a516bfff7\", element=\"1e3135d8-847f-4fe5-8765-9265bae9707c\")>,\n",
       " <selenium.webdriver.firefox.webelement.FirefoxWebElement (session=\"2f73fd6e-3e5d-4961-8564-540a516bfff7\", element=\"d23a1982-cd2e-41d2-806c-001d1ef404bb\")>]"
      ]
     },
     "execution_count": 30,
     "metadata": {},
     "output_type": "execute_result"
    }
   ],
   "source": [
    "clear_button = driver.find_elements_by_xpath(\"//input[@name='continue']\")\n",
    "clear_button"
   ]
  },
  {
   "cell_type": "markdown",
   "metadata": {},
   "source": [
    "### 4. Localisation des hyperliens par le texte du lien\n",
    "\n",
    "Utile lorsque vous connassez le texte du lien utilisé dans une balise d'ancrage. \n",
    "\n",
    "Cette méthode renvoie  le premier élément avec le texte du lien correspondant à la valeur fournie."
   ]
  },
  {
   "cell_type": "code",
   "execution_count": 31,
   "metadata": {},
   "outputs": [],
   "source": [
    "driver.refresh()"
   ]
  },
  {
   "cell_type": "code",
   "execution_count": 44,
   "metadata": {},
   "outputs": [],
   "source": [
    "continue_link = driver.find_element_by_link_text('Continue')\n",
    "\n",
    "continue_link = driver.find_element_by_partial_link_text('Conti')"
   ]
  },
  {
   "cell_type": "code",
   "execution_count": 33,
   "metadata": {},
   "outputs": [
    {
     "data": {
      "text/plain": [
       "'Continue'"
      ]
     },
     "execution_count": 33,
     "metadata": {},
     "output_type": "execute_result"
    }
   ],
   "source": [
    "continue_link.text"
   ]
  },
  {
   "cell_type": "code",
   "execution_count": 41,
   "metadata": {},
   "outputs": [],
   "source": [
    "continue_link = driver.find_elements_by_partial_link_text('Continu')"
   ]
  },
  {
   "cell_type": "code",
   "execution_count": 42,
   "metadata": {},
   "outputs": [
    {
     "data": {
      "text/plain": [
       "2"
      ]
     },
     "execution_count": 42,
     "metadata": {},
     "output_type": "execute_result"
    }
   ],
   "source": [
    "len(continue_link)"
   ]
  },
  {
   "cell_type": "code",
   "execution_count": 45,
   "metadata": {},
   "outputs": [
    {
     "data": {
      "text/plain": [
       "'file:///C:/Users/FJPN3406/Documents/FORMATIONS/WEB_SCRAPING/Web_Scraping_Dynamique/continue.html'"
      ]
     },
     "execution_count": 45,
     "metadata": {},
     "output_type": "execute_result"
    }
   ],
   "source": [
    "continue_link.get_attribute('href')"
   ]
  },
  {
   "cell_type": "markdown",
   "metadata": {},
   "source": [
    "### 5. Localisation par **Tag Name**\n",
    "Utile lorsque l'on souhaite localiser un élément par Tag Name de balise.\n",
    "\n",
    "Le premier élément d'en-tête **h1** peut être atteint de la manière suivante "
   ]
  },
  {
   "cell_type": "code",
   "execution_count": 46,
   "metadata": {},
   "outputs": [],
   "source": [
    "driver.refresh()\n",
    "\n",
    "heading1 = driver.find_element_by_tag_name('h1')"
   ]
  },
  {
   "cell_type": "code",
   "execution_count": 47,
   "metadata": {},
   "outputs": [
    {
     "data": {
      "text/plain": [
       "'Welcome'"
      ]
     },
     "execution_count": 47,
     "metadata": {},
     "output_type": "execute_result"
    }
   ],
   "source": [
    "heading1.text"
   ]
  },
  {
   "cell_type": "code",
   "execution_count": null,
   "metadata": {},
   "outputs": [],
   "source": []
  },
  {
   "cell_type": "markdown",
   "metadata": {},
   "source": [
    "### 6. Localisation par Nom de Classe"
   ]
  },
  {
   "cell_type": "markdown",
   "metadata": {},
   "source": [
    " `find_element_by_class_name` est utilisé pour localiser un élément par nom de classe"
   ]
  },
  {
   "cell_type": "code",
   "execution_count": 51,
   "metadata": {},
   "outputs": [],
   "source": [
    "content = driver.find_element_by_class_name('content')"
   ]
  },
  {
   "cell_type": "code",
   "execution_count": 52,
   "metadata": {},
   "outputs": [
    {
     "data": {
      "text/plain": [
       "'vas-y'"
      ]
     },
     "execution_count": 52,
     "metadata": {},
     "output_type": "execute_result"
    }
   ],
   "source": [
    "content.text"
   ]
  },
  {
   "cell_type": "code",
   "execution_count": null,
   "metadata": {},
   "outputs": [],
   "source": []
  },
  {
   "cell_type": "markdown",
   "metadata": {},
   "source": [
    "### 7. Localisation des éléments par les sélecteurs CSS \n",
    "\n",
    "`find_element_by_css_selector` est utilisé pour atteindre un élément à l'aide de la syntaxe du sélecteur CSS."
   ]
  },
  {
   "cell_type": "code",
   "execution_count": 53,
   "metadata": {},
   "outputs": [],
   "source": [
    "content = driver.find_element_by_css_selector('a.content')"
   ]
  },
  {
   "cell_type": "code",
   "execution_count": 55,
   "metadata": {},
   "outputs": [
    {
     "data": {
      "text/plain": [
       "'vas-y'"
      ]
     },
     "execution_count": 55,
     "metadata": {},
     "output_type": "execute_result"
    }
   ],
   "source": [
    "content.text"
   ]
  },
  {
   "cell_type": "code",
   "execution_count": 56,
   "metadata": {},
   "outputs": [],
   "source": [
    "driver.quit()"
   ]
  },
  {
   "cell_type": "markdown",
   "metadata": {},
   "source": [
    "### Connexion a Facebook"
   ]
  },
  {
   "cell_type": "code",
   "execution_count": null,
   "metadata": {},
   "outputs": [],
   "source": [
    "# Création de l'instance driver chrome\n",
    "\n",
    "\n",
    "# Demander au driver d'appler sur Facebook\n",
    "driver.get(\"https://www.facebook.com/\")"
   ]
  },
  {
   "cell_type": "markdown",
   "metadata": {},
   "source": [
    " Une nouvelle instance de Google Chrome devrait apparaître et vous amener sur le site demandé.\n",
    " \n",
    " Revenons à notre code, en supposant que nous ayons déjà des informations d'identification Facebook. Nous voulons dire à Sélénium de cliquer sur le  lien de Connexion en bleu\n",
    " \n",
    "Dans la fenêtre de Google Chrome, faites un clic droit sur le lien bleu de connexion. Vous voulez cliquer sur **inspecter**, et copier le Xpath.\n",
    "\n",
    "Vous devriez avoir un truc de ce genre : `//*[@id=\"u_0_d_zc\"]`"
   ]
  },
  {
   "cell_type": "markdown",
   "metadata": {},
   "source": [
    "De même, il s'agit du même processus pour les champs de saisie du nom d'utilisateur, du mot de passe et du bouton de connexion."
   ]
  },
  {
   "cell_type": "code",
   "execution_count": null,
   "metadata": {},
   "outputs": [],
   "source": [
    "username_input = '//*[@id=\"email\"]'\n",
    "\n",
    "password_input = '//*[@id=\"pass\"]'\n",
    "\n",
    "login_submit = '//*[@id=\"u_0_d_/e\"]' "
   ]
  },
  {
   "cell_type": "markdown",
   "metadata": {},
   "source": [
    "Maintenant nous voulons que Selenium remplisse ces champs avec notre nom d'utilisateur et notre mot de passe. \n",
    "\n",
    "Selenium a une méthode appelée **send_keys** qui nous permet d'automatiser facilement la saisie. Nous avons juste mis une chaîne là-dedans et elle tapera pour nous. Nous pouvons simplement essayer des variables factices, pour l'instant, pour voir si cela fonctionne. Essayez également de vous connecter en sachant que nous serons rejetés."
   ]
  },
  {
   "cell_type": "code",
   "execution_count": null,
   "metadata": {},
   "outputs": [],
   "source": [
    "from acces import email, password\n",
    "driver.find_element_by_xpath(username_input).send_keys(email)\n",
    "driver.find_element_by_xpath(password_input).send_keys(password)\n",
    "driver.find_element_by_xpath(login_submit).click()"
   ]
  },
  {
   "cell_type": "code",
   "execution_count": null,
   "metadata": {},
   "outputs": [],
   "source": []
  },
  {
   "cell_type": "code",
   "execution_count": null,
   "metadata": {},
   "outputs": [],
   "source": []
  }
 ],
 "metadata": {
  "kernelspec": {
   "display_name": "Python 3",
   "language": "python",
   "name": "python3"
  },
  "language_info": {
   "codemirror_mode": {
    "name": "ipython",
    "version": 3
   },
   "file_extension": ".py",
   "mimetype": "text/x-python",
   "name": "python",
   "nbconvert_exporter": "python",
   "pygments_lexer": "ipython3",
   "version": "3.8.5"
  }
 },
 "nbformat": 4,
 "nbformat_minor": 5
}
