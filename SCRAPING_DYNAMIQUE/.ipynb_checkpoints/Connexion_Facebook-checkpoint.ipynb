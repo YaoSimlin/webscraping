{
 "cells": [
  {
   "cell_type": "code",
   "execution_count": 1,
   "metadata": {},
   "outputs": [],
   "source": [
    "from bs4 import BeautifulSoup\n",
    "from selenium import webdriver \n",
    "from selenium.webdriver.common.by import By \n",
    "\n",
    "import time"
   ]
  },
  {
   "cell_type": "markdown",
   "metadata": {},
   "source": [
    "### Connexion a Facebook"
   ]
  },
  {
   "cell_type": "code",
   "execution_count": null,
   "metadata": {},
   "outputs": [],
   "source": [
    "#D@g3n@9919\n",
    "\n",
    "#+22576416115"
   ]
  },
  {
   "cell_type": "code",
   "execution_count": 2,
   "metadata": {},
   "outputs": [],
   "source": [
    "#gecko_driver_path = \"put_path_to_your_driver.exe\"\n",
    "gecko_driver_path = \"../web_drivers/geckodriver.exe\"\n",
    "\n",
    "# Création d'une instance driver\n",
    "driver = webdriver.Firefox(executable_path=gecko_driver_path)\n",
    "\n",
    "# Demander au driver d'appler sur Facebook\n",
    "driver.get(\"https://www.facebook.com/\")"
   ]
  },
  {
   "cell_type": "markdown",
   "metadata": {},
   "source": [
    " Une nouvelle instance de Google Chrome devrait apparaître et vous amener sur le site demandé.\n",
    " \n",
    " Revenons à notre code, en supposant que nous ayons déjà des informations d'identification Facebook. Nous voulons dire à Sélénium de cliquer sur le  lien de Connexion en bleu\n",
    " \n",
    "Dans la fenêtre de Google Chrome, faites un clic droit sur le lien bleu de connexion. Vous voulez cliquer sur **inspecter**, et copier le Xpath.\n",
    "\n",
    "Vous devriez avoir un truc de ce genre : `//*[@id=\"u_0_d_zc\"]`"
   ]
  },
  {
   "cell_type": "markdown",
   "metadata": {},
   "source": [
    "De même, il s'agit du même processus pour les champs de saisie du nom d'utilisateur, du mot de passe et du bouton de connexion."
   ]
  },
  {
   "cell_type": "code",
   "execution_count": null,
   "metadata": {},
   "outputs": [],
   "source": [
    "username_input = '//*[@id=\"email\"]'\n",
    "\n",
    "password_input = '//*[@id=\"pass\"]'\n",
    "\n",
    "login_submit = '//*[@id=\"u_0_d_/e\"]' "
   ]
  },
  {
   "cell_type": "markdown",
   "metadata": {},
   "source": [
    "Maintenant nous voulons que Selenium remplisse ces champs avec notre nom d'utilisateur et notre mot de passe. \n",
    "\n",
    "Selenium a une méthode appelée **send_keys** qui nous permet d'automatiser facilement la saisie. Nous avons juste mis une chaîne là-dedans et elle tapera pour nous. Nous pouvons simplement essayer des variables factices, pour l'instant, pour voir si cela fonctionne. Essayez également de vous connecter en sachant que nous serons rejetés."
   ]
  },
  {
   "cell_type": "code",
   "execution_count": null,
   "metadata": {},
   "outputs": [],
   "source": [
    "from acces import email, password\n",
    "driver.find_element_by_xpath(username_input).send_keys(email)\n",
    "driver.find_element_by_xpath(password_input).send_keys(password)\n",
    "driver.find_element_by_xpath(login_submit).click()"
   ]
  }
 ],
 "metadata": {
  "kernelspec": {
   "display_name": "Python 3",
   "language": "python",
   "name": "python3"
  },
  "language_info": {
   "codemirror_mode": {
    "name": "ipython",
    "version": 3
   },
   "file_extension": ".py",
   "mimetype": "text/x-python",
   "name": "python",
   "nbconvert_exporter": "python",
   "pygments_lexer": "ipython3",
   "version": "3.8.5"
  }
 },
 "nbformat": 4,
 "nbformat_minor": 4
}
