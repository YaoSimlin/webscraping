{
 "cells": [
  {
   "cell_type": "markdown",
   "metadata": {},
   "source": [
    "<h1>  <center> SCRAPING DE GROUPE PUBLIC FACEBOOK</center> </h1>"
   ]
  },
  {
   "attachments": {},
   "cell_type": "markdown",
   "metadata": {},
   "source": [
    "\n",
    "Cette partie sera consacrée à l'étude de la **E-REPUTATION** d'une marque/entreprise/personnalité (selon le besoin) sur les réseaux sociaux ; en particulier sur un **groupe FACEBOOK**.\n",
    "\n",
    "\n",
    "La e-réputation, c'est tout simplement l'idée ou l'opinion qu'a le public envers une personne, une entreprise, un groupe, ou une organisation sur le net. Il est donc important de connaître les plateformes externes vers lesquelles vos clients ou prospects pourraient potentiellement se tourner pour y exprimer leurs sentiments vis-à-vis de vos différents services.\n",
    "\n",
    "Un lieu sûr, les réseaux sociaux :  Facebook, WhatsApp, Twitter, Instagram, ... \n",
    "\n",
    "\n",
    ". | .\n",
    "- | - \n",
    "![alt](images/ereputation_1.png) | ![alt](images/ereputation_2.png)\n",
    "\n",
    "\n",
    "Là, Tout est relax !!! les internautes peuvent se plaindre comme ils le souhaitent;    \n",
    "Attention !!! Il vous faudra porter une attention particulière aux influenceurs. Ces derniers peuvent influencer la perception de ses abonnés ou fans sur votre marque/organisation/marque.\n",
    "\n"
   ]
  },
  {
   "attachments": {},
   "cell_type": "markdown",
   "metadata": {},
   "source": [
    "L'idéal serait donc de parvenir à surveiller de prêt, sur toutes les plateformes en lignes, l'opinion du public sur votre entreprise.  \n",
    "  \n",
    "  \n",
    "## Mais comment y parvenir ?\n",
    "\n",
    "\n",
    "Des entités optent pour le recrutement de ressources humaines dédiées spécialement à la réalisation de ces tâches.  \n",
    "\n",
    "Imaginez-vous à la place de ces personnes😲😲😲.   \n",
    "Rester scotché devant son écran attendant qu'un internaute porte un jugement pour/contre votre entité sur une plateforme en ligne !!!    \n",
    "Et là, je vous parle d'une plateforme; comment feriez-vous pour les autres plateformes 🤔🤔🤔?    \n",
    " Fastidieux non 🥱🥱?    \n",
    "\n"
   ]
  },
  {
   "cell_type": "markdown",
   "metadata": {},
   "source": [
    "Mais RELAX😉😉😉, fort heureusement, des outils de scraping existent pour collecter automatiquement les traces laissées par les internautes sur le net.\n",
    "\n",
    "Vous pourrez, grâce à ces outils, parcourir plusieurs sites et récupérer les informations souhaitées dans un laps de temps.\n"
   ]
  },
  {
   "cell_type": "markdown",
   "metadata": {},
   "source": [
    "#### Bref!!! Passons aux choses sérieuses à présent!"
   ]
  },
  {
   "cell_type": "markdown",
   "metadata": {},
   "source": []
  },
  {
   "cell_type": "markdown",
   "metadata": {},
   "source": [
    "# Collecte du groupe UCAEVD"
   ]
  },
  {
   "attachments": {},
   "cell_type": "markdown",
   "metadata": {},
   "source": [
    "Dans la suite de ce notebook, nous allons :\n",
    "\n",
    "- utiliser un driver Selenium le scraping,\n",
    "\n",
    "- nous connecter au groupe Facebook public **Un Consommateur Averti En Vaut Deux**  via son URL  \n",
    "\n",
    "- Renseigner nos informations de connexion au besoin\n",
    "\n",
    "- Scroler la page ouverte à une profondeur souhaitée pour atteindre plus de publications\n",
    "\n",
    "- Collecter toutes les publications disponibles sur la page chargée (Nous pouvons éventuellement collecter les commentaires)   \n",
    "\n",
    "- Traiter les données collectées puis les structurer et les insérer dans un DataFrame ou un fichier .\n",
    "\n",
    "\n",
    "\n",
    "Ensuite, nous pourrons :\n",
    "\n",
    "- Effectuer des filtre sur les données selon des mots clés pour ressortir les publications mentionnant ces mots clés\n",
    "\n",
    "- Notificier en temps réel (ou quasi temps réel) les nouvelles publications détectées par mail, SMS, sur une Appli, ...\n",
    "\n",
    "\n"
   ]
  },
  {
   "cell_type": "markdown",
   "metadata": {},
   "source": [
    "# I. PHASE DE COLLECTE"
   ]
  },
  {
   "cell_type": "markdown",
   "metadata": {},
   "source": [
    "## I.1. Importation des librairies"
   ]
  },
  {
   "cell_type": "code",
   "execution_count": 2,
   "metadata": {},
   "outputs": [],
   "source": [
    "import numpy as np\n",
    "import pandas as pd\n",
    "import time\n",
    "from datetime import datetime\n",
    "\n",
    "# \n",
    "import sys\n",
    "import os\n",
    "\n",
    "# Importation de selenium\n",
    "from selenium import webdriver\n",
    "from selenium.common import exceptions\n",
    "from selenium.webdriver.common.keys import Keys\n",
    "from selenium.webdriver.firefox.options import Options\n",
    "from selenium.webdriver.common.by import By\n",
    "\n",
    "import dateparser"
   ]
  },
  {
   "cell_type": "code",
   "execution_count": 1,
   "metadata": {},
   "outputs": [
    {
     "name": "stdout",
     "output_type": "stream",
     "text": [
      "Requirement already satisfied: dateparser in c:\\programdata\\anaconda3\\lib\\site-packages (1.1.6)\n",
      "Requirement already satisfied: pytz in c:\\programdata\\anaconda3\\lib\\site-packages (from dateparser) (2021.3)\n",
      "Requirement already satisfied: tzlocal in c:\\programdata\\anaconda3\\lib\\site-packages (from dateparser) (4.2)\n",
      "Requirement already satisfied: python-dateutil in c:\\programdata\\anaconda3\\lib\\site-packages (from dateparser) (2.8.2)\n",
      "Requirement already satisfied: regex!=2019.02.19,!=2021.8.27 in c:\\programdata\\anaconda3\\lib\\site-packages (from dateparser) (2021.8.3)\n",
      "Requirement already satisfied: six>=1.5 in c:\\programdata\\anaconda3\\lib\\site-packages (from python-dateutil->dateparser) (1.16.0)\n",
      "Requirement already satisfied: tzdata in c:\\programdata\\anaconda3\\lib\\site-packages (from tzlocal->dateparser) (2022.7)\n",
      "Requirement already satisfied: pytz-deprecation-shim in c:\\programdata\\anaconda3\\lib\\site-packages (from tzlocal->dateparser) (0.1.0.post0)\n"
     ]
    }
   ],
   "source": [
    "!pip install dateparser"
   ]
  },
  {
   "cell_type": "markdown",
   "metadata": {},
   "source": [
    "## I.2. Connexion au driver Selenium et à la page du groupe UCAEVD"
   ]
  },
  {
   "cell_type": "code",
   "execution_count": null,
   "metadata": {},
   "outputs": [],
   "source": []
  },
  {
   "cell_type": "code",
   "execution_count": 3,
   "metadata": {},
   "outputs": [],
   "source": [
    "# service = webdriver.firefox.service.Service(executable_path=gecko_path, port=port)\n",
    "def connexion_to_group(url, driver_location) :\n",
    "    \n",
    "    options = Options()\n",
    "    # Specifiez le chemin de votre Firefox\n",
    "    options.binary_location = driver_location\n",
    "    driver = webdriver.Firefox(options=options)\n",
    "    time.sleep(2)\n",
    "    driver.get(url)\n",
    "    #time.sleep(5)\n",
    "    \n",
    "    return driver"
   ]
  },
  {
   "cell_type": "code",
   "execution_count": 4,
   "metadata": {},
   "outputs": [],
   "source": [
    "driver_location = \"C:/Program Files/Mozilla Firefox/firefox.exe\"\n",
    "url = 'https://m.facebook.com/groups/consommateurs.abidjan/'"
   ]
  },
  {
   "cell_type": "code",
   "execution_count": 7,
   "metadata": {},
   "outputs": [],
   "source": [
    "driver = connexion_to_group(url, driver_location)"
   ]
  },
  {
   "cell_type": "markdown",
   "metadata": {},
   "source": [
    "## 3. Scroller une page"
   ]
  },
  {
   "cell_type": "markdown",
   "metadata": {},
   "source": [
    "### 3.1. Cas général"
   ]
  },
  {
   "cell_type": "code",
   "execution_count": 8,
   "metadata": {},
   "outputs": [],
   "source": [
    "## Fonction de SCROLLING DE LA PAGE \n",
    "def scroll_down_page(nb_iter = 3, wait_time = 5):\n",
    "#     driver.refresh()\n",
    "    i = 0\n",
    "    while i <nb_iter:\n",
    "        i+=1\n",
    "        print(i)\n",
    "        try:\n",
    "            driver.execute_script(\"window.scrollTo(0, document.body.scrollHeight);\")\n",
    "            time.sleep(wait_time)\n",
    "        except:\n",
    "            break"
   ]
  },
  {
   "cell_type": "code",
   "execution_count": 9,
   "metadata": {},
   "outputs": [
    {
     "name": "stdout",
     "output_type": "stream",
     "text": [
      "1\n",
      "2\n",
      "3\n"
     ]
    }
   ],
   "source": [
    "driver.refresh()\n",
    "time.sleep(3)\n",
    "scroll_down_page(nb_iter = 3, wait_time = 5)"
   ]
  },
  {
   "cell_type": "code",
   "execution_count": null,
   "metadata": {},
   "outputs": [],
   "source": []
  },
  {
   "cell_type": "markdown",
   "metadata": {},
   "source": [
    "Oups !!!\n",
    "\n",
    "La méthode de scrolling d'une page de façon générale fonctionne, mais pas comme on le souhaite ici.\n",
    "\n",
    "Facebook a renvoyé un popup pour nous demander de nous authentifier. Ce qui a empêché le scroll de continuer son travail.\n",
    "\n",
    "![alt](images/scroll_page.png) \n",
    "\n",
    "Mais RELAX, on peut contourner ce imprévu dans le cas particulier suivant.\n",
    "\n",
    "Dans la section suivante, nous allons cliquer sur la croix entourée en rouge sur l'image ci-dessous et poursuivre le scrolling.\n",
    "\n",
    "Pour mettre cela en visibilité, nous allons rouvrir un autre navigateur et nous connecter ensuite au groupe puis scroller la page du groupe."
   ]
  },
  {
   "cell_type": "code",
   "execution_count": 10,
   "metadata": {},
   "outputs": [],
   "source": [
    "driver.quit()"
   ]
  },
  {
   "cell_type": "markdown",
   "metadata": {},
   "source": [
    "### I.3.2. Cas Particulier"
   ]
  },
  {
   "cell_type": "code",
   "execution_count": 20,
   "metadata": {},
   "outputs": [],
   "source": [
    "def afficher_plus_de_pubs(nb_iter = 3, wait_time = 5):\n",
    "#     driver.refresh()\n",
    "    nb = nb_iter - 1\n",
    "    i = 0\n",
    "    while i <nb_iter:\n",
    "        i+=1\n",
    "        \n",
    "        try:\n",
    "            ## Afficher plus de publications\n",
    "            # driver.find_element(By.CSS_SELECTOR, \".touchable.primary\").click()\n",
    "            driver.execute_script(\"window.scrollTo(0, document.body.scrollHeight);\")\n",
    "            time.sleep(wait_time)\n",
    "            print(i)\n",
    "            try :\n",
    "                driver.find_element(By.ID, \"popup_xout\").click()\n",
    "            except :\n",
    "                pass\n",
    "        except:\n",
    "            break\n",
    "    if i == 1 :\n",
    "        afficher_plus_de_pubs(nb_iter = nb, wait_time = 5)"
   ]
  },
  {
   "cell_type": "code",
   "execution_count": 21,
   "metadata": {},
   "outputs": [],
   "source": [
    "#driver_location = \"put_path_to_your_driver_location\"\n",
    "driver_location = \"C:/Program Files/Mozilla Firefox/firefox.exe\"\n",
    "url = 'https://m.facebook.com/groups/consommateurs.abidjan'\n",
    "\n",
    "driver = connexion_to_group(url, driver_location)\n"
   ]
  },
  {
   "cell_type": "code",
   "execution_count": 22,
   "metadata": {},
   "outputs": [],
   "source": [
    "driver.refresh()\n",
    "afficher_plus_de_pubs(nb_iter = 5, wait_time = 5)"
   ]
  },
  {
   "cell_type": "code",
   "execution_count": null,
   "metadata": {},
   "outputs": [],
   "source": []
  },
  {
   "cell_type": "markdown",
   "metadata": {},
   "source": [
    "## I.4. Obtenir toutes les publications/posts"
   ]
  },
  {
   "cell_type": "code",
   "execution_count": 18,
   "metadata": {},
   "outputs": [],
   "source": [
    "## Get all publications available on the page\n",
    "\n",
    "def get_all_publications() : \n",
    "    # Access to all posts stories container\n",
    "    publications = driver.find_element(By.ID, \"m_group_stories_container\")\n",
    "\n",
    "    # Get all posts relative to articles in stories container\n",
    "    publications = publications.find_elements(By.TAG_NAME, \"article\")\n",
    "    \n",
    "    return publications"
   ]
  },
  {
   "cell_type": "code",
   "execution_count": 19,
   "metadata": {},
   "outputs": [
    {
     "ename": "NoSuchElementException",
     "evalue": "Message: Unable to locate element: [id=\"m_group_stories_container\"]\nStacktrace:\nRemoteError@chrome://remote/content/shared/RemoteError.sys.mjs:8:8\nWebDriverError@chrome://remote/content/shared/webdriver/Errors.sys.mjs:180:5\nNoSuchElementError@chrome://remote/content/shared/webdriver/Errors.sys.mjs:392:5\nelement.find/</<@chrome://remote/content/marionette/element.sys.mjs:133:16\n",
     "output_type": "error",
     "traceback": [
      "\u001b[1;31m---------------------------------------------------------------------------\u001b[0m",
      "\u001b[1;31mNoSuchElementException\u001b[0m                    Traceback (most recent call last)",
      "\u001b[1;32mC:\\Users\\UTILIS~1\\AppData\\Local\\Temp/ipykernel_17256/3518607573.py\u001b[0m in \u001b[0;36m<module>\u001b[1;34m\u001b[0m\n\u001b[0;32m      1\u001b[0m \u001b[1;31m# Collect publications\u001b[0m\u001b[1;33m\u001b[0m\u001b[1;33m\u001b[0m\u001b[0m\n\u001b[1;32m----> 2\u001b[1;33m \u001b[0mpublications\u001b[0m \u001b[1;33m=\u001b[0m \u001b[0mget_all_publications\u001b[0m\u001b[1;33m(\u001b[0m\u001b[1;33m)\u001b[0m\u001b[1;33m\u001b[0m\u001b[1;33m\u001b[0m\u001b[0m\n\u001b[0m",
      "\u001b[1;32mC:\\Users\\UTILIS~1\\AppData\\Local\\Temp/ipykernel_17256/318349238.py\u001b[0m in \u001b[0;36mget_all_publications\u001b[1;34m()\u001b[0m\n\u001b[0;32m      3\u001b[0m \u001b[1;32mdef\u001b[0m \u001b[0mget_all_publications\u001b[0m\u001b[1;33m(\u001b[0m\u001b[1;33m)\u001b[0m \u001b[1;33m:\u001b[0m\u001b[1;33m\u001b[0m\u001b[1;33m\u001b[0m\u001b[0m\n\u001b[0;32m      4\u001b[0m     \u001b[1;31m# Access to all posts stories container\u001b[0m\u001b[1;33m\u001b[0m\u001b[1;33m\u001b[0m\u001b[0m\n\u001b[1;32m----> 5\u001b[1;33m     \u001b[0mpublications\u001b[0m \u001b[1;33m=\u001b[0m \u001b[0mdriver\u001b[0m\u001b[1;33m.\u001b[0m\u001b[0mfind_element\u001b[0m\u001b[1;33m(\u001b[0m\u001b[0mBy\u001b[0m\u001b[1;33m.\u001b[0m\u001b[0mID\u001b[0m\u001b[1;33m,\u001b[0m \u001b[1;34m\"m_group_stories_container\"\u001b[0m\u001b[1;33m)\u001b[0m\u001b[1;33m\u001b[0m\u001b[1;33m\u001b[0m\u001b[0m\n\u001b[0m\u001b[0;32m      6\u001b[0m \u001b[1;33m\u001b[0m\u001b[0m\n\u001b[0;32m      7\u001b[0m     \u001b[1;31m# Get all posts relative to articles in stories container\u001b[0m\u001b[1;33m\u001b[0m\u001b[1;33m\u001b[0m\u001b[0m\n",
      "\u001b[1;32mc:\\ProgramData\\Anaconda3\\lib\\site-packages\\selenium\\webdriver\\remote\\webdriver.py\u001b[0m in \u001b[0;36mfind_element\u001b[1;34m(self, by, value)\u001b[0m\n\u001b[0;32m    859\u001b[0m             \u001b[0mvalue\u001b[0m \u001b[1;33m=\u001b[0m \u001b[1;34m'[name=\"%s\"]'\u001b[0m \u001b[1;33m%\u001b[0m \u001b[0mvalue\u001b[0m\u001b[1;33m\u001b[0m\u001b[1;33m\u001b[0m\u001b[0m\n\u001b[0;32m    860\u001b[0m \u001b[1;33m\u001b[0m\u001b[0m\n\u001b[1;32m--> 861\u001b[1;33m         \u001b[1;32mreturn\u001b[0m \u001b[0mself\u001b[0m\u001b[1;33m.\u001b[0m\u001b[0mexecute\u001b[0m\u001b[1;33m(\u001b[0m\u001b[0mCommand\u001b[0m\u001b[1;33m.\u001b[0m\u001b[0mFIND_ELEMENT\u001b[0m\u001b[1;33m,\u001b[0m \u001b[1;33m{\u001b[0m\u001b[1;34m\"using\"\u001b[0m\u001b[1;33m:\u001b[0m \u001b[0mby\u001b[0m\u001b[1;33m,\u001b[0m \u001b[1;34m\"value\"\u001b[0m\u001b[1;33m:\u001b[0m \u001b[0mvalue\u001b[0m\u001b[1;33m}\u001b[0m\u001b[1;33m)\u001b[0m\u001b[1;33m[\u001b[0m\u001b[1;34m\"value\"\u001b[0m\u001b[1;33m]\u001b[0m\u001b[1;33m\u001b[0m\u001b[1;33m\u001b[0m\u001b[0m\n\u001b[0m\u001b[0;32m    862\u001b[0m \u001b[1;33m\u001b[0m\u001b[0m\n\u001b[0;32m    863\u001b[0m     \u001b[1;32mdef\u001b[0m \u001b[0mfind_elements\u001b[0m\u001b[1;33m(\u001b[0m\u001b[0mself\u001b[0m\u001b[1;33m,\u001b[0m \u001b[0mby\u001b[0m\u001b[1;33m=\u001b[0m\u001b[0mBy\u001b[0m\u001b[1;33m.\u001b[0m\u001b[0mID\u001b[0m\u001b[1;33m,\u001b[0m \u001b[0mvalue\u001b[0m\u001b[1;33m:\u001b[0m \u001b[0mOptional\u001b[0m\u001b[1;33m[\u001b[0m\u001b[0mstr\u001b[0m\u001b[1;33m]\u001b[0m \u001b[1;33m=\u001b[0m \u001b[1;32mNone\u001b[0m\u001b[1;33m)\u001b[0m \u001b[1;33m->\u001b[0m \u001b[0mList\u001b[0m\u001b[1;33m[\u001b[0m\u001b[0mWebElement\u001b[0m\u001b[1;33m]\u001b[0m\u001b[1;33m:\u001b[0m\u001b[1;33m\u001b[0m\u001b[1;33m\u001b[0m\u001b[0m\n",
      "\u001b[1;32mc:\\ProgramData\\Anaconda3\\lib\\site-packages\\selenium\\webdriver\\remote\\webdriver.py\u001b[0m in \u001b[0;36mexecute\u001b[1;34m(self, driver_command, params)\u001b[0m\n\u001b[0;32m    442\u001b[0m         \u001b[0mresponse\u001b[0m \u001b[1;33m=\u001b[0m \u001b[0mself\u001b[0m\u001b[1;33m.\u001b[0m\u001b[0mcommand_executor\u001b[0m\u001b[1;33m.\u001b[0m\u001b[0mexecute\u001b[0m\u001b[1;33m(\u001b[0m\u001b[0mdriver_command\u001b[0m\u001b[1;33m,\u001b[0m \u001b[0mparams\u001b[0m\u001b[1;33m)\u001b[0m\u001b[1;33m\u001b[0m\u001b[1;33m\u001b[0m\u001b[0m\n\u001b[0;32m    443\u001b[0m         \u001b[1;32mif\u001b[0m \u001b[0mresponse\u001b[0m\u001b[1;33m:\u001b[0m\u001b[1;33m\u001b[0m\u001b[1;33m\u001b[0m\u001b[0m\n\u001b[1;32m--> 444\u001b[1;33m             \u001b[0mself\u001b[0m\u001b[1;33m.\u001b[0m\u001b[0merror_handler\u001b[0m\u001b[1;33m.\u001b[0m\u001b[0mcheck_response\u001b[0m\u001b[1;33m(\u001b[0m\u001b[0mresponse\u001b[0m\u001b[1;33m)\u001b[0m\u001b[1;33m\u001b[0m\u001b[1;33m\u001b[0m\u001b[0m\n\u001b[0m\u001b[0;32m    445\u001b[0m             \u001b[0mresponse\u001b[0m\u001b[1;33m[\u001b[0m\u001b[1;34m\"value\"\u001b[0m\u001b[1;33m]\u001b[0m \u001b[1;33m=\u001b[0m \u001b[0mself\u001b[0m\u001b[1;33m.\u001b[0m\u001b[0m_unwrap_value\u001b[0m\u001b[1;33m(\u001b[0m\u001b[0mresponse\u001b[0m\u001b[1;33m.\u001b[0m\u001b[0mget\u001b[0m\u001b[1;33m(\u001b[0m\u001b[1;34m\"value\"\u001b[0m\u001b[1;33m,\u001b[0m \u001b[1;32mNone\u001b[0m\u001b[1;33m)\u001b[0m\u001b[1;33m)\u001b[0m\u001b[1;33m\u001b[0m\u001b[1;33m\u001b[0m\u001b[0m\n\u001b[0;32m    446\u001b[0m             \u001b[1;32mreturn\u001b[0m \u001b[0mresponse\u001b[0m\u001b[1;33m\u001b[0m\u001b[1;33m\u001b[0m\u001b[0m\n",
      "\u001b[1;32mc:\\ProgramData\\Anaconda3\\lib\\site-packages\\selenium\\webdriver\\remote\\errorhandler.py\u001b[0m in \u001b[0;36mcheck_response\u001b[1;34m(self, response)\u001b[0m\n\u001b[0;32m    247\u001b[0m                 \u001b[0malert_text\u001b[0m \u001b[1;33m=\u001b[0m \u001b[0mvalue\u001b[0m\u001b[1;33m[\u001b[0m\u001b[1;34m\"alert\"\u001b[0m\u001b[1;33m]\u001b[0m\u001b[1;33m.\u001b[0m\u001b[0mget\u001b[0m\u001b[1;33m(\u001b[0m\u001b[1;34m\"text\"\u001b[0m\u001b[1;33m)\u001b[0m\u001b[1;33m\u001b[0m\u001b[1;33m\u001b[0m\u001b[0m\n\u001b[0;32m    248\u001b[0m             \u001b[1;32mraise\u001b[0m \u001b[0mexception_class\u001b[0m\u001b[1;33m(\u001b[0m\u001b[0mmessage\u001b[0m\u001b[1;33m,\u001b[0m \u001b[0mscreen\u001b[0m\u001b[1;33m,\u001b[0m \u001b[0mstacktrace\u001b[0m\u001b[1;33m,\u001b[0m \u001b[0malert_text\u001b[0m\u001b[1;33m)\u001b[0m  \u001b[1;31m# type: ignore[call-arg]  # mypy is not smart enough here\u001b[0m\u001b[1;33m\u001b[0m\u001b[1;33m\u001b[0m\u001b[0m\n\u001b[1;32m--> 249\u001b[1;33m         \u001b[1;32mraise\u001b[0m \u001b[0mexception_class\u001b[0m\u001b[1;33m(\u001b[0m\u001b[0mmessage\u001b[0m\u001b[1;33m,\u001b[0m \u001b[0mscreen\u001b[0m\u001b[1;33m,\u001b[0m \u001b[0mstacktrace\u001b[0m\u001b[1;33m)\u001b[0m\u001b[1;33m\u001b[0m\u001b[1;33m\u001b[0m\u001b[0m\n\u001b[0m",
      "\u001b[1;31mNoSuchElementException\u001b[0m: Message: Unable to locate element: [id=\"m_group_stories_container\"]\nStacktrace:\nRemoteError@chrome://remote/content/shared/RemoteError.sys.mjs:8:8\nWebDriverError@chrome://remote/content/shared/webdriver/Errors.sys.mjs:180:5\nNoSuchElementError@chrome://remote/content/shared/webdriver/Errors.sys.mjs:392:5\nelement.find/</<@chrome://remote/content/marionette/element.sys.mjs:133:16\n"
     ]
    }
   ],
   "source": [
    "# Collect publications\n",
    "publications = get_all_publications()\n"
   ]
  },
  {
   "cell_type": "code",
   "execution_count": 31,
   "metadata": {},
   "outputs": [
    {
     "data": {
      "text/plain": [
       "120"
      ]
     },
     "execution_count": 31,
     "metadata": {},
     "output_type": "execute_result"
    }
   ],
   "source": [
    "len(publications)"
   ]
  },
  {
   "cell_type": "code",
   "execution_count": 24,
   "metadata": {},
   "outputs": [
    {
     "data": {
      "text/plain": [
       "[<selenium.webdriver.remote.webelement.WebElement (session=\"41d47abc-affd-40b5-9c44-ca0fc89e3cb6\", element=\"d23ffdc5-75d2-4621-94e2-de96b133a816\")>,\n",
       " <selenium.webdriver.remote.webelement.WebElement (session=\"41d47abc-affd-40b5-9c44-ca0fc89e3cb6\", element=\"a1ab3b7a-2767-4a8b-aaad-11b91adf9c33\")>,\n",
       " <selenium.webdriver.remote.webelement.WebElement (session=\"41d47abc-affd-40b5-9c44-ca0fc89e3cb6\", element=\"b43f343e-99a3-4e02-ab14-79a980af5383\")>,\n",
       " <selenium.webdriver.remote.webelement.WebElement (session=\"41d47abc-affd-40b5-9c44-ca0fc89e3cb6\", element=\"f93b6a00-3620-4e20-88e0-7e839492c90e\")>,\n",
       " <selenium.webdriver.remote.webelement.WebElement (session=\"41d47abc-affd-40b5-9c44-ca0fc89e3cb6\", element=\"e8b3d93a-7ee5-4642-81b5-26edae3bd94a\")>]"
      ]
     },
     "execution_count": 24,
     "metadata": {},
     "output_type": "execute_result"
    }
   ],
   "source": [
    "publications[:5]"
   ]
  },
  {
   "cell_type": "markdown",
   "metadata": {},
   "source": [
    "### I.4.1. Obtenir les ID des posts"
   ]
  },
  {
   "cell_type": "raw",
   "metadata": {},
   "source": [
    "##  Get id_post ##\n",
    "def get_id_post(post) :\n",
    "    \n",
    "    id_post = post.get_attribute(\"data-store\")\n",
    "    id_post = id_post.replace(\"null\", \"None\")\n",
    "    # Conversion d'un STRING en DICTIONNAIRE\n",
    "    id_post_dict = eval(id_post)\n",
    "    try :\n",
    "#         id_post = id_post_dict['share_id'] \n",
    "        id_post = id_post_dict['feedback_target']\n",
    "        id_post = str(id_post)\n",
    "    except :\n",
    "        return None\n",
    "        pass\n",
    "    return id_post"
   ]
  },
  {
   "cell_type": "code",
   "execution_count": 32,
   "metadata": {},
   "outputs": [
    {
     "data": {
      "text/plain": [
       "'{\"linkdata\":\"encrypted_tracking_data.0AY_G5Ko6L4yfJOrbXdyfL289fBzzqfhkUJFfse4OVcVS6XxVzwMHCXR0nx7WQWcoD1TJ-wv-ZrAcmgLe-IMj80QcUYX2tsq0lHpbRiDFebWbspv1V-mFyY2C9kT5AdujIso_IwzxtTXSfvs_NoCflqAY0vpFKpjskOdtxtZYuyR6TWB-dXCY1M_EydZiDQearjWTVzA7gJcM8VddjcFDtRWVvHEG_eVsCj9d8bBPBs1-m3kCRXcBD8JogPJNbaZzD82Ji91LHB3iwDCyANYIbVPPtubiR1pmDomOL3aGzdmNoQeWUIF7lVGgz0-il0XvHn6mY7NqYN3MAPTurF93Sxqohe_nZkvJTlWZthbBvOZ0H7z_3rxYrEE2H2GeAasiK84yJBwGpy-bcTlcKcHHsn4H0n6nCKZVF7EiTyqk9BR33iY2Ppyz-m9pdm8PjyxSIz3JMxlh0L_3wrgrFgELPdJI-Ofvq39y0jLw8lze0ZnrUA7P9_4GlQRTKmwR4Tuypy_Hn-jfrz7JoysLZK-RS_q3lxKhMJDeEvkQvCiK-NaVTD1TpVgi2Pb_nqDfC5P9dQH_xJxNdEG9RGDPaKCBcB8VyxDF7RXVZTlNlXmbuoxmpMA_MCG1NvxzpMXp_7Z_1kQTJGg4LJ-5lQQkxmQ951EGO6MvlwXGGuTB47-oiaLufu0Xc7qoFY-14VIQyfC3LxwmOUc1GDMmaEmpwaUAf3aUiH_JoUTJmdCfIljTx-DYMYASgHlg5E7xS92pL1ZzOBUOWS9bmqg91wfeMvRG7UTHgcSGLfcVoYeV4lOhkusVLDNtXNNc3YQ4iGdLFRa0VJS86DGZf9lwn2rM55ai6naKP2_VpEr0FUDI8ravvk8Kkt7KdbP6JgKCA1gwB--cZ8P8zTJvGmOcAGV3Qv2-2YVA6_TvMNOZNO-jE4O4Vu3GNUR42xrxeKidUMHQK4UpBMV35G0n1xsjpd85E7UfD5FVn1nNNA\",\"share_id\":5952737848095254,\"feedback_target\":5952737848095254,\"feedback_source\":2,\"action_source\":0,\"actor_id\":null}'"
      ]
     },
     "execution_count": 32,
     "metadata": {},
     "output_type": "execute_result"
    }
   ],
   "source": [
    "pub0 = publications[0]\n",
    "pub0.get_attribute(\"data-store\")"
   ]
  },
  {
   "cell_type": "code",
   "execution_count": 23,
   "metadata": {},
   "outputs": [],
   "source": [
    "## Get id_post\n",
    "def get_id_post(post) :\n",
    "    \n",
    "    id_post = post.get_attribute(\"data-store\")\n",
    "    id_post = id_post.replace(\"null\", \"None\")\n",
    "    # Conversion d'un STRING en DICTIONNAIRE\n",
    "    id_post_dict = eval(id_post)\n",
    "    id_post = id_post_dict['share_id'] \n",
    "   \n",
    "    return id_post"
   ]
  },
  {
   "cell_type": "code",
   "execution_count": 33,
   "metadata": {},
   "outputs": [
    {
     "data": {
      "text/plain": [
       "[5952737848095254,\n",
       " 5952739368095102,\n",
       " 5948593565176349,\n",
       " 5948188328550206,\n",
       " 5950219581680414,\n",
       " 5951945208174518,\n",
       " 5949569345078771,\n",
       " 5949986491703723,\n",
       " 5951429174892788,\n",
       " 5952275541474818]"
      ]
     },
     "execution_count": 33,
     "metadata": {},
     "output_type": "execute_result"
    }
   ],
   "source": [
    "[get_id_post(post) for post in publications[:10]]"
   ]
  },
  {
   "cell_type": "code",
   "execution_count": null,
   "metadata": {},
   "outputs": [],
   "source": []
  },
  {
   "cell_type": "markdown",
   "metadata": {},
   "source": [
    "### I.4.2. Obtenir les liens des posts"
   ]
  },
  {
   "cell_type": "code",
   "execution_count": 34,
   "metadata": {},
   "outputs": [],
   "source": [
    "## Get the post link : post_link\n",
    "def get_post_link(url, id_post) :\n",
    "    \n",
    "    permalink = 'permalink/'\n",
    "    post_link = url + permalink + str(id_post)\n",
    "    \n",
    "    if 'https://m' in url :\n",
    "        url_post = url.replace(\"https://m\", \"https://www\")\n",
    "        post_link = url_post + permalink + str(id_post)\n",
    "    \n",
    "    return post_link"
   ]
  },
  {
   "cell_type": "code",
   "execution_count": 35,
   "metadata": {},
   "outputs": [
    {
     "data": {
      "text/plain": [
       "['https://www.facebook.com/groups/consommateurs.abidjan/permalink/5952737848095254',\n",
       " 'https://www.facebook.com/groups/consommateurs.abidjan/permalink/5952739368095102',\n",
       " 'https://www.facebook.com/groups/consommateurs.abidjan/permalink/5948593565176349',\n",
       " 'https://www.facebook.com/groups/consommateurs.abidjan/permalink/5948188328550206',\n",
       " 'https://www.facebook.com/groups/consommateurs.abidjan/permalink/5950219581680414',\n",
       " 'https://www.facebook.com/groups/consommateurs.abidjan/permalink/5951945208174518',\n",
       " 'https://www.facebook.com/groups/consommateurs.abidjan/permalink/5949569345078771',\n",
       " 'https://www.facebook.com/groups/consommateurs.abidjan/permalink/5949986491703723',\n",
       " 'https://www.facebook.com/groups/consommateurs.abidjan/permalink/5951429174892788',\n",
       " 'https://www.facebook.com/groups/consommateurs.abidjan/permalink/5952275541474818']"
      ]
     },
     "execution_count": 35,
     "metadata": {},
     "output_type": "execute_result"
    }
   ],
   "source": [
    "url = 'https://m.facebook.com/groups/consommateurs.abidjan/'\n",
    "id_posts = [get_id_post(post) for post in publications[:10]]\n",
    "\n",
    "posts_links = [get_post_link(url, id_post) for  id_post in id_posts]\n",
    "posts_links"
   ]
  },
  {
   "cell_type": "markdown",
   "metadata": {},
   "source": [
    "### I.4.3. Obtenir les dates des posts"
   ]
  },
  {
   "cell_type": "code",
   "execution_count": 36,
   "metadata": {},
   "outputs": [],
   "source": [
    "### Get date post infos\n",
    "def info_date_post(post) :\n",
    "    \n",
    "    info_date_post = post.find_element(By.TAG_NAME, \"abbr\")\n",
    "    info_date_post = info_date_post.text\n",
    "    return info_date_post"
   ]
  },
  {
   "cell_type": "code",
   "execution_count": 37,
   "metadata": {},
   "outputs": [
    {
     "data": {
      "text/plain": [
       "['52 min',\n",
       " '53 min',\n",
       " '20 h',\n",
       " 'Hier, à 08:14',\n",
       " '6 h',\n",
       " '1 h',\n",
       " '6 h',\n",
       " '5 h',\n",
       " '7 h',\n",
       " '51 min']"
      ]
     },
     "execution_count": 37,
     "metadata": {},
     "output_type": "execute_result"
    }
   ],
   "source": [
    "[info_date_post(post) for post in publications[:10]]"
   ]
  },
  {
   "cell_type": "code",
   "execution_count": 38,
   "metadata": {},
   "outputs": [
    {
     "data": {
      "text/plain": [
       "[datetime.datetime(2023, 1, 28, 15, 45, 39, 201686),\n",
       " datetime.datetime(2023, 1, 28, 15, 44, 39, 213653),\n",
       " datetime.datetime(2023, 1, 27, 20, 37, 39, 216651),\n",
       " datetime.datetime(2023, 1, 27, 8, 14),\n",
       " datetime.datetime(2023, 1, 28, 10, 37, 39, 362449),\n",
       " datetime.datetime(2023, 1, 28, 15, 37, 39, 363442),\n",
       " datetime.datetime(2023, 1, 28, 10, 37, 39, 364447),\n",
       " datetime.datetime(2023, 1, 28, 11, 37, 39, 366434),\n",
       " datetime.datetime(2023, 1, 28, 9, 37, 39, 367431),\n",
       " datetime.datetime(2023, 1, 28, 15, 46, 39, 371911)]"
      ]
     },
     "execution_count": 38,
     "metadata": {},
     "output_type": "execute_result"
    }
   ],
   "source": [
    "liste_dates_test =  [info_date_post(post) for post in publications[:10]]\n",
    "[dateparser.parse(str_val) for str_val in liste_dates_test]"
   ]
  },
  {
   "cell_type": "markdown",
   "metadata": {},
   "source": [
    "#### Cleaning des dates"
   ]
  },
  {
   "cell_type": "code",
   "execution_count": null,
   "metadata": {},
   "outputs": [],
   "source": []
  },
  {
   "cell_type": "code",
   "execution_count": 40,
   "metadata": {},
   "outputs": [],
   "source": [
    "##   Convert the string date format to datetime \n",
    "import dateparser\n",
    "def transform_string_date(str_val):\n",
    "    str_val = str_val.lower()\n",
    "    date_ = dateparser.parse(str_val)\n",
    "    \n",
    "    if 'instant' in str_val:\n",
    "            return datetime.now().strftime(\"%Y-%m-%d %H:%M:%S\")\n",
    "        \n",
    "    return date_.strftime(\"%Y-%m-%d %H:%M:%S\")\n",
    "\n",
    "## Clean the date and convert it in \"%Y-%m-%d %H:%M:%S\", \"%Y-%m-%d\" and \"%H:%M:%S\" format\n",
    "def clean_date(thedate):\n",
    "    thedate = datetime.strptime(thedate, \"%Y-%m-%d %H:%M:%S\")\n",
    "    return thedate, thedate.date(), thedate.time()\n"
   ]
  },
  {
   "cell_type": "code",
   "execution_count": 47,
   "metadata": {},
   "outputs": [
    {
     "data": {
      "text/plain": [
       "'2022-05-27 17:22:00'"
      ]
     },
     "execution_count": 47,
     "metadata": {},
     "output_type": "execute_result"
    }
   ],
   "source": [
    "transform_string_date('27/mai/2022    , 17:22')"
   ]
  },
  {
   "cell_type": "code",
   "execution_count": 48,
   "metadata": {},
   "outputs": [
    {
     "name": "stdout",
     "output_type": "stream",
     "text": [
      "(datetime.datetime(2023, 5, 27, 17, 22), datetime.date(2023, 5, 27), datetime.time(17, 22))\n"
     ]
    }
   ],
   "source": [
    "print(clean_date(transform_string_date('27 mai, 17:22')))"
   ]
  },
  {
   "cell_type": "markdown",
   "metadata": {},
   "source": [
    "### I.4.4. Obtenir les contenus textuels des posts"
   ]
  },
  {
   "cell_type": "code",
   "execution_count": 53,
   "metadata": {},
   "outputs": [],
   "source": [
    "## Get post textual content\n",
    "def get_pub_text(post):\n",
    "    \n",
    "    text_pub = ''\n",
    "    \n",
    "    try :\n",
    "        text_pub = post.find_element(By.CSS_SELECTOR, \"._5rgt._5nk5\")\n",
    "        \n",
    "#         text_pub.find_element_by_link_text(\"Plus\").click()\n",
    "        \n",
    "    except :\n",
    "        pass\n",
    "\n",
    "    text_pub = post.find_element(By.CSS_SELECTOR, \"._5rgt._5nk5\")\n",
    "    text = text_pub.text\n",
    "#     _5rgt _5nk5\n",
    "                                                 \n",
    "    return text"
   ]
  },
  {
   "cell_type": "code",
   "execution_count": 54,
   "metadata": {},
   "outputs": [
    {
     "data": {
      "text/plain": [
       "[\"#transpers #csoa\\nAh la Sotra!jusqu'à quand vous allez nous maltraiter dans notre argent ?\\nJ'aimerais comprendre la ligne express 205 Angré-Plateau serait-elle devenue semblable au 82?\\nNormalement pour un tarif de 500f la prestation est de veiller au fait qu'une fois toutes les places assises sont occupées,le machiniste ne devrait plus vendre… Plus\",\n",
       " '#textile\\nBonjour à tous merci de me recommander un bon couturier dans la zone de Yopougon (toit rouge si possible) très fort en modèle pagne pour femmes.\\nMerci à tous !',\n",
       " \"#textile\\nBonjour à tous, je recherche une tenue de la gendarmerie nationale pour mardi gras ou quelqu'un susceptible de le faire.\\nMerci à vous\",\n",
       " '#transpers #csoa\\nEn espérant que les dirigeants de la SOTRA et ceux qui gèrent la ligne 775(château-chu de treichville) puissent voir ce poste.\\nFranchement on en a vraiment marre.\\nChaque jour on se réveille à… Plus',\n",
       " '#textile\\nBsr à tous,\\nSvp besoin de votre aide, je cherche ce modèle pareil sur la photo.\\nMerci.',\n",
       " 'QG Abidjan - Riviera Ciad\\nSi vous cherchez un endroit sérieux avec un minimum de respect de la clientèle pour vous restaurer ou passer du temps, FUYEZ CET ENDROIT, je répète EVITEZ ce restaurant/lounge pour… Plus',\n",
       " 'Bonsoir !!!\\n\\nJe recherche ce genre de mèche. \\n\\nMerci !!',\n",
       " '#agroalim\\nBonsoir chers tous..\\nAdmis svp .. approuvez mon post\\nJe recherche cette crème fraîche qui était en déstockage dans plusieurs Super marché.\\nMais actuellement les prix sont venu à la normale.\\nJe cherche un endroit où super marché où le prix est encore en mode destockage (500fr je crois)',\n",
       " '#restau Bonjour a tous. Je recherche ces petits pains marrocains. Pas en grande quantité (dizaine de temps en temps).',\n",
       " \"#Maroq\\nBonjour chers tous.\\nPouvez-vous m'aider à trouver ce chapeau des bergers peuhls du Burkina?\\nSi je peux avoir une idée du prix, ça serait cool.\\nMerci.\"]"
      ]
     },
     "execution_count": 54,
     "metadata": {},
     "output_type": "execute_result"
    }
   ],
   "source": [
    "[get_pub_text(post) for post in publications[:10]]"
   ]
  },
  {
   "cell_type": "markdown",
   "metadata": {},
   "source": [
    "### I.4.5. Obtenir les infos sur les Htags\n"
   ]
  },
  {
   "cell_type": "code",
   "execution_count": 55,
   "metadata": {},
   "outputs": [],
   "source": [
    "## Get htags infos\n",
    "def get_htags_info(post) :\n",
    "    \n",
    "    htag_pub_desc = None\n",
    "    htag_link = None\n",
    "    \n",
    "    ### 2.2. Get htags in publication content : htag_pub_desc\n",
    "    try :\n",
    "        htag_pub_desc = post.find_elements(By.CLASS_NAME, \"_5ayu\")\n",
    "        htag_pub_desc = \"|\".join([htag.text for htag in htag_pub_desc])\n",
    "        htag_pub_desc\n",
    "    except :\n",
    "        pass\n",
    "    \n",
    "    ### 2.3. Get htags link : htag_link\n",
    "    try :\n",
    "        htag_link = post.find_elements(By.CSS_SELECTOR, \"._5ayv._qdx\")\n",
    "        htag_link = \"|\".join([htag.get_attribute(\"href\") for htag in htag_link])\n",
    "        htag_link\n",
    "    except :\n",
    "        pass\n",
    "\n",
    "    return htag_pub_desc, htag_link"
   ]
  },
  {
   "cell_type": "code",
   "execution_count": 56,
   "metadata": {},
   "outputs": [
    {
     "data": {
      "text/plain": [
       "[('transpers|csoa',\n",
       "  'https://m.facebook.com/hashtag/transpers?refid=18&_ft_=encrypted_tracking_data.0AY_G5Ko6L4yfJOrbXdyfL289fBzzqfhkUJFfse4OVcVS6XxVzwMHCXR0nx7WQWcoD1TJ-wv-ZrAcmgLe-IMj80QcUYX2tsq0lHpbRiDFebWbspv1V-mFyY2C9kT5AdujIso_IwzxtTXSfvs_NoCflqAY0vpFKpjskOdtxtZYuyR6TWB-dXCY1M_EydZiDQearjWTVzA7gJcM8VddjcFDtRWVvHEG_eVsCj9d8bBPBs1-m3kCRXcBD8JogPJNbaZzD82Ji91LHB3iwDCyANYIbVPPtubiR1pmDomOL3aGzdmNoQeWUIF7lVGgz0-il0XvHn6mY7NqYN3MAPTurF93Sxqohe_nZkvJTlWZthbBvOZ0H7z_3rxYrEE2H2GeAasiK84yJBwGpy-bcTlcKcHHsn4H0n6nCKZVF7EiTyqk9BR33iY2Ppyz-m9pdm8PjyxSIz3JMxlh0L_3wrgrFgELPdJI-Ofvq39y0jLw8lze0ZnrUA7P9_4GlQRTKmwR4Tuypy_Hn-jfrz7JoysLZK-RS_q3lxKhMJDeEvkQvCiK-NaVTD1TpVgi2Pb_nqDfC5P9dQH_xJxNdEG9RGDPaKCBcB8VyxDF7RXVZTlNlXmbuoxmpMA_MCG1NvxzpMXp_7Z_1kQTJGg4LJ-5lQQkxmQ951EGO6MvlwXGGuTB47-oiaLufu0Xc7qoFY-14VIQyfC3LxwmOUc1GDMmaEmpwaUAf3aUiH_JoUTJmdCfIljTx-DYMYASgHlg5E7xS92pL1ZzOBUOWS9bmqg91wfeMvRG7UTHgcSGLfcVoYeV4lOhkusVLDNtXNNc3YQ4iGdLFRa0VJS86DGZf9lwn2rM55ai6naKP2_VpEr0FUDI8ravvk8Kkt7KdbP6JgKCA1gwB--cZ8P8zTJvGmOcAGV3Qv2-2YVA6_TvMNOZNO-jE4O4Vu3GNUR42xrxeKidUMHQK4UpBMV35G0n1xsjpd85E7UfD5FVn1nNNA&__tn__=%2As-R|https://m.facebook.com/hashtag/csoa?refid=18&_ft_=encrypted_tracking_data.0AY_G5Ko6L4yfJOrbXdyfL289fBzzqfhkUJFfse4OVcVS6XxVzwMHCXR0nx7WQWcoD1TJ-wv-ZrAcmgLe-IMj80QcUYX2tsq0lHpbRiDFebWbspv1V-mFyY2C9kT5AdujIso_IwzxtTXSfvs_NoCflqAY0vpFKpjskOdtxtZYuyR6TWB-dXCY1M_EydZiDQearjWTVzA7gJcM8VddjcFDtRWVvHEG_eVsCj9d8bBPBs1-m3kCRXcBD8JogPJNbaZzD82Ji91LHB3iwDCyANYIbVPPtubiR1pmDomOL3aGzdmNoQeWUIF7lVGgz0-il0XvHn6mY7NqYN3MAPTurF93Sxqohe_nZkvJTlWZthbBvOZ0H7z_3rxYrEE2H2GeAasiK84yJBwGpy-bcTlcKcHHsn4H0n6nCKZVF7EiTyqk9BR33iY2Ppyz-m9pdm8PjyxSIz3JMxlh0L_3wrgrFgELPdJI-Ofvq39y0jLw8lze0ZnrUA7P9_4GlQRTKmwR4Tuypy_Hn-jfrz7JoysLZK-RS_q3lxKhMJDeEvkQvCiK-NaVTD1TpVgi2Pb_nqDfC5P9dQH_xJxNdEG9RGDPaKCBcB8VyxDF7RXVZTlNlXmbuoxmpMA_MCG1NvxzpMXp_7Z_1kQTJGg4LJ-5lQQkxmQ951EGO6MvlwXGGuTB47-oiaLufu0Xc7qoFY-14VIQyfC3LxwmOUc1GDMmaEmpwaUAf3aUiH_JoUTJmdCfIljTx-DYMYASgHlg5E7xS92pL1ZzOBUOWS9bmqg91wfeMvRG7UTHgcSGLfcVoYeV4lOhkusVLDNtXNNc3YQ4iGdLFRa0VJS86DGZf9lwn2rM55ai6naKP2_VpEr0FUDI8ravvk8Kkt7KdbP6JgKCA1gwB--cZ8P8zTJvGmOcAGV3Qv2-2YVA6_TvMNOZNO-jE4O4Vu3GNUR42xrxeKidUMHQK4UpBMV35G0n1xsjpd85E7UfD5FVn1nNNA&__tn__=%2As-R'),\n",
       " ('textile',\n",
       "  'https://m.facebook.com/hashtag/textile?refid=18&_ft_=encrypted_tracking_data.0AY-dp7QdIPVufOwpm34sjuBwgMfrmaf1amOGqiEqHaMMHSdP9d0n65R1a0d9DF3GF2Xfhu-c6lkYmJVP7F6TN5mohLvRJKy-HhX6RcGwBjXi4KPBS13WohxISR4XXSYstWoC1T4qU_tVMkBPKyA8EeQiDmxea7JFBEkmwysr70y5X3i1h8YhnnNcMPsVMKH2-3zcpuooMcR_JEpM8plXwaLt42p6lr5_p9lBq3ggWLbs_PV5qMX0tstE3sueI-9JPoBrl3RKE3ccAj5FOH332akrAOs74qanGXdOcwFPlJtD7ts2NcxxmhdGfHTDGKAttiKRWU3Tm4sfgTP1QtHXI4LAqkxweOQysdcjqSbWvosaT-TFwEsDTF1xjScHlmB4Sj4CWHv8U_LoK7zjqKDv1mKISc7A0_uToD-IovRsPWjNGfFrdzFza1fcPjVLoyS3MFd_4ZKG6lWT-WjRuNjP81HQ0hLM_Hk4ZUAjk-nrM9IkLYtHhBx1QMf8GEX2IO_gTNXjkrh5MPM0gmNQputOGVUEue0bu4xI5C0P7vitdqu5DTV0AzWPkKtzqFTLifo7FykZMkHLBYePDmzfcloMYVdHoIXQSBL31pn_xnU1mjXN5fWnIB2xO_VTbLWyUhryLuzl3_X8mckRpgdTNjqQIFAnD1ElK0lb6c6IPI72uLVMU-ezcxvAIwl2wxbJ8iP2AwcbqmoVptDMPunY8i63wm5IdXJTnx49PolnRmVJFnXiBp6zu1G7j7iOIvHmB2BlX7kc9HldNg19ZBXm8xSkXcryFqkZHVOOuTv8KkptOoPt2LEMVb2PoQB4zDUFNL3MhwcJn1r3_XN4Pblb6JQ_R7I7kI1u5tFJGrisrzIeC0vTlTvuaqhwoDWtuOIPjqbD2li_x5VURSJdO-bu6mXZENLfqpAVHkrYc-rfJSDP68sXi2SB5FitXAfLAbN5YqaKJ-o0VgOsvpkyYRWvvOA85IxVb4GclA&__tn__=%2As-R'),\n",
       " ('textile',\n",
       "  'https://m.facebook.com/hashtag/textile?refid=18&_ft_=encrypted_tracking_data.0AY8GfVbODnNC4xrWk8hQAUQD7SWxH_4-Dgzb1Q8_SVrAEXtqvGFD11EmPfv1zqzNMtrjnvrPrVGTzT5eZoyiO2U3m4hkHe5L4GFCqMgX_DzsT_awkhMsHU7xFxKxgp9P132bqLRO13_fLKP9qmSleZW8tlmvT2UVbFDpzyGr41LoD-3xzVQAP82aFpNOTEovuoDNJIrFXBxKPVUhRs2uyvigTCzmuMkwSwEu_yRuz0r7hUgPI3A_V6Q4Fr1AfR4Lm2cw7cWKFHkoLaqq9n1ehaTjooaryQRXUDxredczOBdgaAj3rfZiHoUalpPiQdJALkELrgVOQoJwOo-K491Y7EZ6j6-2L2bQRMB-zCWwRkfG9C2I63yefJQWdhko2zJiVPVdNAvV3_3tHviCMuTRvMM5PEpzoqXsEQjodFh2KkmSbwbEK7qaLsqUqaN84q4Lc917wgzIKecmkmoVSrAm54R5GoMwhLA1LgJ8us7_Wsk68gPtDFCIKCGQxQ0Roxa8O8Xb1c5WJeR2dLB28CN0wtLg9sL-QXU3ZByfOmc-JIDlFSk75e5XlOaNO4nCw8croBd-RkeezZFK1ubmG0inaZR1WwZAuIa_Y4azozP_Z0Urxb3i5gTeddevpJJ9w0xqlRisJlBShHM2G0krFOweeiEaqR_1Dk9gLf13tKwYz9sjqiqU-KREga_6s-BZE-u4THM6JkXsL251u2dnO1gMdZcHb_-8J6usjuZxOQZmZOV5dfqPO-ImKrstHl4Vw_B6_0GF92csINi0s4fKjmOqRC2dh-9b8AKGmynjouJJ_ihu-SqpmFolgQhAtqslHOaXn6NgUfBTLkWiUUB5CIkpGPfePDL-I9vOTCNX_ffzL89aIaxieZ80S0WFZkKNSeYKgJyx9aZlqT-TbdVvKO6oqBnV5FWPrgsrkDVAVm2nX2jlZmxjm3sQJKpP3CAj99q0mX6T_hMT0E1cf7MP_7aUZ5n__CQVfE5NuwdfHN9NSykj3PPCgtgaD1ncdEmbODxhdLqKa1EhQEZNq8pKlDVvcEHtEssR53oAjLRZy_XQR92op5XAJV4X98GIhAmrDftoFO14zLj2pBCx60ibOiHIm6tPRUSeusgb9_uzC-adSIdUqCUOiRsYBACrP2IZ7VAS0eqaJny_HmIeYlPqSUymCYgDIF5ESEc9tPZLrJxbi4DXI484MbW09aaG6twEJXBtq4BJFWcNCnP08dBvOUW4nt5MoBT4qeF6WTlowCWZskVdcSAzMwL5O-J03dYpj3VSxE8JlDSn5ioMvdv4ULviTc7ko6GYojNpSIUUZePr8vv69kztTscRQw1KwT7e1dynMquNa45wPor3pgoqPjP81At8n6mEuO15YBYvT1quQUiH6pc_c-E9mQv9QoSyHw2mgQqyadoL_DcfoHkPWZ077n2n9pOHWsgdDqumc6mDfOhzHSh8jE_et2waDurlMZqL3Htj9YJkI2bjDxUy3OKin66QUzCFdOWrYoFe8EZyydlAVCW3HSRcebKkpaQgApVR5lNqtrKYfuVq57myqRl6jpzadjjt21OxxgfrRDHnuTNSFjUlGcourot3kZcg0Af86po93r7LQHHksFCeuoTROurWcCR9xsdYZnq9qOuro8ekA23CExkEEtgFpolbgGznDR1ZUq1xvUFbwMujDSMiD5Cjs5gyLm1v58KXKc8I19lyGthkYZ2Sqokxf3jsgtBc7UjG1Jf6_zhnRzVn1J_jp9lYG0kVroCxB2ttNfg6Yzd9GzI87RGPgqzKHHzXM1r8oIZbmmARQtbPgO-J&__tn__=%2As-R'),\n",
       " ('transpers|csoa',\n",
       "  'https://m.facebook.com/hashtag/transpers?refid=18&_ft_=encrypted_tracking_data.0AY9chGr8dmWZObh8fENfbrKmZLJnuT4N451KX0o_iPf9acJnSSbXygZ7K2iQ-8WTKPPgw6BAa8dsjFw5ixBsG7QOL6jPeW1HdWI3iDrM2efmYyi6zak6P3hNwVecsHpft_bM2UaudC1cZOdmzLJ7lDUc_H4etd3xccm_9W3ILr_JhyKmV47RVyuoifqe7d_0ZZAWStwy_ccsP-PyQnBe8cb5Psa01aZLS4UA-M1GENHMQlBB0wXKcY34a7ieg7IXCBleehxlGPNI7TKRVXyTfut1AVjp3ZNfZw51WWharGCyGdLizSr20lh-iyxuYhvZzcysCMMS4ghcNZg2PszHRwZdUhZQeMv3vxNgkXlYyhpNg4o8Wzt5-sl_I0QmsmJgiMgzUZ3Vzj7ZgMjBg0Pj6WR_IEfxMt_KxeHxUshD55IsEYOj8bXcGSJbOqkEPEmoeigwlubUZ5Mq6bGXDbmj2pn9KyK7B8wrUhltb6wRcFaXYKTgLNKgbRUBjH0eYHJJSRdOYZylGQ6vF7HEB-12ZseC_MGzZkJKGQZikaMVZXonN3qJZccX4gVF-hQC7B6SLOV9vzLJBk_6krNHZvXa7dnnzu6DaOBVMEKy6UKBJSEO5dMvOgaCYEVAy4B5JjwSYSemLTw82CRh7azoABntMYzyr0IYpEhqCJ4SwwofiSo7LRnLcxNTg9tFqFOcX9m0odziGQMVWp5-6TECkMBTWSh1zo_VFcCLJHX7teR-4n1NDPPkJ-3tMxaXmkB_OUbin_b12WVzijHWEBaj4p46vYJyFxDzQ_BnFzVu2SPEmemeuY-DVhT7JilMNXwMcsmp7ZAglQA6G-7GdQO6WlgCODdHel5PVczAyOoJrxrOLZCmjIoBTQHovpeAxv1U7TvP6wlpxTulY-vJXbeaf62ilXvMBcXBswysWozegJCS-RswRBj91mWjytiZDJJsXBDGV-LgHMy5o68Yt7TJudIqBFCZKiYZP6na2GW4_dG0J9tHUZicnDcmgHDBwLysjv649T9KxockTQkKbO2iFihYGk5C3Yv2mKoCxOaHMRLB68JhLxR19GCn9cWf0uR1lobqgS4kKCiNRWmOW9v5gg7H3AC4SSvwhF6JmDKlLZAEda5PCgRiKiJuvdJ480BFSwfIa5W2dpTELS4wldYdqxmzLzTrm-vnscSGPuGNISN31K_F1AP_dOl1g-GTDq2kIET7Ay7YeUWBZTt7an3_8UNZnFldUuqxbpI0V01RpeKhiHlI_TYActM9Abbs3IlQmT1fDEFMK2T3nq-49CAgh-uKQFIBCtaFjm12iJxQT4a_6PZLilloNzufT-5O4880YpcfnV0JAsGYGq4K0LTdpplTwUec8v3qC2BKNTrMGRA&__tn__=%2As-R|https://m.facebook.com/hashtag/csoa?refid=18&_ft_=encrypted_tracking_data.0AY9chGr8dmWZObh8fENfbrKmZLJnuT4N451KX0o_iPf9acJnSSbXygZ7K2iQ-8WTKPPgw6BAa8dsjFw5ixBsG7QOL6jPeW1HdWI3iDrM2efmYyi6zak6P3hNwVecsHpft_bM2UaudC1cZOdmzLJ7lDUc_H4etd3xccm_9W3ILr_JhyKmV47RVyuoifqe7d_0ZZAWStwy_ccsP-PyQnBe8cb5Psa01aZLS4UA-M1GENHMQlBB0wXKcY34a7ieg7IXCBleehxlGPNI7TKRVXyTfut1AVjp3ZNfZw51WWharGCyGdLizSr20lh-iyxuYhvZzcysCMMS4ghcNZg2PszHRwZdUhZQeMv3vxNgkXlYyhpNg4o8Wzt5-sl_I0QmsmJgiMgzUZ3Vzj7ZgMjBg0Pj6WR_IEfxMt_KxeHxUshD55IsEYOj8bXcGSJbOqkEPEmoeigwlubUZ5Mq6bGXDbmj2pn9KyK7B8wrUhltb6wRcFaXYKTgLNKgbRUBjH0eYHJJSRdOYZylGQ6vF7HEB-12ZseC_MGzZkJKGQZikaMVZXonN3qJZccX4gVF-hQC7B6SLOV9vzLJBk_6krNHZvXa7dnnzu6DaOBVMEKy6UKBJSEO5dMvOgaCYEVAy4B5JjwSYSemLTw82CRh7azoABntMYzyr0IYpEhqCJ4SwwofiSo7LRnLcxNTg9tFqFOcX9m0odziGQMVWp5-6TECkMBTWSh1zo_VFcCLJHX7teR-4n1NDPPkJ-3tMxaXmkB_OUbin_b12WVzijHWEBaj4p46vYJyFxDzQ_BnFzVu2SPEmemeuY-DVhT7JilMNXwMcsmp7ZAglQA6G-7GdQO6WlgCODdHel5PVczAyOoJrxrOLZCmjIoBTQHovpeAxv1U7TvP6wlpxTulY-vJXbeaf62ilXvMBcXBswysWozegJCS-RswRBj91mWjytiZDJJsXBDGV-LgHMy5o68Yt7TJudIqBFCZKiYZP6na2GW4_dG0J9tHUZicnDcmgHDBwLysjv649T9KxockTQkKbO2iFihYGk5C3Yv2mKoCxOaHMRLB68JhLxR19GCn9cWf0uR1lobqgS4kKCiNRWmOW9v5gg7H3AC4SSvwhF6JmDKlLZAEda5PCgRiKiJuvdJ480BFSwfIa5W2dpTELS4wldYdqxmzLzTrm-vnscSGPuGNISN31K_F1AP_dOl1g-GTDq2kIET7Ay7YeUWBZTt7an3_8UNZnFldUuqxbpI0V01RpeKhiHlI_TYActM9Abbs3IlQmT1fDEFMK2T3nq-49CAgh-uKQFIBCtaFjm12iJxQT4a_6PZLilloNzufT-5O4880YpcfnV0JAsGYGq4K0LTdpplTwUec8v3qC2BKNTrMGRA&__tn__=%2As-R'),\n",
       " ('textile',\n",
       "  'https://m.facebook.com/hashtag/textile?refid=18&_ft_=encrypted_tracking_data.0AY_OearYKLfk5boGZsQc4hgwGMaIiQQPSiLU6o35bv4vGl2F__1XyVnQrcD0VDxXoerUyTA7cwVr9i6hoRThe21dtONskhSVB_YNxninH7YfiqRlvYc1KydN1ESkcHev7fllt7odQL9UO0OD9fPTC69HmdPCtURspZqUG0FlDDssdbnl1vnZjJRXJJXTG2ma4P4obh7H_xgd71ZtxNy9oIR5DgEqOyb6n7IReAwRFbeXXoL4WIiS2nxjL8Czibq4igLnPP1V1RckaA566t8FFwIUColFNSgNDGFIkp_gtJdjjJ28ndOkCANGo9m1Nt3bgWOm5KsjU42nLmmVJRVeDyRB12wNIDUhgl8wrzd_2tc9qjuAY4dBWJTGjHFGMtYDAwJ55OLB9MA1Vfl65JAKQriGL6hjarGO9bK9KrNhQsVOtKaKnNNjSJVUriv3xhsgbQnSBigDeYHty4zTFiB7KEl17rtGLrCIBljJGzysIkfltryYlhQubxV5rwgrkOPYFeKOBPLeiC-ChUSnKvGeEVq4_aNAVru94ZP9j2s_CQzgyxoAqRZOCeVJPjAaihJI046rdHMMaZsO4ktX80zbBWuhVLgxSwt7nMxidhdyQ2YftCj4WnpYB8mk9nqP3bXZpwliFIS-NPK4gxdgiGz4SjU0KEAS5uH7nYUBf8gtfXgsDOmqUUld8cUFLhwmJhExjr1u_D40QhOteYboP-Rc12gQhHtjGCC_DRYhjL7G_1bwDnMOQOLooAgtZBwUM8DzIV6AksGbhqXGIqcp0LSu-QKHgiEyddPshQLarHIwK57B6Ao2oTai686GU6dORJ5LML0FAFCtc3t8zp-yArIt2Vaq_ZmQoYmfrLxb9OqKlP6JtilfPciE-YIPdAm0nLmnEaux9PrvEck9MQDgzBuZQqAc8qO6ZhVkn4OnCaz6wrZh2SKaE4B1UJfOystCBrvSwR41Mrx2qz9cbEz5jbLNb3OuAmHCgvEVUHJOveWHhOkR7cZ7kEw28BHmMl8zZT2WXM93Wa6CzaJcZJ8-qFgzlvRvGcErIkDtplRvs3IivteUHfWU0tcMT0iDEWikLicNedFyplr1ECXLgXk01_LVVfjqhnjF185Ux6DRp7PEu4qzhckjenX-bEqhmnOalPmHa3qM9H6dEozWZMt2-Sr-Ajpt4o9iF54ooKgUNTZQIv9EUFmf461hVijZIW5aQXoASShy7ruBL57dUfHZfA&__tn__=%2As-R')]"
      ]
     },
     "execution_count": 56,
     "metadata": {},
     "output_type": "execute_result"
    }
   ],
   "source": [
    "[get_htags_info(post) for post in publications[:5] ]"
   ]
  },
  {
   "cell_type": "code",
   "execution_count": null,
   "metadata": {},
   "outputs": [],
   "source": []
  },
  {
   "cell_type": "markdown",
   "metadata": {},
   "source": [
    "### I.4.6. Obtenir les liens des images et leur description"
   ]
  },
  {
   "cell_type": "code",
   "execution_count": 65,
   "metadata": {},
   "outputs": [],
   "source": [
    "## Get image link and its description\n",
    "def get_image_infos(post, sep = '|') :\n",
    "    \n",
    "    image_link = ''\n",
    "    image_desc = ''\n",
    "    \n",
    "    ## Get image link and its description\n",
    "    try :\n",
    "    ## Get image link and its description\n",
    "        image_link_desc = post.find_element(By.CLASS_NAME, \"story_body_container\")\n",
    "        image_link_desc = image_link_desc.find_element(By.CLASS_NAME, \"_5rgu._7dc9\")\n",
    "        image_link_desc = image_link_desc.find_elements(By.TAG_NAME, \"img\")\n",
    "\n",
    "        ## Image link : image_link\n",
    "        image_link = sep.join([img_link.get_attribute(\"src\") for img_link in image_link_desc])\n",
    "        # image_link = \" | \".join([img_link.get_attribute(\"src\") for img_link in image_link_desc])\n",
    "\n",
    "        ## Image description : image_desc\n",
    "        image_desc = sep.join([img_desc.get_attribute(\"alt\") for img_desc in image_link_desc])\n",
    "        # image_desc = \" | \".join([img_desc.get_attribute(\"alt\") for img_desc in image_link_desc])\n",
    "\n",
    "    except :\n",
    "        pass\n",
    "    \n",
    "    return image_link, image_desc"
   ]
  },
  {
   "cell_type": "code",
   "execution_count": 66,
   "metadata": {},
   "outputs": [
    {
     "data": {
      "text/plain": [
       "[('', ''),\n",
       " ('', ''),\n",
       " ('https://scontent.fabj8-1.fna.fbcdn.net/v/t39.30808-6/327422460_1210759189533307_1031513303378751292_n.jpg?stp=cp0_dst-jpg_e15_p240x240_q65&_nc_cat=106&ccb=1-7&_nc_sid=5bac3a&_nc_ohc=8rDfTHoBozcAX9WCbPQ&_nc_ht=scontent.fabj8-1.fna&oh=00_AfBvgybS7I7ASc6kSTib2CUbJI-Gi99hpIWj_329NUzAxA&oe=63D9D199|https://scontent.fabj8-1.fna.fbcdn.net/v/t39.30808-6/327301337_902286900810206_6852749580541192446_n.jpg?stp=cp0_dst-jpg_e15_p240x240_q65&_nc_cat=103&ccb=1-7&_nc_sid=5bac3a&_nc_ohc=OHAK7J5mikQAX-rtH3V&_nc_ht=scontent.fabj8-1.fna&oh=00_AfCfklIgFKuDeaQw46iVCpVykA8qguQiYr_H9USgtZvumw&oe=63DA624C',\n",
       "  'Peut être une image de 1 personne, position debout et intérieur|Peut être une image de 9 personnes, personnes debout et plein air'),\n",
       " ('https://scontent.fabj8-1.fna.fbcdn.net/v/t39.30808-6/326976910_536024958498212_366665613941034206_n.jpg?stp=cp0_dst-jpg_e15_fr_q65&_nc_cat=109&ccb=1-7&_nc_sid=5bac3a&_nc_ohc=oFstd4-x8LAAX9yeAXb&_nc_ht=scontent.fabj8-1.fna&oh=00_AfDK70yozwJMmzdfWN02-m6g84Obn92SJJR-JM8qKa_8fw&oe=63DAB54F',\n",
       "  'Peut être une image de texte qui dit ’sotro Société des Transports Abidjanais’'),\n",
       " ('https://scontent.fabj8-1.fna.fbcdn.net/v/t39.30808-6/323163042_932324474597219_2793150773746300870_n.jpg?stp=cp0_dst-jpg_e15_q65_s480x480&_nc_cat=107&ccb=1-7&_nc_sid=5bac3a&_nc_ohc=xGKd0vo5dicAX-Rhqlb&_nc_ht=scontent.fabj8-1.fna&oh=00_AfA6QRcRipAU-eFLIipRjbaQ9mO_hpkm5wiGyHDmZrM86w&oe=63DB1CE2|https://scontent.fabj8-1.fna.fbcdn.net/v/t39.30808-6/327895395_880082296593498_5487364124746955277_n.jpg?stp=cp0_dst-jpg_e15_p206x206_q65&_nc_cat=108&ccb=1-7&_nc_sid=5bac3a&_nc_ohc=-lrd_30sCfoAX97oC8_&_nc_ht=scontent.fabj8-1.fna&oh=00_AfA-x_S0xTdM78vrT1jqnMpNVfvw6yNtmN3IhDd9jZfuwg&oe=63D9F9B3|https://scontent.fabj8-1.fna.fbcdn.net/v/t39.30808-6/327605988_886760175981552_2032827136474383853_n.jpg?stp=cp0_dst-jpg_e15_q65_s240x240&_nc_cat=104&ccb=1-7&_nc_sid=5bac3a&_nc_ohc=Drj92oDx38oAX-RtLMA&_nc_ht=scontent.fabj8-1.fna&oh=00_AfBhOY0HPxF4JaISDf3VWpgQG-Ob-a8X0B6LTAruTaPbmw&oe=63DA58DD',\n",
       "  'Peut être une image de 1 personne, position debout et intérieur|Aucune description de photo disponible.|Peut être une image de 1 personne, position debout et intérieur')]"
      ]
     },
     "execution_count": 66,
     "metadata": {},
     "output_type": "execute_result"
    }
   ],
   "source": [
    "[get_image_infos(post, sep = '|') for post in publications[:5] ]"
   ]
  },
  {
   "cell_type": "markdown",
   "metadata": {},
   "source": [
    "## I.5. Récupérer les réactions"
   ]
  },
  {
   "cell_type": "markdown",
   "metadata": {},
   "source": [
    "Cette section de code permet d'accéder à la zone des réactions effectuées sur les publications postées sur le groupe."
   ]
  },
  {
   "cell_type": "code",
   "execution_count": 73,
   "metadata": {},
   "outputs": [],
   "source": [
    "## Get  posts reactions driver element\n",
    "def reactions_elements(post) :\n",
    "    \n",
    "    reactions = []\n",
    "    try :\n",
    "        reaction = post.find_element(By.TAG_NAME, \"footer\").\\\n",
    "        find_element(By.CLASS_NAME, \"_2og4.slimLike\").\\\n",
    "        find_element(By.TAG_NAME, \"a\")\n",
    "        reactions = reaction.find_elements(By.CLASS_NAME, \"_28wy\")\n",
    "    except :\n",
    "        pass\n",
    "    \n",
    "    return reactions"
   ]
  },
  {
   "cell_type": "code",
   "execution_count": 74,
   "metadata": {},
   "outputs": [
    {
     "data": {
      "text/plain": [
       "[[<selenium.webdriver.remote.webelement.WebElement (session=\"41d47abc-affd-40b5-9c44-ca0fc89e3cb6\", element=\"9c8b729c-1389-4948-a5ea-70952fae76f7\")>,\n",
       "  <selenium.webdriver.remote.webelement.WebElement (session=\"41d47abc-affd-40b5-9c44-ca0fc89e3cb6\", element=\"ca087940-2e9a-4af8-93b7-9f93032acba4\")>],\n",
       " [<selenium.webdriver.remote.webelement.WebElement (session=\"41d47abc-affd-40b5-9c44-ca0fc89e3cb6\", element=\"e1a5b314-3315-4ad0-9ade-283d0b02a7a6\")>,\n",
       "  <selenium.webdriver.remote.webelement.WebElement (session=\"41d47abc-affd-40b5-9c44-ca0fc89e3cb6\", element=\"f2a8df45-d44f-4a84-a3bc-b554221fa0c5\")>],\n",
       " [<selenium.webdriver.remote.webelement.WebElement (session=\"41d47abc-affd-40b5-9c44-ca0fc89e3cb6\", element=\"ab541d43-62c6-49c4-93f0-49f51fc01364\")>,\n",
       "  <selenium.webdriver.remote.webelement.WebElement (session=\"41d47abc-affd-40b5-9c44-ca0fc89e3cb6\", element=\"3aef1255-aaaa-4f0d-8e82-a3eef32655e1\")>,\n",
       "  <selenium.webdriver.remote.webelement.WebElement (session=\"41d47abc-affd-40b5-9c44-ca0fc89e3cb6\", element=\"2868912f-2481-4e33-9f2a-8bfd75b63b2b\")>],\n",
       " [<selenium.webdriver.remote.webelement.WebElement (session=\"41d47abc-affd-40b5-9c44-ca0fc89e3cb6\", element=\"b790ce83-ccaa-4fe2-8b0f-748bb6695fbf\")>,\n",
       "  <selenium.webdriver.remote.webelement.WebElement (session=\"41d47abc-affd-40b5-9c44-ca0fc89e3cb6\", element=\"ae10d08c-7a17-4c92-89b9-1fd65a0a591f\")>,\n",
       "  <selenium.webdriver.remote.webelement.WebElement (session=\"41d47abc-affd-40b5-9c44-ca0fc89e3cb6\", element=\"d315a492-34ca-4281-8e68-c0f9865b8f97\")>],\n",
       " [<selenium.webdriver.remote.webelement.WebElement (session=\"41d47abc-affd-40b5-9c44-ca0fc89e3cb6\", element=\"2118b328-0962-4365-98e3-c3070a5022bf\")>,\n",
       "  <selenium.webdriver.remote.webelement.WebElement (session=\"41d47abc-affd-40b5-9c44-ca0fc89e3cb6\", element=\"5a5beb62-21c0-4dba-a795-1dcbf45f2901\")>,\n",
       "  <selenium.webdriver.remote.webelement.WebElement (session=\"41d47abc-affd-40b5-9c44-ca0fc89e3cb6\", element=\"24b1c153-9613-4c20-a27e-c2d5d71e6466\")>]]"
      ]
     },
     "execution_count": 74,
     "metadata": {},
     "output_type": "execute_result"
    }
   ],
   "source": [
    "[reactions_elements(post) for post in publications[:5] ]"
   ]
  },
  {
   "cell_type": "code",
   "execution_count": 75,
   "metadata": {},
   "outputs": [],
   "source": [
    "react0 = [reactions_elements(post) for post in publications[:5] ][0]"
   ]
  },
  {
   "cell_type": "code",
   "execution_count": 76,
   "metadata": {},
   "outputs": [
    {
     "name": "stdout",
     "output_type": "stream",
     "text": [
      "21 J’aime\n",
      "10 commentaires\n"
     ]
    }
   ],
   "source": [
    "print(react0[0].text)\n",
    "print(react0[1].text)"
   ]
  },
  {
   "cell_type": "code",
   "execution_count": null,
   "metadata": {},
   "outputs": [],
   "source": []
  },
  {
   "cell_type": "markdown",
   "metadata": {},
   "source": [
    "### I.5.1. résumé des réactions"
   ]
  },
  {
   "cell_type": "markdown",
   "metadata": {},
   "source": [
    "Ce code permet de compter les réactions selon le type de réaction :   \n",
    "Par exemple : Le nombre de **J'aime**, de **commentaires**, de **partages**, de **Haha**, ..."
   ]
  },
  {
   "cell_type": "code",
   "execution_count": 77,
   "metadata": {},
   "outputs": [],
   "source": [
    "## Count reaction using type reaction\n",
    "def keep_number(text) :\n",
    "    \n",
    "    return ''.join([nber for nber in text if nber.isdigit()]) \n",
    "\n",
    "def count_reactions(liste_text, type_text):\n",
    "    \"\"\"\n",
    "    Reactions type can be for :\n",
    "        - 'aime' type : J'aime\n",
    "        - 'commentaire' : commentaire , commentaires\n",
    "       \"\"\"   \n",
    "    if len(liste_text) == 0:\n",
    "        res = '0'\n",
    "\n",
    "    for react in liste_text :\n",
    "        \n",
    "        if type_text in react :\n",
    "#             print(react)\n",
    "            res = keep_number(react)\n",
    "            break\n",
    "        else :\n",
    "            res = '0'\n",
    "    return res"
   ]
  },
  {
   "cell_type": "code",
   "execution_count": 78,
   "metadata": {},
   "outputs": [],
   "source": [
    "def keep_number(text) :\n",
    "    \n",
    "    return ''.join([nber for nber in text if nber.isdigit()])"
   ]
  },
  {
   "cell_type": "code",
   "execution_count": null,
   "metadata": {},
   "outputs": [],
   "source": []
  },
  {
   "cell_type": "code",
   "execution_count": 79,
   "metadata": {},
   "outputs": [
    {
     "data": {
      "text/plain": [
       "'115'"
      ]
     },
     "execution_count": 79,
     "metadata": {},
     "output_type": "execute_result"
    }
   ],
   "source": [
    "text = \"J'ai réalisé 1 commentaire sur Facebook et  15 partages hier\"\n",
    "keep_number(text)"
   ]
  },
  {
   "cell_type": "code",
   "execution_count": 94,
   "metadata": {},
   "outputs": [],
   "source": [
    "liste_text = [\"18 commentaire\", \"19 partage\", \"30 j'aime\"]"
   ]
  },
  {
   "cell_type": "code",
   "execution_count": 95,
   "metadata": {},
   "outputs": [
    {
     "data": {
      "text/plain": [
       "'18'"
      ]
     },
     "execution_count": 95,
     "metadata": {},
     "output_type": "execute_result"
    }
   ],
   "source": [
    "count_reactions(liste_text, type_text = 'commentaire')"
   ]
  },
  {
   "cell_type": "code",
   "execution_count": 96,
   "metadata": {},
   "outputs": [
    {
     "data": {
      "text/plain": [
       "'19'"
      ]
     },
     "execution_count": 96,
     "metadata": {},
     "output_type": "execute_result"
    }
   ],
   "source": [
    "count_reactions(liste_text, type_text = 'partage')"
   ]
  },
  {
   "cell_type": "code",
   "execution_count": 89,
   "metadata": {},
   "outputs": [
    {
     "data": {
      "text/plain": [
       "'30'"
      ]
     },
     "execution_count": 89,
     "metadata": {},
     "output_type": "execute_result"
    }
   ],
   "source": [
    "count_reactions(liste_text, type_text = 'aime')"
   ]
  },
  {
   "cell_type": "markdown",
   "metadata": {},
   "source": [
    "### I.5.2. Collecte de toutes les réactions"
   ]
  },
  {
   "cell_type": "markdown",
   "metadata": {},
   "source": []
  },
  {
   "cell_type": "code",
   "execution_count": 97,
   "metadata": {},
   "outputs": [],
   "source": [
    "## Count all reactions\n",
    "def get_posts_reactions(post) :\n",
    "    \n",
    "    nbre_jaime = '0'\n",
    "    nbre_partage = '0'\n",
    "    nbre_commentaire = '0'\n",
    "    \n",
    "    ## Other indicators \n",
    "    nbre_jadore = '0'\n",
    "    nbre_wouah = '0'\n",
    "    nbre_haha = '0'\n",
    "    nbre_grrr = '0'\n",
    "    nbre_triste = '0'\n",
    "    nbre_autres_reactions = '0'\n",
    "    \n",
    "    try :\n",
    "        ## Get  posts reactions driver element\n",
    "        reactions = reactions_elements(post)\n",
    "        reactions = [react.text for react in reactions]\n",
    "\n",
    "        ### Count Like : nbre_jaime\n",
    "        nbre_jaime = count_reactions(liste_text = reactions, type_text = 'aime')\n",
    "\n",
    "        ### Count comments : nbre_commentaire\n",
    "        nbre_commentaire = count_reactions(liste_text = reactions, type_text = 'commentaire')\n",
    "\n",
    "        ### Count Sharing : nbre_partage\n",
    "        nbre_partage = count_reactions(liste_text = reactions, type_text = 'partage')\n",
    "    except :\n",
    "        pass\n",
    "    result = [nbre_jaime, nbre_commentaire, nbre_partage, nbre_jadore,nbre_wouah,nbre_haha,\n",
    "              nbre_grrr,nbre_triste,nbre_autres_reactions]\n",
    "    return result"
   ]
  },
  {
   "cell_type": "code",
   "execution_count": 98,
   "metadata": {},
   "outputs": [
    {
     "data": {
      "text/plain": [
       "[['21', '10', '0', '0', '0', '0', '0', '0', '0'],\n",
       " ['4', '3', '0', '0', '0', '0', '0', '0', '0'],\n",
       " ['285', '175', '14', '0', '0', '0', '0', '0', '0'],\n",
       " ['373', '154', '47', '0', '0', '0', '0', '0', '0'],\n",
       " ['86', '86', '5', '0', '0', '0', '0', '0', '0']]"
      ]
     },
     "execution_count": 98,
     "metadata": {},
     "output_type": "execute_result"
    }
   ],
   "source": [
    "[get_posts_reactions(post) for post in publications[:5] ]"
   ]
  },
  {
   "cell_type": "markdown",
   "metadata": {},
   "source": [
    "# II. PHASE DE STOCKAGE"
   ]
  },
  {
   "cell_type": "markdown",
   "metadata": {},
   "source": [
    "## II.1. Stockage des données sur les infos générales des posts"
   ]
  },
  {
   "cell_type": "code",
   "execution_count": 99,
   "metadata": {},
   "outputs": [],
   "source": [
    "## 1. Data author posts Infos\n",
    "def data_author_posts(posts) :\n",
    "        \n",
    "    id_posts = []\n",
    "    post_links = []\n",
    "    date_time_posts = []\n",
    "    date_posts = []\n",
    "    hours_posts = []\n",
    "    \n",
    "    for i, post in enumerate(posts):\n",
    "        # Vous pouvez activer la ligne ci-dessous pour controler afficher les itérations\n",
    "        # print(\"Renseignement des Infos/Auteur post \\t{}\".format(i))\n",
    "        \n",
    "        # Get post ID\n",
    "        id_post = get_id_post(post)\n",
    "        id_posts.append(id_post)\n",
    "        \n",
    "        # Get Post URL\n",
    "        post_link = get_post_link(url, id_post)\n",
    "        post_links.append(post_link)\n",
    "        \n",
    "        ## Get dates post\n",
    "        date_infos = transform_string_date(info_date_post(post))\n",
    "        date_infos = clean_date(date_infos)\n",
    "        # Code to develop here\n",
    "        date_time_post = date_infos[0]\n",
    "        date_time_posts.append(date_time_post)\n",
    "        \n",
    "        # Code to develop here\n",
    "        date_post = date_infos[1]\n",
    "        date_posts.append(date_post)\n",
    "        \n",
    "        # Code to develop here\n",
    "        hours_post = date_infos[2]\n",
    "        hours_posts.append(hours_post)        \n",
    "\n",
    "    authors_posts_dates = pd.DataFrame(\n",
    "        data= {'id_post':id_posts, 'post_link':post_links,'date_time_post':date_time_posts,\n",
    "                      'date_post':date_posts, 'hours_post':hours_posts \n",
    "                      }, \n",
    "        columns = ['id_post', 'post_link','date_time_post','date_post', 'hours_post']\n",
    "         )\n",
    "    \n",
    "    return authors_posts_dates"
   ]
  },
  {
   "cell_type": "code",
   "execution_count": 100,
   "metadata": {},
   "outputs": [
    {
     "data": {
      "text/html": [
       "<div>\n",
       "<style scoped>\n",
       "    .dataframe tbody tr th:only-of-type {\n",
       "        vertical-align: middle;\n",
       "    }\n",
       "\n",
       "    .dataframe tbody tr th {\n",
       "        vertical-align: top;\n",
       "    }\n",
       "\n",
       "    .dataframe thead th {\n",
       "        text-align: right;\n",
       "    }\n",
       "</style>\n",
       "<table border=\"1\" class=\"dataframe\">\n",
       "  <thead>\n",
       "    <tr style=\"text-align: right;\">\n",
       "      <th></th>\n",
       "      <th>id_post</th>\n",
       "      <th>post_link</th>\n",
       "      <th>date_time_post</th>\n",
       "      <th>date_post</th>\n",
       "      <th>hours_post</th>\n",
       "    </tr>\n",
       "  </thead>\n",
       "  <tbody>\n",
       "    <tr>\n",
       "      <th>0</th>\n",
       "      <td>5952737848095254</td>\n",
       "      <td>https://www.facebook.com/groups/consommateurs....</td>\n",
       "      <td>2023-01-28 16:58:46</td>\n",
       "      <td>2023-01-28</td>\n",
       "      <td>16:58:46</td>\n",
       "    </tr>\n",
       "    <tr>\n",
       "      <th>1</th>\n",
       "      <td>5952739368095102</td>\n",
       "      <td>https://www.facebook.com/groups/consommateurs....</td>\n",
       "      <td>2023-01-28 16:57:46</td>\n",
       "      <td>2023-01-28</td>\n",
       "      <td>16:57:46</td>\n",
       "    </tr>\n",
       "    <tr>\n",
       "      <th>2</th>\n",
       "      <td>5948593565176349</td>\n",
       "      <td>https://www.facebook.com/groups/consommateurs....</td>\n",
       "      <td>2023-01-27 21:50:47</td>\n",
       "      <td>2023-01-27</td>\n",
       "      <td>21:50:47</td>\n",
       "    </tr>\n",
       "    <tr>\n",
       "      <th>3</th>\n",
       "      <td>5948188328550206</td>\n",
       "      <td>https://www.facebook.com/groups/consommateurs....</td>\n",
       "      <td>2023-01-27 08:14:00</td>\n",
       "      <td>2023-01-27</td>\n",
       "      <td>08:14:00</td>\n",
       "    </tr>\n",
       "    <tr>\n",
       "      <th>4</th>\n",
       "      <td>5950219581680414</td>\n",
       "      <td>https://www.facebook.com/groups/consommateurs....</td>\n",
       "      <td>2023-01-28 11:50:47</td>\n",
       "      <td>2023-01-28</td>\n",
       "      <td>11:50:47</td>\n",
       "    </tr>\n",
       "  </tbody>\n",
       "</table>\n",
       "</div>"
      ],
      "text/plain": [
       "            id_post                                          post_link  \\\n",
       "0  5952737848095254  https://www.facebook.com/groups/consommateurs....   \n",
       "1  5952739368095102  https://www.facebook.com/groups/consommateurs....   \n",
       "2  5948593565176349  https://www.facebook.com/groups/consommateurs....   \n",
       "3  5948188328550206  https://www.facebook.com/groups/consommateurs....   \n",
       "4  5950219581680414  https://www.facebook.com/groups/consommateurs....   \n",
       "\n",
       "       date_time_post   date_post hours_post  \n",
       "0 2023-01-28 16:58:46  2023-01-28   16:58:46  \n",
       "1 2023-01-28 16:57:46  2023-01-28   16:57:46  \n",
       "2 2023-01-27 21:50:47  2023-01-27   21:50:47  \n",
       "3 2023-01-27 08:14:00  2023-01-27   08:14:00  \n",
       "4 2023-01-28 11:50:47  2023-01-28   11:50:47  "
      ]
     },
     "execution_count": 100,
     "metadata": {},
     "output_type": "execute_result"
    }
   ],
   "source": [
    "author_post_data = data_author_posts(publications)\n",
    "author_post_data.head()\n"
   ]
  },
  {
   "cell_type": "code",
   "execution_count": null,
   "metadata": {},
   "outputs": [],
   "source": []
  },
  {
   "cell_type": "markdown",
   "metadata": {},
   "source": [
    "## II.2. Stockage des données des contenus des posts"
   ]
  },
  {
   "cell_type": "code",
   "execution_count": 101,
   "metadata": {},
   "outputs": [],
   "source": [
    "## 2. data_content_post\n",
    "def data_contents_posts(posts):\n",
    "    id_posts = []\n",
    "    text_pub = []\n",
    "    htag_pub_desc = []\n",
    "    htag_links = []\n",
    "    \n",
    "    for i, post in enumerate(posts):\n",
    "        # Vous pouvez activer la ligne ci-dessous pour controler afficher les itérations        #print(\"Contenu du post \\t{}\".format(i))\n",
    "        \n",
    "        # Get post ID\n",
    "        id_post = get_id_post(post)\n",
    "        id_posts.append(id_post)\n",
    "        \n",
    "        ## Textual content of the publication\n",
    "        text_post = get_pub_text(post)\n",
    "        text_pub.append(text_post)\n",
    "        \n",
    "        ## Hatgs in the post \n",
    "        htag_desc = get_htags_info(post)[0]\n",
    "        htag_pub_desc.append(htag_desc)\n",
    "        \n",
    "        ## Hatg link in the post\n",
    "        htag_link = get_htags_info(post)[1]\n",
    "        htag_links.append(htag_link)\n",
    "\n",
    "    # Donnees des Auteurs et dates de posts\n",
    "    contents_posts = pd.DataFrame(data= { 'id_post' : id_posts,\n",
    "        'text_pub' : text_pub, 'htag_pub_desc' : htag_pub_desc,\n",
    "      'htag_link' : htag_links  \n",
    "    }, columns = ['id_post','text_pub', 'htag_pub_desc',  'htag_link'])\n",
    "    \n",
    "    return contents_posts"
   ]
  },
  {
   "cell_type": "code",
   "execution_count": 103,
   "metadata": {},
   "outputs": [
    {
     "data": {
      "text/html": [
       "<div>\n",
       "<style scoped>\n",
       "    .dataframe tbody tr th:only-of-type {\n",
       "        vertical-align: middle;\n",
       "    }\n",
       "\n",
       "    .dataframe tbody tr th {\n",
       "        vertical-align: top;\n",
       "    }\n",
       "\n",
       "    .dataframe thead th {\n",
       "        text-align: right;\n",
       "    }\n",
       "</style>\n",
       "<table border=\"1\" class=\"dataframe\">\n",
       "  <thead>\n",
       "    <tr style=\"text-align: right;\">\n",
       "      <th></th>\n",
       "      <th>id_post</th>\n",
       "      <th>text_pub</th>\n",
       "      <th>htag_pub_desc</th>\n",
       "      <th>htag_link</th>\n",
       "    </tr>\n",
       "  </thead>\n",
       "  <tbody>\n",
       "    <tr>\n",
       "      <th>0</th>\n",
       "      <td>5952737848095254</td>\n",
       "      <td>#transpers #csoa\\nAh la Sotra!jusqu'à quand vo...</td>\n",
       "      <td>transpers|csoa</td>\n",
       "      <td>https://m.facebook.com/hashtag/transpers?refid...</td>\n",
       "    </tr>\n",
       "    <tr>\n",
       "      <th>1</th>\n",
       "      <td>5952739368095102</td>\n",
       "      <td>#textile\\nBonjour à tous merci de me recommand...</td>\n",
       "      <td>textile</td>\n",
       "      <td>https://m.facebook.com/hashtag/textile?refid=1...</td>\n",
       "    </tr>\n",
       "    <tr>\n",
       "      <th>2</th>\n",
       "      <td>5948593565176349</td>\n",
       "      <td>#textile\\nBonjour à tous, je recherche une ten...</td>\n",
       "      <td>textile</td>\n",
       "      <td>https://m.facebook.com/hashtag/textile?refid=1...</td>\n",
       "    </tr>\n",
       "    <tr>\n",
       "      <th>3</th>\n",
       "      <td>5948188328550206</td>\n",
       "      <td>#transpers #csoa\\nEn espérant que les dirigean...</td>\n",
       "      <td>transpers|csoa</td>\n",
       "      <td>https://m.facebook.com/hashtag/transpers?refid...</td>\n",
       "    </tr>\n",
       "    <tr>\n",
       "      <th>4</th>\n",
       "      <td>5950219581680414</td>\n",
       "      <td>#textile\\nBsr à tous,\\nSvp besoin de votre aid...</td>\n",
       "      <td>textile</td>\n",
       "      <td>https://m.facebook.com/hashtag/textile?refid=1...</td>\n",
       "    </tr>\n",
       "    <tr>\n",
       "      <th>5</th>\n",
       "      <td>5951945208174518</td>\n",
       "      <td>QG Abidjan - Riviera Ciad\\nSi vous cherchez un...</td>\n",
       "      <td></td>\n",
       "      <td></td>\n",
       "    </tr>\n",
       "    <tr>\n",
       "      <th>6</th>\n",
       "      <td>5949569345078771</td>\n",
       "      <td>Bonsoir !!!\\n\\nJe recherche ce genre de mèche....</td>\n",
       "      <td></td>\n",
       "      <td></td>\n",
       "    </tr>\n",
       "    <tr>\n",
       "      <th>7</th>\n",
       "      <td>5949986491703723</td>\n",
       "      <td>#agroalim\\nBonsoir chers tous..\\nAdmis svp .. ...</td>\n",
       "      <td>agroalim</td>\n",
       "      <td>https://m.facebook.com/hashtag/agroalim?refid=...</td>\n",
       "    </tr>\n",
       "    <tr>\n",
       "      <th>8</th>\n",
       "      <td>5951429174892788</td>\n",
       "      <td>#restau Bonjour a tous. Je recherche ces petit...</td>\n",
       "      <td>restau</td>\n",
       "      <td>https://m.facebook.com/hashtag/restau?refid=18...</td>\n",
       "    </tr>\n",
       "    <tr>\n",
       "      <th>9</th>\n",
       "      <td>5952275541474818</td>\n",
       "      <td>#Maroq\\nBonjour chers tous.\\nPouvez-vous m'aid...</td>\n",
       "      <td>Maroq</td>\n",
       "      <td>https://m.facebook.com/hashtag/maroq?refid=18&amp;...</td>\n",
       "    </tr>\n",
       "  </tbody>\n",
       "</table>\n",
       "</div>"
      ],
      "text/plain": [
       "            id_post                                           text_pub  \\\n",
       "0  5952737848095254  #transpers #csoa\\nAh la Sotra!jusqu'à quand vo...   \n",
       "1  5952739368095102  #textile\\nBonjour à tous merci de me recommand...   \n",
       "2  5948593565176349  #textile\\nBonjour à tous, je recherche une ten...   \n",
       "3  5948188328550206  #transpers #csoa\\nEn espérant que les dirigean...   \n",
       "4  5950219581680414  #textile\\nBsr à tous,\\nSvp besoin de votre aid...   \n",
       "5  5951945208174518  QG Abidjan - Riviera Ciad\\nSi vous cherchez un...   \n",
       "6  5949569345078771  Bonsoir !!!\\n\\nJe recherche ce genre de mèche....   \n",
       "7  5949986491703723  #agroalim\\nBonsoir chers tous..\\nAdmis svp .. ...   \n",
       "8  5951429174892788  #restau Bonjour a tous. Je recherche ces petit...   \n",
       "9  5952275541474818  #Maroq\\nBonjour chers tous.\\nPouvez-vous m'aid...   \n",
       "\n",
       "    htag_pub_desc                                          htag_link  \n",
       "0  transpers|csoa  https://m.facebook.com/hashtag/transpers?refid...  \n",
       "1         textile  https://m.facebook.com/hashtag/textile?refid=1...  \n",
       "2         textile  https://m.facebook.com/hashtag/textile?refid=1...  \n",
       "3  transpers|csoa  https://m.facebook.com/hashtag/transpers?refid...  \n",
       "4         textile  https://m.facebook.com/hashtag/textile?refid=1...  \n",
       "5                                                                     \n",
       "6                                                                     \n",
       "7        agroalim  https://m.facebook.com/hashtag/agroalim?refid=...  \n",
       "8          restau  https://m.facebook.com/hashtag/restau?refid=18...  \n",
       "9           Maroq  https://m.facebook.com/hashtag/maroq?refid=18&...  "
      ]
     },
     "execution_count": 103,
     "metadata": {},
     "output_type": "execute_result"
    }
   ],
   "source": [
    "content_post_data = data_contents_posts(publications)\n",
    "content_post_data.head(10)"
   ]
  },
  {
   "cell_type": "code",
   "execution_count": null,
   "metadata": {},
   "outputs": [],
   "source": []
  },
  {
   "cell_type": "markdown",
   "metadata": {},
   "source": [
    "## II.3. Stockage données des images dans les posts"
   ]
  },
  {
   "cell_type": "code",
   "execution_count": 104,
   "metadata": {},
   "outputs": [],
   "source": [
    "## 3. data image in post\n",
    "def images_posts_info(posts, sep = '|'):\n",
    "    id_posts = []\n",
    "    images_desc = []\n",
    "    images_link = []\n",
    "    \n",
    "    for i, post in enumerate(posts):\n",
    "        # Vous pouvez activer la ligne ci-dessous pour controler afficher les itérations\n",
    "        #print(\"Collecte des images du post \\t{}\".format(i))\n",
    "        \n",
    "        # Get post ID\n",
    "        id_post = get_id_post(post)\n",
    "        id_posts.append(id_post)\n",
    "        \n",
    "        image_desc = get_image_infos(post, sep)[1]\n",
    "        images_desc.append(image_desc)\n",
    "        \n",
    "        image_link = get_image_infos(post, sep)[0]\n",
    "        images_link.append(image_link)\n",
    "#         print(\"Image link \\t{}\".format(image_link))\n",
    "    # Infos sur les images\n",
    "    images_desc_links = pd.DataFrame(data= {'id_post' : id_posts,\n",
    "        'image_desc' : images_desc, 'image_link' : images_link\n",
    "    }, columns = ['id_post','image_desc', 'image_link'])\n",
    "    return images_desc_links"
   ]
  },
  {
   "cell_type": "code",
   "execution_count": 105,
   "metadata": {},
   "outputs": [
    {
     "data": {
      "text/html": [
       "<div>\n",
       "<style scoped>\n",
       "    .dataframe tbody tr th:only-of-type {\n",
       "        vertical-align: middle;\n",
       "    }\n",
       "\n",
       "    .dataframe tbody tr th {\n",
       "        vertical-align: top;\n",
       "    }\n",
       "\n",
       "    .dataframe thead th {\n",
       "        text-align: right;\n",
       "    }\n",
       "</style>\n",
       "<table border=\"1\" class=\"dataframe\">\n",
       "  <thead>\n",
       "    <tr style=\"text-align: right;\">\n",
       "      <th></th>\n",
       "      <th>id_post</th>\n",
       "      <th>image_desc</th>\n",
       "      <th>image_link</th>\n",
       "    </tr>\n",
       "  </thead>\n",
       "  <tbody>\n",
       "    <tr>\n",
       "      <th>0</th>\n",
       "      <td>5952737848095254</td>\n",
       "      <td></td>\n",
       "      <td></td>\n",
       "    </tr>\n",
       "    <tr>\n",
       "      <th>1</th>\n",
       "      <td>5952739368095102</td>\n",
       "      <td></td>\n",
       "      <td></td>\n",
       "    </tr>\n",
       "    <tr>\n",
       "      <th>2</th>\n",
       "      <td>5948593565176349</td>\n",
       "      <td>Peut être une image de 1 personne, position de...</td>\n",
       "      <td>https://scontent.fabj8-1.fna.fbcdn.net/v/t39.3...</td>\n",
       "    </tr>\n",
       "    <tr>\n",
       "      <th>3</th>\n",
       "      <td>5948188328550206</td>\n",
       "      <td>Peut être une image de texte qui dit ’sotro So...</td>\n",
       "      <td>https://scontent.fabj8-1.fna.fbcdn.net/v/t39.3...</td>\n",
       "    </tr>\n",
       "    <tr>\n",
       "      <th>4</th>\n",
       "      <td>5950219581680414</td>\n",
       "      <td>Peut être une image de 1 personne, position de...</td>\n",
       "      <td>https://scontent.fabj8-1.fna.fbcdn.net/v/t39.3...</td>\n",
       "    </tr>\n",
       "  </tbody>\n",
       "</table>\n",
       "</div>"
      ],
      "text/plain": [
       "            id_post                                         image_desc  \\\n",
       "0  5952737848095254                                                      \n",
       "1  5952739368095102                                                      \n",
       "2  5948593565176349  Peut être une image de 1 personne, position de...   \n",
       "3  5948188328550206  Peut être une image de texte qui dit ’sotro So...   \n",
       "4  5950219581680414  Peut être une image de 1 personne, position de...   \n",
       "\n",
       "                                          image_link  \n",
       "0                                                     \n",
       "1                                                     \n",
       "2  https://scontent.fabj8-1.fna.fbcdn.net/v/t39.3...  \n",
       "3  https://scontent.fabj8-1.fna.fbcdn.net/v/t39.3...  \n",
       "4  https://scontent.fabj8-1.fna.fbcdn.net/v/t39.3...  "
      ]
     },
     "execution_count": 105,
     "metadata": {},
     "output_type": "execute_result"
    }
   ],
   "source": [
    "sep = \"|\"\n",
    "images_post_data = images_posts_info(publications, sep)\n",
    "images_post_data.head()"
   ]
  },
  {
   "cell_type": "code",
   "execution_count": null,
   "metadata": {},
   "outputs": [],
   "source": []
  },
  {
   "cell_type": "markdown",
   "metadata": {},
   "source": [
    "## II.4. Stockage données des réactions"
   ]
  },
  {
   "cell_type": "code",
   "execution_count": 106,
   "metadata": {},
   "outputs": [],
   "source": [
    "## 4. Reactions data\n",
    "def data_reactions(posts) :\n",
    "    liste = ['id_post','nbre_jaime','nbre_commentaire', 'nbre_partage','nbre_jadore', 'nbre_wouah', \n",
    "             'nbre_haha', 'nbre_grrr', 'nbre_triste','nbre_autres_reactions' ]\n",
    "    \n",
    "    nb_reactions = []\n",
    "    \n",
    "    for i, post in enumerate(posts):\n",
    "        # Vous pouvez activer la ligne ci-dessous pour controler afficher les itérations\n",
    "        #print(\"Collecte des reactions \\t{}\".format(i))\n",
    "        \n",
    "        # Get post ID\n",
    "        id_post = get_id_post(post)\n",
    "        id_posts = list([id_post]) \n",
    "        \n",
    "        reacts_elts = get_posts_reactions(post)\n",
    "        reacts_elts = id_posts + reacts_elts\n",
    "        nb_reactions.append(reacts_elts)\n",
    "        \n",
    "    data = pd.DataFrame(nb_reactions, columns=liste)\n",
    "    \n",
    "    return data"
   ]
  },
  {
   "cell_type": "code",
   "execution_count": 107,
   "metadata": {},
   "outputs": [
    {
     "data": {
      "text/html": [
       "<div>\n",
       "<style scoped>\n",
       "    .dataframe tbody tr th:only-of-type {\n",
       "        vertical-align: middle;\n",
       "    }\n",
       "\n",
       "    .dataframe tbody tr th {\n",
       "        vertical-align: top;\n",
       "    }\n",
       "\n",
       "    .dataframe thead th {\n",
       "        text-align: right;\n",
       "    }\n",
       "</style>\n",
       "<table border=\"1\" class=\"dataframe\">\n",
       "  <thead>\n",
       "    <tr style=\"text-align: right;\">\n",
       "      <th></th>\n",
       "      <th>id_post</th>\n",
       "      <th>nbre_jaime</th>\n",
       "      <th>nbre_commentaire</th>\n",
       "      <th>nbre_partage</th>\n",
       "      <th>nbre_jadore</th>\n",
       "      <th>nbre_wouah</th>\n",
       "      <th>nbre_haha</th>\n",
       "      <th>nbre_grrr</th>\n",
       "      <th>nbre_triste</th>\n",
       "      <th>nbre_autres_reactions</th>\n",
       "    </tr>\n",
       "  </thead>\n",
       "  <tbody>\n",
       "    <tr>\n",
       "      <th>0</th>\n",
       "      <td>5952737848095254</td>\n",
       "      <td>21</td>\n",
       "      <td>10</td>\n",
       "      <td>0</td>\n",
       "      <td>0</td>\n",
       "      <td>0</td>\n",
       "      <td>0</td>\n",
       "      <td>0</td>\n",
       "      <td>0</td>\n",
       "      <td>0</td>\n",
       "    </tr>\n",
       "    <tr>\n",
       "      <th>1</th>\n",
       "      <td>5952739368095102</td>\n",
       "      <td>4</td>\n",
       "      <td>3</td>\n",
       "      <td>0</td>\n",
       "      <td>0</td>\n",
       "      <td>0</td>\n",
       "      <td>0</td>\n",
       "      <td>0</td>\n",
       "      <td>0</td>\n",
       "      <td>0</td>\n",
       "    </tr>\n",
       "    <tr>\n",
       "      <th>2</th>\n",
       "      <td>5948593565176349</td>\n",
       "      <td>285</td>\n",
       "      <td>175</td>\n",
       "      <td>14</td>\n",
       "      <td>0</td>\n",
       "      <td>0</td>\n",
       "      <td>0</td>\n",
       "      <td>0</td>\n",
       "      <td>0</td>\n",
       "      <td>0</td>\n",
       "    </tr>\n",
       "    <tr>\n",
       "      <th>3</th>\n",
       "      <td>5948188328550206</td>\n",
       "      <td>373</td>\n",
       "      <td>154</td>\n",
       "      <td>47</td>\n",
       "      <td>0</td>\n",
       "      <td>0</td>\n",
       "      <td>0</td>\n",
       "      <td>0</td>\n",
       "      <td>0</td>\n",
       "      <td>0</td>\n",
       "    </tr>\n",
       "    <tr>\n",
       "      <th>4</th>\n",
       "      <td>5950219581680414</td>\n",
       "      <td>86</td>\n",
       "      <td>86</td>\n",
       "      <td>5</td>\n",
       "      <td>0</td>\n",
       "      <td>0</td>\n",
       "      <td>0</td>\n",
       "      <td>0</td>\n",
       "      <td>0</td>\n",
       "      <td>0</td>\n",
       "    </tr>\n",
       "  </tbody>\n",
       "</table>\n",
       "</div>"
      ],
      "text/plain": [
       "            id_post nbre_jaime nbre_commentaire nbre_partage nbre_jadore  \\\n",
       "0  5952737848095254         21               10            0           0   \n",
       "1  5952739368095102          4                3            0           0   \n",
       "2  5948593565176349        285              175           14           0   \n",
       "3  5948188328550206        373              154           47           0   \n",
       "4  5950219581680414         86               86            5           0   \n",
       "\n",
       "  nbre_wouah nbre_haha nbre_grrr nbre_triste nbre_autres_reactions  \n",
       "0          0         0         0           0                     0  \n",
       "1          0         0         0           0                     0  \n",
       "2          0         0         0           0                     0  \n",
       "3          0         0         0           0                     0  \n",
       "4          0         0         0           0                     0  "
      ]
     },
     "execution_count": 107,
     "metadata": {},
     "output_type": "execute_result"
    }
   ],
   "source": [
    "reactions_post_data = data_reactions(publications)\n",
    "reactions_post_data.head()"
   ]
  },
  {
   "cell_type": "code",
   "execution_count": null,
   "metadata": {},
   "outputs": [],
   "source": []
  },
  {
   "cell_type": "markdown",
   "metadata": {},
   "source": [
    "## II.5. Consolidation des données"
   ]
  },
  {
   "cell_type": "code",
   "execution_count": 108,
   "metadata": {},
   "outputs": [],
   "source": [
    "## 5. Join all informations on collected publications \n",
    "def post_data_reacts_content(author_df, content_df, image_df, reacts_df) :\n",
    "    \n",
    "    posts_data_reacts = pd.merge(author_df, content_df, how = 'inner', on = 'id_post')\n",
    "    posts_data_reacts = pd.merge(posts_data_reacts, image_df, how = 'inner', on = 'id_post')\n",
    "    posts_data_reacts = pd.merge(posts_data_reacts, reacts_df, how = 'inner', on = 'id_post')\n",
    "    posts_data_reacts = posts_data_reacts[posts_data_reacts['id_post'].notnull()]\n",
    "    posts_data_reacts = posts_data_reacts.drop_duplicates(['id_post'])\n",
    "    posts_data_reacts['text_pub'] = posts_data_reacts['text_pub'].astype(str)\n",
    "    posts_data_reacts = posts_data_reacts[posts_data_reacts['text_pub']!='']\n",
    "    \n",
    "    return posts_data_reacts"
   ]
  },
  {
   "cell_type": "code",
   "execution_count": 109,
   "metadata": {},
   "outputs": [
    {
     "data": {
      "text/html": [
       "<div>\n",
       "<style scoped>\n",
       "    .dataframe tbody tr th:only-of-type {\n",
       "        vertical-align: middle;\n",
       "    }\n",
       "\n",
       "    .dataframe tbody tr th {\n",
       "        vertical-align: top;\n",
       "    }\n",
       "\n",
       "    .dataframe thead th {\n",
       "        text-align: right;\n",
       "    }\n",
       "</style>\n",
       "<table border=\"1\" class=\"dataframe\">\n",
       "  <thead>\n",
       "    <tr style=\"text-align: right;\">\n",
       "      <th></th>\n",
       "      <th>id_post</th>\n",
       "      <th>post_link</th>\n",
       "      <th>date_time_post</th>\n",
       "      <th>date_post</th>\n",
       "      <th>hours_post</th>\n",
       "      <th>text_pub</th>\n",
       "      <th>htag_pub_desc</th>\n",
       "      <th>htag_link</th>\n",
       "      <th>image_desc</th>\n",
       "      <th>image_link</th>\n",
       "      <th>nbre_jaime</th>\n",
       "      <th>nbre_commentaire</th>\n",
       "      <th>nbre_partage</th>\n",
       "      <th>nbre_jadore</th>\n",
       "      <th>nbre_wouah</th>\n",
       "      <th>nbre_haha</th>\n",
       "      <th>nbre_grrr</th>\n",
       "      <th>nbre_triste</th>\n",
       "      <th>nbre_autres_reactions</th>\n",
       "    </tr>\n",
       "  </thead>\n",
       "  <tbody>\n",
       "    <tr>\n",
       "      <th>0</th>\n",
       "      <td>5952737848095254</td>\n",
       "      <td>https://www.facebook.com/groups/consommateurs....</td>\n",
       "      <td>2023-01-28 16:58:46</td>\n",
       "      <td>2023-01-28</td>\n",
       "      <td>16:58:46</td>\n",
       "      <td>#transpers #csoa\\nAh la Sotra!jusqu'à quand vo...</td>\n",
       "      <td>transpers|csoa</td>\n",
       "      <td>https://m.facebook.com/hashtag/transpers?refid...</td>\n",
       "      <td></td>\n",
       "      <td></td>\n",
       "      <td>21</td>\n",
       "      <td>10</td>\n",
       "      <td>0</td>\n",
       "      <td>0</td>\n",
       "      <td>0</td>\n",
       "      <td>0</td>\n",
       "      <td>0</td>\n",
       "      <td>0</td>\n",
       "      <td>0</td>\n",
       "    </tr>\n",
       "    <tr>\n",
       "      <th>1</th>\n",
       "      <td>5952739368095102</td>\n",
       "      <td>https://www.facebook.com/groups/consommateurs....</td>\n",
       "      <td>2023-01-28 16:57:46</td>\n",
       "      <td>2023-01-28</td>\n",
       "      <td>16:57:46</td>\n",
       "      <td>#textile\\nBonjour à tous merci de me recommand...</td>\n",
       "      <td>textile</td>\n",
       "      <td>https://m.facebook.com/hashtag/textile?refid=1...</td>\n",
       "      <td></td>\n",
       "      <td></td>\n",
       "      <td>4</td>\n",
       "      <td>3</td>\n",
       "      <td>0</td>\n",
       "      <td>0</td>\n",
       "      <td>0</td>\n",
       "      <td>0</td>\n",
       "      <td>0</td>\n",
       "      <td>0</td>\n",
       "      <td>0</td>\n",
       "    </tr>\n",
       "    <tr>\n",
       "      <th>2</th>\n",
       "      <td>5948593565176349</td>\n",
       "      <td>https://www.facebook.com/groups/consommateurs....</td>\n",
       "      <td>2023-01-27 21:50:47</td>\n",
       "      <td>2023-01-27</td>\n",
       "      <td>21:50:47</td>\n",
       "      <td>#textile\\nBonjour à tous, je recherche une ten...</td>\n",
       "      <td>textile</td>\n",
       "      <td>https://m.facebook.com/hashtag/textile?refid=1...</td>\n",
       "      <td>Peut être une image de 1 personne, position de...</td>\n",
       "      <td>https://scontent.fabj8-1.fna.fbcdn.net/v/t39.3...</td>\n",
       "      <td>285</td>\n",
       "      <td>175</td>\n",
       "      <td>14</td>\n",
       "      <td>0</td>\n",
       "      <td>0</td>\n",
       "      <td>0</td>\n",
       "      <td>0</td>\n",
       "      <td>0</td>\n",
       "      <td>0</td>\n",
       "    </tr>\n",
       "    <tr>\n",
       "      <th>3</th>\n",
       "      <td>5948188328550206</td>\n",
       "      <td>https://www.facebook.com/groups/consommateurs....</td>\n",
       "      <td>2023-01-27 08:14:00</td>\n",
       "      <td>2023-01-27</td>\n",
       "      <td>08:14:00</td>\n",
       "      <td>#transpers #csoa\\nEn espérant que les dirigean...</td>\n",
       "      <td>transpers|csoa</td>\n",
       "      <td>https://m.facebook.com/hashtag/transpers?refid...</td>\n",
       "      <td>Peut être une image de texte qui dit ’sotro So...</td>\n",
       "      <td>https://scontent.fabj8-1.fna.fbcdn.net/v/t39.3...</td>\n",
       "      <td>373</td>\n",
       "      <td>154</td>\n",
       "      <td>47</td>\n",
       "      <td>0</td>\n",
       "      <td>0</td>\n",
       "      <td>0</td>\n",
       "      <td>0</td>\n",
       "      <td>0</td>\n",
       "      <td>0</td>\n",
       "    </tr>\n",
       "    <tr>\n",
       "      <th>4</th>\n",
       "      <td>5950219581680414</td>\n",
       "      <td>https://www.facebook.com/groups/consommateurs....</td>\n",
       "      <td>2023-01-28 11:50:47</td>\n",
       "      <td>2023-01-28</td>\n",
       "      <td>11:50:47</td>\n",
       "      <td>#textile\\nBsr à tous,\\nSvp besoin de votre aid...</td>\n",
       "      <td>textile</td>\n",
       "      <td>https://m.facebook.com/hashtag/textile?refid=1...</td>\n",
       "      <td>Peut être une image de 1 personne, position de...</td>\n",
       "      <td>https://scontent.fabj8-1.fna.fbcdn.net/v/t39.3...</td>\n",
       "      <td>86</td>\n",
       "      <td>86</td>\n",
       "      <td>5</td>\n",
       "      <td>0</td>\n",
       "      <td>0</td>\n",
       "      <td>0</td>\n",
       "      <td>0</td>\n",
       "      <td>0</td>\n",
       "      <td>0</td>\n",
       "    </tr>\n",
       "  </tbody>\n",
       "</table>\n",
       "</div>"
      ],
      "text/plain": [
       "            id_post                                          post_link  \\\n",
       "0  5952737848095254  https://www.facebook.com/groups/consommateurs....   \n",
       "1  5952739368095102  https://www.facebook.com/groups/consommateurs....   \n",
       "2  5948593565176349  https://www.facebook.com/groups/consommateurs....   \n",
       "3  5948188328550206  https://www.facebook.com/groups/consommateurs....   \n",
       "4  5950219581680414  https://www.facebook.com/groups/consommateurs....   \n",
       "\n",
       "       date_time_post   date_post hours_post  \\\n",
       "0 2023-01-28 16:58:46  2023-01-28   16:58:46   \n",
       "1 2023-01-28 16:57:46  2023-01-28   16:57:46   \n",
       "2 2023-01-27 21:50:47  2023-01-27   21:50:47   \n",
       "3 2023-01-27 08:14:00  2023-01-27   08:14:00   \n",
       "4 2023-01-28 11:50:47  2023-01-28   11:50:47   \n",
       "\n",
       "                                            text_pub   htag_pub_desc  \\\n",
       "0  #transpers #csoa\\nAh la Sotra!jusqu'à quand vo...  transpers|csoa   \n",
       "1  #textile\\nBonjour à tous merci de me recommand...         textile   \n",
       "2  #textile\\nBonjour à tous, je recherche une ten...         textile   \n",
       "3  #transpers #csoa\\nEn espérant que les dirigean...  transpers|csoa   \n",
       "4  #textile\\nBsr à tous,\\nSvp besoin de votre aid...         textile   \n",
       "\n",
       "                                           htag_link  \\\n",
       "0  https://m.facebook.com/hashtag/transpers?refid...   \n",
       "1  https://m.facebook.com/hashtag/textile?refid=1...   \n",
       "2  https://m.facebook.com/hashtag/textile?refid=1...   \n",
       "3  https://m.facebook.com/hashtag/transpers?refid...   \n",
       "4  https://m.facebook.com/hashtag/textile?refid=1...   \n",
       "\n",
       "                                          image_desc  \\\n",
       "0                                                      \n",
       "1                                                      \n",
       "2  Peut être une image de 1 personne, position de...   \n",
       "3  Peut être une image de texte qui dit ’sotro So...   \n",
       "4  Peut être une image de 1 personne, position de...   \n",
       "\n",
       "                                          image_link nbre_jaime  \\\n",
       "0                                                            21   \n",
       "1                                                             4   \n",
       "2  https://scontent.fabj8-1.fna.fbcdn.net/v/t39.3...        285   \n",
       "3  https://scontent.fabj8-1.fna.fbcdn.net/v/t39.3...        373   \n",
       "4  https://scontent.fabj8-1.fna.fbcdn.net/v/t39.3...         86   \n",
       "\n",
       "  nbre_commentaire nbre_partage nbre_jadore nbre_wouah nbre_haha nbre_grrr  \\\n",
       "0               10            0           0          0         0         0   \n",
       "1                3            0           0          0         0         0   \n",
       "2              175           14           0          0         0         0   \n",
       "3              154           47           0          0         0         0   \n",
       "4               86            5           0          0         0         0   \n",
       "\n",
       "  nbre_triste nbre_autres_reactions  \n",
       "0           0                     0  \n",
       "1           0                     0  \n",
       "2           0                     0  \n",
       "3           0                     0  \n",
       "4           0                     0  "
      ]
     },
     "execution_count": 109,
     "metadata": {},
     "output_type": "execute_result"
    }
   ],
   "source": [
    "posts_data_reacts = post_data_reacts_content(author_post_data, \n",
    "                                             content_post_data,\n",
    "                                             images_post_data,\n",
    "                                             reactions_post_data)\n",
    "posts_data_reacts = posts_data_reacts[posts_data_reacts['text_pub']!='']\n",
    "\n",
    "posts_data_reacts.head()"
   ]
  },
  {
   "cell_type": "markdown",
   "metadata": {},
   "source": [
    "### II.6. Stockage en format Parquet"
   ]
  },
  {
   "cell_type": "markdown",
   "metadata": {},
   "source": [
    "Pour stocker vos fichiers textuels (surtout provenant des réseaux sociaux où les internautes qui écrivent un peu de tout à volonté), il est préférable d'utiliser le stockage en format **parquet** , **JSON**, ...\n",
    "\n",
    "Pour le stockage en format **parquet**, vous aurez besoin d'intaller le package **pyarrow** en faisant ``pip install pyarrow``."
   ]
  },
  {
   "cell_type": "code",
   "execution_count": 131,
   "metadata": {},
   "outputs": [],
   "source": [
    "from datetime import datetime\n",
    "def stored_post_data_to_parquet(data, dossier, file_name = 'posts_data_reacts') :\n",
    "    \"\"\"\n",
    "    dossier : storage directory ;\n",
    "    type_infos : {'posts', 'commentaires'} ;\n",
    "    group_name : the name or the abbreviation of the collected group ;\n",
    "    file_name : the file name (without extension); \n",
    "\n",
    "    \"\"\"\n",
    "    data = data[data['text_pub']!='']\n",
    "    now = str(datetime.now())[:19]\n",
    "    # ile_date : the datetime of collect (the started time of collect) in format : YYYY-mm-dd_HH_MM_SS\n",
    "    file_date = '_'.join(now.split()).replace(':', '_')\n",
    "    \n",
    "    os.makedirs(dossier, exist_ok=True)\n",
    "    stored_path = f\"{dossier}\\\\{file_name}_{file_date}.parquet\"\n",
    "    data.to_parquet(stored_path, \"pyarrow\")\n"
   ]
  },
  {
   "cell_type": "code",
   "execution_count": 119,
   "metadata": {},
   "outputs": [
    {
     "name": "stdout",
     "output_type": "stream",
     "text": [
      "Collecting pyarrow\n",
      "  Downloading pyarrow-11.0.0-cp39-cp39-win_amd64.whl (20.6 MB)\n",
      "Requirement already satisfied: numpy>=1.16.6 in c:\\programdata\\anaconda3\\lib\\site-packages (from pyarrow) (1.20.3)\n",
      "Installing collected packages: pyarrow\n",
      "Successfully installed pyarrow-11.0.0\n"
     ]
    }
   ],
   "source": [
    "!pip install pyarrow"
   ]
  },
  {
   "cell_type": "code",
   "execution_count": 137,
   "metadata": {},
   "outputs": [],
   "source": []
  },
  {
   "cell_type": "code",
   "execution_count": 138,
   "metadata": {},
   "outputs": [
    {
     "data": {
      "text/plain": [
       "'c:\\\\Users\\\\Utilisateur\\\\Documents\\\\FORMATIONS\\\\WEB_SCRAPING\\\\PRATIQUES_WEB_SCRAPING\\\\SCRAPING_DYNAMIQUE\\\\DATA'"
      ]
     },
     "execution_count": 138,
     "metadata": {},
     "output_type": "execute_result"
    }
   ],
   "source": [
    "# dossier"
   ]
  },
  {
   "cell_type": "code",
   "execution_count": 139,
   "metadata": {},
   "outputs": [],
   "source": [
    "dossier = str(os.getcwd()) + \"\\\\DATA\"\n",
    "# group_name = \"ucaevd\"\n",
    "stored_post_data_to_parquet(data = posts_data_reacts,\n",
    "                            dossier = dossier,\n",
    "                            file_name = 'posts_data_reacts')"
   ]
  },
  {
   "cell_type": "code",
   "execution_count": null,
   "metadata": {},
   "outputs": [],
   "source": []
  },
  {
   "cell_type": "markdown",
   "metadata": {},
   "source": [
    "### II.7. Stockage en CSV"
   ]
  },
  {
   "cell_type": "markdown",
   "metadata": {},
   "source": [
    "Pour des données textuelles, il est conseillé d'éviter le stockage en CSV pour structurer votre ficher du fait des séparateurs qui peuvent être utilisés sdans les contenus textuels, autant que le souhaite l'auteur."
   ]
  },
  {
   "cell_type": "code",
   "execution_count": 143,
   "metadata": {},
   "outputs": [],
   "source": [
    "## 7. Storage collected data\n",
    "def stored_post_data_to_csv(data, dossier, \n",
    "                            file_name = 'posts_data_reacts',\n",
    "                            sep = \"|\") :\n",
    "    \"\"\"\n",
    "    dossier : storage directory ;\n",
    "    type_infos : {'posts', 'commentaires'} ;\n",
    "    group_name : the name or the abbreviation of the collected group ;\n",
    "    file_name : the file name (without extension); \n",
    "\n",
    "    \"\"\"\n",
    "    data = data[data['text_pub']!='']\n",
    "    from datetime import datetime\n",
    "    now = str(datetime.now())[:19]\n",
    "    # ile_date : the datetime of collect (the started time of collect) in format : YYYY-mm-dd_HH_MM_SS\n",
    "    file_date = '_'.join(now.split()).replace(':', '_')\n",
    "    \n",
    "    os.makedirs(dossier, exist_ok=True)\n",
    "    stored_path = f\"{dossier}\\\\{file_name}_{file_date}.csv\"\n",
    "    data.to_csv(stored_path,  encoding = 'utf-8',\n",
    "                         index = False, sep = sep)"
   ]
  },
  {
   "cell_type": "code",
   "execution_count": 141,
   "metadata": {},
   "outputs": [],
   "source": [
    "posts_data_reacts.to_csv()"
   ]
  },
  {
   "cell_type": "code",
   "execution_count": 142,
   "metadata": {},
   "outputs": [
    {
     "data": {
      "text/plain": [
       "'c:\\\\Users\\\\Utilisateur\\\\Documents\\\\FORMATIONS\\\\WEB_SCRAPING\\\\PRATIQUES_WEB_SCRAPING\\\\SCRAPING_DYNAMIQUE\\\\DATA'"
      ]
     },
     "execution_count": 142,
     "metadata": {},
     "output_type": "execute_result"
    }
   ],
   "source": [
    "# dossier"
   ]
  },
  {
   "cell_type": "code",
   "execution_count": 144,
   "metadata": {},
   "outputs": [],
   "source": [
    "dossier = str(os.getcwd()) + \"\\\\DATA\"\n",
    "stored_post_data_to_csv(data = posts_data_reacts,\n",
    "                            dossier = dossier,\n",
    "                            file_name = 'posts_data_reacts',\n",
    "                            sep = \"@\")"
   ]
  },
  {
   "cell_type": "code",
   "execution_count": 57,
   "metadata": {},
   "outputs": [
    {
     "data": {
      "text/plain": [
       "'c:\\\\Users\\\\Utilisateur\\\\Documents\\\\FORMATIONS\\\\WEB_SCRAPING\\\\PRATIQUES_WEB_SCRAPING\\\\SCRAPING_DYNAMIQUE'"
      ]
     },
     "execution_count": 57,
     "metadata": {},
     "output_type": "execute_result"
    }
   ],
   "source": [
    "os.getcwd()"
   ]
  },
  {
   "cell_type": "code",
   "execution_count": 59,
   "metadata": {},
   "outputs": [],
   "source": [
    "os.chdir(os.getcwd())\n",
    "os.makedirs(\"./DATA01\", exist_ok=True)"
   ]
  },
  {
   "cell_type": "markdown",
   "metadata": {},
   "source": [
    "Ici, le séparateur utilisé est ``\"@\"``. Un problème de structuration des données peut suvenir si ``\"@\"`` est utilisé dans le contenu d'un post.\n",
    "\n",
    "Par exemple la chaine ``surname.name@inphb.ci`` faussera la structure des champs dans les données stockées.\n",
    "\n"
   ]
  },
  {
   "cell_type": "markdown",
   "metadata": {},
   "source": [
    "\n",
    "## III. APPLICATIONS DES FONCTIONS DE COLLECTE"
   ]
  },
  {
   "attachments": {},
   "cell_type": "markdown",
   "metadata": {},
   "source": [
    "Génial !!!\n",
    "\n",
    "Vous êtes parvenus à l'étape d'exécution de toutes les fonctions établies pour scraper les publication FACEBOOK d'un groupe public via le lien de la version mobile.\n",
    "\n",
    "Maintenant, vous pouvez faire l'une des actions suivantes :   \n",
    "\n",
    "- 1. Action N°1\n",
    "    \n",
    "    - Redémarrer tout le notebook  \n",
    "    - Exécuter toutes les cellules où ont été définies les différentes fonctions (en prénant le soin de ne pas appeler ces fonctions : \n",
    "        - *N'exécutez pas les cellules code après les cellules des fonctions*\n",
    "    - Après vous êtes assurés que toutes les fonctions aient été chargées, exécutez la cellule ci-dessous  *APPLICATIONS : APPLYING FUNCTIONS FOR COLLECT* :\n",
    "        - *Prenez le soins de bien renseigner les chemins du driver et du répertoire de stockage de vos données.\n",
    "    - Exécuter la cellule\n",
    "        \n",
    "        \n",
    "- 2. Action N°2 : \n",
    "    \n",
    "    - Ouvrir un nouveau notebook\n",
    "    - Copier toutes les fonctions définies\n",
    "    - Puis les mettre dans une seule cellule\n",
    "        - Ne pas oublier d'y mettre aussi tous les packages\n",
    "    - Insérer maintenant le code de la cellule ci-dessous dans le nouveau notebook à la suite des fonctions (dans la même cellule) :  \n",
    "        - Prenez le soins de bien rensiegner les chemins du driver et du répertoire de stockage de vos données.\n",
    "    - Exécuter la cellule\n",
    "        \n",
    "\n",
    "- 3. Actions N°3\n",
    "\n",
    "    - Créer un nouveau fichier ``.py`` \n",
    "    - Copier le contenu de la cellule du nouveau notebook\n",
    "    - Insérer le contenu dans le fichier ``.py`` créé\n",
    "    - Exécuter le fichier en invite de commande\n",
    "    "
   ]
  },
  {
   "cell_type": "code",
   "execution_count": null,
   "metadata": {},
   "outputs": [],
   "source": [
    "def login_to_group(login, password) :\n",
    "    \n",
    "    # from acces import email, password\n",
    "    driver.find_element(By.XPATH, '//*[@id=\"email\"]').send_keys(login)\n",
    "    driver.find_element(By.XPATH, '//*[@id=\"pass\"]').send_keys(password)\n",
    "    driver.find_element(By.XPATH, '//*[@id=\"u_0_d_/e\"]').click()"
   ]
  },
  {
   "cell_type": "code",
   "execution_count": null,
   "metadata": {},
   "outputs": [],
   "source": [
    "# ============= APPLICATIONS : APPLYING FUNCTIONS FOR COLLECT ===================#\n",
    "print(\"Heure de DEBUT de collecte \\t{}\".format(str(datetime.now())[:19]))\n",
    "\n",
    "# ## Group to collact an its mobile URL \n",
    "group = 'ucaevd' \n",
    "url = 'https://m.facebook.com/groups/consommateurs.abidjan/'\n",
    "\n",
    "## Complementary element to get POST URL\n",
    "permalink = 'permalink/'\n",
    "\n",
    "## Driver Path\n",
    "# driver_location = \"put_your_driver_path_here\"\n",
    "driver_location = \"C:/Users/FJPN3406/Documents/FORMATIONS/WEB_SCRAPING/PRATIQUES_WEB_SCRAPING/scraping_env/geckodriver.exe\"\n",
    "\n",
    "## Storage Space for collected data\n",
    "#dossier = \"put_your_root_storage_directory_here\"\n",
    "\n",
    "os.chdir(os.getcwd())\n",
    "dossier = os.makedirs(\"./DATA\", exist_ok=True)\n",
    "comments_dir = \"commentaires\"\n",
    "posts_dir = \"posts\"\n",
    "\n",
    "## Connect to driver and Facebook\n",
    "driver = connexion_to_group(url, driver_location)\n",
    "\n",
    "try :\n",
    "\n",
    "    # Authentification\n",
    "    try :\n",
    "        login = \"your_login\"\n",
    "        password = \"your_password\"\n",
    "        login_to_group(login, password)\n",
    "    except :\n",
    "        pass\n",
    "\n",
    "    ## Get more page\n",
    "    afficher_plus_de_pubs(2, 3)\n",
    "\n",
    "    ## Collect publications\n",
    "    print('\\n *********** COLLECTE DES ELEMENTS WEB DES POSTS **********\\n ')\n",
    "    publications = get_all_publications()\n",
    "\n",
    "    ## Collect authors posts data\n",
    "    print('\\n COLLECTE DES DONNEES DES ********* AUTEURS ********* DES POSTS \\n ')\n",
    "    author_post_data = data_author_posts(publications)\n",
    "\n",
    "    ## Collect Contents posts data\n",
    "    print('\\n COLLECTE DES ***********  CONTENUS TEXTUELS ********** DES POSTS \\n ')\n",
    "    content_post_data = data_contents_posts(publications)\n",
    "\n",
    "    ## Collect contents image posts data\n",
    "    print('\\n COLLECTE DES *********** IMAGES *********** DES POSTS \\n ')\n",
    "    sep = \"|\"\n",
    "    images_post_data = images_posts_info(publications, sep)\n",
    "\n",
    "    ## Collect des reactions data\n",
    "    print('\\n  COLLECTE DES *********** REACTIONS *********** DES POSTS \\n ')\n",
    "    reactions_post_data = data_reactions(publications)\n",
    "except :\n",
    "    pass\n",
    "    \n",
    "## Get All collected posts data\n",
    "print('\\n *********** REGROUPEMENTS DE TOUTES LES DONNEES DES POSTS **********\\n ')\n",
    "posts_data_reacts = post_data_reacts_content(author_post_data, \n",
    "                                             content_post_data,\n",
    "                                             images_post_data,\n",
    "                                             reactions_post_data)\n",
    "posts_data_reacts = posts_data_reacts[posts_data_reacts['text_pub']!='']\n",
    "\n",
    "# stored_path = dossier + group+\"\\\\\"+posts_dir+\"\\\\posts_data_reacts\"+file_date + \".csv\"\n",
    "print(\"\\n STOCKAGE DES DONNEES DES POSTS \\n\")\n",
    "stored_post_data_to_csv(data = posts_data_reacts,\n",
    "                            dossier = dossier,\n",
    "                            group_name = group_name,\n",
    "                            type_infos = 'posts',\n",
    "                            file_name = 'posts_data_reacts',\n",
    "                            sep = \"@\")\n",
    "\n",
    "print(\"\\n STOCKAGE DES DONNEES DES SENTIMENTS \\n\")\n",
    "stored_post_data_to_parquet(data = posts_data_reacts,\n",
    "                            dossier = dossier,\n",
    "                            group_name = group_name,\n",
    "                            type_infos = 'posts',\n",
    "                            file_name = 'posts_data_reacts')\n",
    "\n",
    "driver.quit()\n",
    "print(\"\\nHeure de FIN de collecte \\t{}\".format(str(datetime.now())[:19]))"
   ]
  },
  {
   "cell_type": "markdown",
   "metadata": {},
   "source": []
  },
  {
   "cell_type": "markdown",
   "metadata": {},
   "source": [
    "Merci d'avoir accordé un si grand intérêt à ce cours!!\n",
    "\n",
    "Nous restons ouvert pour d'éventuelles préoccupations.\n",
    "\n",
    "**ON NE FINIT JAMAIS D'APPRENDRE**\n",
    "\n",
    "\n",
    "**VOS CRITIQUES & SUGGESTIONS SONT LES BIENVENUES POUR AIDER A AMELIORER LE COURS**\n",
    "\n",
    "\n",
    "\n",
    "  ![alt](images/merci-bonhomme.gif) "
   ]
  },
  {
   "cell_type": "markdown",
   "metadata": {},
   "source": []
  }
 ],
 "metadata": {
  "kernelspec": {
   "display_name": "base",
   "language": "python",
   "name": "python3"
  },
  "language_info": {
   "codemirror_mode": {
    "name": "ipython",
    "version": 3
   },
   "file_extension": ".py",
   "mimetype": "text/x-python",
   "name": "python",
   "nbconvert_exporter": "python",
   "pygments_lexer": "ipython3",
   "version": "3.9.7"
  },
  "vscode": {
   "interpreter": {
    "hash": "ad2bdc8ecc057115af97d19610ffacc2b4e99fae6737bb82f5d7fb13d2f2c186"
   }
  }
 },
 "nbformat": 4,
 "nbformat_minor": 4
}
