{
 "cells": [
  {
   "cell_type": "code",
   "execution_count": 2,
   "metadata": {},
   "outputs": [],
   "source": [
    "import requests\n",
    "from bs4 import BeautifulSoup "
   ]
  },
  {
   "cell_type": "code",
   "execution_count": 3,
   "metadata": {},
   "outputs": [],
   "source": [
    "url = \"https://fr.wikipedia.org/wiki/Liste_des_matchs_de_l%27%C3%A9quipe_de_C%C3%B4te_d%27Ivoire_de_football_par_adversaire\"\n",
    "content = requests.get(url).content"
   ]
  },
  {
   "cell_type": "code",
   "execution_count": 38,
   "metadata": {},
   "outputs": [
    {
     "data": {
      "text/plain": [
       "{'total': '20',\n",
       " 'Algérie victoires': '7',\n",
       " 'nuls': '7',\n",
       " 'CIV victoires': '8',\n",
       " 'Algérie buts': '28',\n",
       " 'CIV buts': '27'}"
      ]
     },
     "execution_count": 38,
     "metadata": {},
     "output_type": "execute_result"
    }
   ],
   "source": [
    "soup = BeautifulSoup(content, 'html.parser')\n",
    "match_info = list(soup.find(id = \"Bilan_2\").parent.next_siblings)[1](\"li\")\n",
    "matches_resume = {\n",
    "    \"total\": match_info[0].text.split()[-1],\n",
    "    \"Algérie victoires\": match_info[1].text.split()[-1],\n",
    "    \"nuls\": match_info[2].text.split()[-1],\n",
    "    \"CIV victoires\": match_info[3].text.split()[-1],\n",
    "    \"Algérie buts\": match_info[4].text.split()[-1],\n",
    "    \"CIV buts\": match_info[5].text.split()[-1],\n",
    "}\n",
    "matches_resume"
   ]
  },
  {
   "cell_type": "code",
   "execution_count": 5,
   "metadata": {},
   "outputs": [
    {
     "data": {
      "text/plain": [
       "[<li>Victoires de l'<a href=\"/wiki/%C3%89quipe_d%27Afrique_du_Sud_de_football\" title=\"Équipe d'Afrique du Sud de football\">Afrique du Sud</a> : 2</li>]"
      ]
     },
     "execution_count": 5,
     "metadata": {},
     "output_type": "execute_result"
    }
   ],
   "source": [
    "infos_match.select('li:nth-of-type(2)')"
   ]
  }
 ],
 "metadata": {
  "kernelspec": {
   "display_name": "env",
   "language": "python",
   "name": "python3"
  },
  "language_info": {
   "codemirror_mode": {
    "name": "ipython",
    "version": 3
   },
   "file_extension": ".py",
   "mimetype": "text/x-python",
   "name": "python",
   "nbconvert_exporter": "python",
   "pygments_lexer": "ipython3",
   "version": "3.12.1"
  }
 },
 "nbformat": 4,
 "nbformat_minor": 2
}
