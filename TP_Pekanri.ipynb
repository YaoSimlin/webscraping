{
 "cells": [
  {
   "cell_type": "code",
   "execution_count": null,
   "id": "5f7318f9-f860-4d17-a88d-6d5ce2e8eb41",
   "metadata": {},
   "outputs": [],
   "source": []
  },
  {
   "cell_type": "markdown",
   "id": "38441d60-b055-4f88-98b3-d8cc017d1cba",
   "metadata": {},
   "source": [
    "# SCRAPING DE JUMIA AVEC SELENIUM"
   ]
  },
  {
   "cell_type": "markdown",
   "id": "562e9f02-e139-4366-991c-bb665c3463b3",
   "metadata": {},
   "source": [
    "L'objectif de cet exercice est de collecter les produits disponibles sur jumia et réaliser une analyse comparative des prix de ces produits avec ceux d'autres sites d'e-commerce"
   ]
  },
  {
   "cell_type": "code",
   "execution_count": null,
   "id": "4269ee73-b63b-4987-bac6-fdd97885eb17",
   "metadata": {},
   "outputs": [],
   "source": []
  },
  {
   "cell_type": "code",
   "execution_count": 329,
   "id": "79d2af0a-2142-47a8-95f6-b2ab5fcba7a2",
   "metadata": {},
   "outputs": [],
   "source": [
    "from bs4 import BeautifulSoup\n",
    "from selenium import webdriver \n",
    "from selenium.webdriver.common.by import By \n",
    "import time\n",
    "# Pour utiliser toutes les touches du clavier\n",
    "from selenium.webdriver.common.keys import Keys"
   ]
  },
  {
   "cell_type": "markdown",
   "id": "4fcb74af-df36-4508-8bf6-673b95d965f7",
   "metadata": {},
   "source": []
  },
  {
   "cell_type": "code",
   "execution_count": 332,
   "id": "587c0436-6e0f-4d2e-b4e4-4aade92f99aa",
   "metadata": {},
   "outputs": [],
   "source": [
    "import os\n",
    "from selenium.webdriver.firefox.options import Options\n",
    "\n",
    "options = Options()\n",
    "\n",
    "#options.binary_location = \"C:/Program Files/Mozilla Firefox/firefox.exe\"\n",
    "driver = webdriver.Firefox(options=options)"
   ]
  },
  {
   "cell_type": "markdown",
   "id": "4b74f086-c57f-4b39-9058-cce0b28afb22",
   "metadata": {},
   "source": [
    "## URL"
   ]
  },
  {
   "cell_type": "code",
   "execution_count": 335,
   "id": "11774841-2e6b-4861-88c3-08cb41859974",
   "metadata": {},
   "outputs": [],
   "source": [
    "url = \"https://www.jumia.ci/\""
   ]
  },
  {
   "cell_type": "code",
   "execution_count": 337,
   "id": "cefa0cea-81b0-4098-a491-3af2172147f3",
   "metadata": {},
   "outputs": [],
   "source": [
    "driver.get(url)"
   ]
  },
  {
   "cell_type": "code",
   "execution_count": 339,
   "id": "59f5d5de-27fa-40f5-a446-d78ec3e1d2b2",
   "metadata": {},
   "outputs": [],
   "source": [
    "button = driver.find_element(By.CLASS_NAME, 'cls')\n",
    "button.click()"
   ]
  },
  {
   "cell_type": "code",
   "execution_count": 341,
   "id": "7fe6db62-ca0b-4759-94b6-386ea49af543",
   "metadata": {},
   "outputs": [],
   "source": [
    "#rechercher iphone dans la barre de recherche\n",
    "recherche = driver.find_element(By.ID, 'fi-q')\n",
    "recherche.send_keys(\"apple iphone\")\n",
    "time.sleep(2)\n",
    "recherche.send_keys(Keys.ENTER)"
   ]
  },
  {
   "cell_type": "code",
   "execution_count": 343,
   "id": "caa7c847-94ee-4ca3-98fc-440d8554644c",
   "metadata": {},
   "outputs": [
    {
     "data": {
      "text/plain": [
       "<selenium.webdriver.remote.webelement.WebElement (session=\"1511c102-169a-48ac-98f4-9921453c6a14\", element=\"82043cb7-9a82-4a26-a9ef-369008291676\")>"
      ]
     },
     "execution_count": 343,
     "metadata": {},
     "output_type": "execute_result"
    }
   ],
   "source": [
    "# selectionner tous les produits\n",
    "produit = driver.find_element(By.CLASS_NAME, 'core')\n",
    "produit"
   ]
  },
  {
   "cell_type": "code",
   "execution_count": 345,
   "id": "73dda686-86b2-4a12-a4ce-9585752152c0",
   "metadata": {},
   "outputs": [
    {
     "data": {
      "text/plain": [
       "'Boutique Officielle'"
      ]
     },
     "execution_count": 345,
     "metadata": {},
     "output_type": "execute_result"
    }
   ],
   "source": [
    "source = produit.find_element(By.CLASS_NAME, 'info').find_element(By.CLASS_NAME, '_xs')\n",
    "source.text\n"
   ]
  },
  {
   "cell_type": "code",
   "execution_count": 347,
   "id": "c9c287b4-c4b8-400e-ba3b-8ed6971e6319",
   "metadata": {},
   "outputs": [
    {
     "data": {
      "text/plain": [
       "'Apple IPhone 13 - 128Go - Noire'"
      ]
     },
     "execution_count": 347,
     "metadata": {},
     "output_type": "execute_result"
    }
   ],
   "source": [
    "nom = produit.find_element(By.CLASS_NAME, 'name')\n",
    "nom.text"
   ]
  },
  {
   "cell_type": "code",
   "execution_count": 349,
   "id": "5544d279-ab2a-4605-b38a-9a5051bcdcd2",
   "metadata": {},
   "outputs": [
    {
     "data": {
      "text/plain": [
       "'419,000 FCFA'"
      ]
     },
     "execution_count": 349,
     "metadata": {},
     "output_type": "execute_result"
    }
   ],
   "source": [
    "prix = produit.find_element(By.CLASS_NAME, 'prc')\n",
    "prix.text"
   ]
  },
  {
   "cell_type": "code",
   "execution_count": 351,
   "id": "022cb203-643a-4197-b784-5fa8247668b0",
   "metadata": {},
   "outputs": [
    {
     "data": {
      "text/plain": [
       "'1,000,000 FCFA'"
      ]
     },
     "execution_count": 351,
     "metadata": {},
     "output_type": "execute_result"
    }
   ],
   "source": [
    "prix_anc = produit.find_element(By.CLASS_NAME, 'old')\n",
    "prix_anc.text"
   ]
  },
  {
   "cell_type": "code",
   "execution_count": 279,
   "id": "92f36b43-cede-4aed-99d1-69afb4305ad2",
   "metadata": {},
   "outputs": [],
   "source": [
    "driver.refresh()"
   ]
  },
  {
   "cell_type": "code",
   "execution_count": 353,
   "id": "23059890-022a-4a65-a51d-f9b93a5dae4f",
   "metadata": {},
   "outputs": [
    {
     "data": {
      "text/plain": [
       "[<selenium.webdriver.remote.webelement.WebElement (session=\"1511c102-169a-48ac-98f4-9921453c6a14\", element=\"82043cb7-9a82-4a26-a9ef-369008291676\")>,\n",
       " <selenium.webdriver.remote.webelement.WebElement (session=\"1511c102-169a-48ac-98f4-9921453c6a14\", element=\"157460e7-f46b-4574-9af9-e9204d7fd035\")>,\n",
       " <selenium.webdriver.remote.webelement.WebElement (session=\"1511c102-169a-48ac-98f4-9921453c6a14\", element=\"6427c630-f5ec-4942-a74d-a9758a248e5e\")>,\n",
       " <selenium.webdriver.remote.webelement.WebElement (session=\"1511c102-169a-48ac-98f4-9921453c6a14\", element=\"1ff5a802-c657-4c9d-8a2c-33c0c9538f92\")>,\n",
       " <selenium.webdriver.remote.webelement.WebElement (session=\"1511c102-169a-48ac-98f4-9921453c6a14\", element=\"56994db8-4571-446e-bbb4-ee70c2ec2fda\")>,\n",
       " <selenium.webdriver.remote.webelement.WebElement (session=\"1511c102-169a-48ac-98f4-9921453c6a14\", element=\"4fb6112f-5687-43ff-ac34-b77aa51657a6\")>,\n",
       " <selenium.webdriver.remote.webelement.WebElement (session=\"1511c102-169a-48ac-98f4-9921453c6a14\", element=\"7a0e2843-07d3-4b15-9301-b4d310003f8c\")>,\n",
       " <selenium.webdriver.remote.webelement.WebElement (session=\"1511c102-169a-48ac-98f4-9921453c6a14\", element=\"8d385f09-0556-40d8-bcac-18a943e74676\")>,\n",
       " <selenium.webdriver.remote.webelement.WebElement (session=\"1511c102-169a-48ac-98f4-9921453c6a14\", element=\"ebdb2a63-d072-42ba-a568-fe417ac4dd49\")>,\n",
       " <selenium.webdriver.remote.webelement.WebElement (session=\"1511c102-169a-48ac-98f4-9921453c6a14\", element=\"c33065aa-ebac-4419-8f83-f0cddcf7aefe\")>,\n",
       " <selenium.webdriver.remote.webelement.WebElement (session=\"1511c102-169a-48ac-98f4-9921453c6a14\", element=\"0bc40a14-e404-4888-88c0-1e4d6a98e1a5\")>,\n",
       " <selenium.webdriver.remote.webelement.WebElement (session=\"1511c102-169a-48ac-98f4-9921453c6a14\", element=\"73e55ab6-7e33-4228-8b50-669e4a4ecc17\")>,\n",
       " <selenium.webdriver.remote.webelement.WebElement (session=\"1511c102-169a-48ac-98f4-9921453c6a14\", element=\"99859b80-bb8c-40e5-9962-322a1a16e949\")>,\n",
       " <selenium.webdriver.remote.webelement.WebElement (session=\"1511c102-169a-48ac-98f4-9921453c6a14\", element=\"8916e586-8b9b-47dc-a913-a92457407d48\")>,\n",
       " <selenium.webdriver.remote.webelement.WebElement (session=\"1511c102-169a-48ac-98f4-9921453c6a14\", element=\"da979757-e325-4fdd-a62e-d4b65962c14f\")>,\n",
       " <selenium.webdriver.remote.webelement.WebElement (session=\"1511c102-169a-48ac-98f4-9921453c6a14\", element=\"b9d0ba1e-9949-4665-a9c6-160d4bbfa492\")>,\n",
       " <selenium.webdriver.remote.webelement.WebElement (session=\"1511c102-169a-48ac-98f4-9921453c6a14\", element=\"374f14a9-badd-42e6-8aa3-c33d1e5c6b2e\")>,\n",
       " <selenium.webdriver.remote.webelement.WebElement (session=\"1511c102-169a-48ac-98f4-9921453c6a14\", element=\"6d2e0cee-4202-41ab-89df-9b17b8773cd4\")>,\n",
       " <selenium.webdriver.remote.webelement.WebElement (session=\"1511c102-169a-48ac-98f4-9921453c6a14\", element=\"c0f0c960-2481-45ec-9b99-feddca583ae3\")>,\n",
       " <selenium.webdriver.remote.webelement.WebElement (session=\"1511c102-169a-48ac-98f4-9921453c6a14\", element=\"af690dd7-7322-4a8a-b7f4-51ba3126fb25\")>,\n",
       " <selenium.webdriver.remote.webelement.WebElement (session=\"1511c102-169a-48ac-98f4-9921453c6a14\", element=\"7c535720-fe4e-43e4-94fd-2730d851f213\")>,\n",
       " <selenium.webdriver.remote.webelement.WebElement (session=\"1511c102-169a-48ac-98f4-9921453c6a14\", element=\"e7da74fc-8b3f-453b-9043-24cbf63ce4b0\")>,\n",
       " <selenium.webdriver.remote.webelement.WebElement (session=\"1511c102-169a-48ac-98f4-9921453c6a14\", element=\"b218b065-12e0-424f-b549-9940e73d57a3\")>,\n",
       " <selenium.webdriver.remote.webelement.WebElement (session=\"1511c102-169a-48ac-98f4-9921453c6a14\", element=\"10910776-7c9b-41e3-a835-bb4ed840c2de\")>,\n",
       " <selenium.webdriver.remote.webelement.WebElement (session=\"1511c102-169a-48ac-98f4-9921453c6a14\", element=\"0f51f09d-1bfb-4daf-8768-af7b185f720b\")>,\n",
       " <selenium.webdriver.remote.webelement.WebElement (session=\"1511c102-169a-48ac-98f4-9921453c6a14\", element=\"0fd99f72-429d-4f23-baa9-5e04d36beb56\")>,\n",
       " <selenium.webdriver.remote.webelement.WebElement (session=\"1511c102-169a-48ac-98f4-9921453c6a14\", element=\"d0db501b-a267-4884-8000-23d0ef6b7d83\")>,\n",
       " <selenium.webdriver.remote.webelement.WebElement (session=\"1511c102-169a-48ac-98f4-9921453c6a14\", element=\"fc80ff7c-8089-4e11-81a4-eb89e24ffe35\")>,\n",
       " <selenium.webdriver.remote.webelement.WebElement (session=\"1511c102-169a-48ac-98f4-9921453c6a14\", element=\"970e4bcc-0e59-420b-833f-ba718fe8f99f\")>,\n",
       " <selenium.webdriver.remote.webelement.WebElement (session=\"1511c102-169a-48ac-98f4-9921453c6a14\", element=\"957c2b0b-0af0-4d1c-bdb5-b3fd62f153cc\")>,\n",
       " <selenium.webdriver.remote.webelement.WebElement (session=\"1511c102-169a-48ac-98f4-9921453c6a14\", element=\"e3cfb8b5-c454-4102-ac8f-a9ed29927b51\")>,\n",
       " <selenium.webdriver.remote.webelement.WebElement (session=\"1511c102-169a-48ac-98f4-9921453c6a14\", element=\"1cc0faa8-b4b7-414b-a502-c461b00b6d34\")>,\n",
       " <selenium.webdriver.remote.webelement.WebElement (session=\"1511c102-169a-48ac-98f4-9921453c6a14\", element=\"910bbc4d-d87d-4efa-aae3-0549aea88106\")>,\n",
       " <selenium.webdriver.remote.webelement.WebElement (session=\"1511c102-169a-48ac-98f4-9921453c6a14\", element=\"97b2206c-62a2-439a-9332-e2178109702c\")>,\n",
       " <selenium.webdriver.remote.webelement.WebElement (session=\"1511c102-169a-48ac-98f4-9921453c6a14\", element=\"745d2225-b0c8-4121-a87d-a11fa895c673\")>,\n",
       " <selenium.webdriver.remote.webelement.WebElement (session=\"1511c102-169a-48ac-98f4-9921453c6a14\", element=\"8742ad30-b8c2-40d8-8aea-0ac82a29ffce\")>,\n",
       " <selenium.webdriver.remote.webelement.WebElement (session=\"1511c102-169a-48ac-98f4-9921453c6a14\", element=\"fa56c627-45c8-4efa-ae72-e5b96f739f19\")>,\n",
       " <selenium.webdriver.remote.webelement.WebElement (session=\"1511c102-169a-48ac-98f4-9921453c6a14\", element=\"0322fe90-ebdb-4086-a0dc-53c72c910407\")>,\n",
       " <selenium.webdriver.remote.webelement.WebElement (session=\"1511c102-169a-48ac-98f4-9921453c6a14\", element=\"3acb24f4-51bd-4a86-99f0-00a6bd953399\")>,\n",
       " <selenium.webdriver.remote.webelement.WebElement (session=\"1511c102-169a-48ac-98f4-9921453c6a14\", element=\"3270aa2b-65bf-47f1-8d92-a7e104b54c4e\")>]"
      ]
     },
     "execution_count": 353,
     "metadata": {},
     "output_type": "execute_result"
    }
   ],
   "source": [
    "produits = driver.find_elements(By.CLASS_NAME, 'core')\n",
    "produits"
   ]
  },
  {
   "cell_type": "code",
   "execution_count": 355,
   "id": "c4a16b52-19c4-40da-b3e2-8b72b65b2bae",
   "metadata": {},
   "outputs": [
    {
     "data": {
      "text/plain": [
       "'Boutique Officielle'"
      ]
     },
     "execution_count": 355,
     "metadata": {},
     "output_type": "execute_result"
    }
   ],
   "source": [
    "element = produits[0]\n",
    "element.find_element(By.CLASS_NAME, 'info').find_element(By.CLASS_NAME, 'bdg._mall').text"
   ]
  },
  {
   "cell_type": "code",
   "execution_count": 357,
   "id": "cd78972c-5806-44c3-8643-f3cf05aea0b5",
   "metadata": {},
   "outputs": [
    {
     "data": {
      "text/plain": [
       "'Boutique Officielle\\nApple IPHONE 15-128Go Noir\\n589,000 FCFA\\n1,000,000 FCFA\\n41%'"
      ]
     },
     "execution_count": 357,
     "metadata": {},
     "output_type": "execute_result"
    }
   ],
   "source": [
    "element = produits[1]\n",
    "element.find_element(By.CLASS_NAME, 'info').text"
   ]
  },
  {
   "cell_type": "code",
   "execution_count": 359,
   "id": "f47bdb41-cc75-4dc8-9ef8-8892f542208e",
   "metadata": {},
   "outputs": [],
   "source": [
    "dic = {\"source\":[],\"nom\":[],\"prix\":[],\"ancien_prix\":[]}\n",
    "def scrapper_une_page (produits,dic):\n",
    "    for element in produits :\n",
    "        try :\n",
    "            dic[\"source\"].append(element.find_element(By.CLASS_NAME, 'info').find_element(By.CLASS_NAME, 'bdg._mall').text)\n",
    "        except :\n",
    "            dic[\"source\"].append(\"null\")\n",
    "        try :\n",
    "            dic[\"nom\"].append(element.find_element(By.CLASS_NAME, 'name').text)\n",
    "        except :\n",
    "            dic[\"nom\"].append(\"null\")\n",
    "        try :\n",
    "            dic[\"prix\"].append(element.find_element(By.CLASS_NAME, 'prc').text)\n",
    "        except :\n",
    "            dic[\"prix\"].append(\"null\")\n",
    "        try :\n",
    "            ddic[\"ancien_prix\"].append(element.text)\n",
    "        except :\n",
    "            dic[\"ancien_prix\"].append(\"null\")\n",
    "    return dic\n",
    "      "
   ]
  },
  {
   "cell_type": "code",
   "execution_count": 213,
   "id": "78f733a8-896d-433a-94c4-d700212fad73",
   "metadata": {},
   "outputs": [],
   "source": []
  },
  {
   "cell_type": "code",
   "execution_count": 361,
   "id": "4e92db74-090d-44ca-9fb4-81e4c5722f7c",
   "metadata": {},
   "outputs": [
    {
     "name": "stdout",
     "output_type": "stream",
     "text": [
      "fin de la page\n"
     ]
    }
   ],
   "source": [
    "try :\n",
    "    time.sleep(5)\n",
    "    dic=scrapper_une_page(produits,dic) \n",
    "    while( True) : \n",
    "        suivant = driver.find_element(By.CSS_SELECTOR, '[aria-label =\"Page suivante\"]')\n",
    "        suivant.send_keys(Keys.ENTER)\n",
    "        time.sleep(5)\n",
    "        produits = driver.find_elements(By.CLASS_NAME, 'core')\n",
    "        dic=scrapper_une_page(produits,dic) \n",
    "except : \n",
    "    print(\"fin de la page\")"
   ]
  },
  {
   "cell_type": "code",
   "execution_count": 363,
   "id": "6a035346-9ce5-4512-8c4d-760258cda4e4",
   "metadata": {},
   "outputs": [
    {
     "data": {
      "text/plain": [
       "(196, 4)"
      ]
     },
     "execution_count": 363,
     "metadata": {},
     "output_type": "execute_result"
    }
   ],
   "source": [
    "import pandas as pd \n",
    "df = pd.DataFrame(dic)\n",
    "df.shape\n"
   ]
  },
  {
   "cell_type": "code",
   "execution_count": 365,
   "id": "b76b94ee-2eef-4445-96a5-823f1142ae04",
   "metadata": {},
   "outputs": [
    {
     "data": {
      "text/html": [
       "<div>\n",
       "<style scoped>\n",
       "    .dataframe tbody tr th:only-of-type {\n",
       "        vertical-align: middle;\n",
       "    }\n",
       "\n",
       "    .dataframe tbody tr th {\n",
       "        vertical-align: top;\n",
       "    }\n",
       "\n",
       "    .dataframe thead th {\n",
       "        text-align: right;\n",
       "    }\n",
       "</style>\n",
       "<table border=\"1\" class=\"dataframe\">\n",
       "  <thead>\n",
       "    <tr style=\"text-align: right;\">\n",
       "      <th></th>\n",
       "      <th>source</th>\n",
       "      <th>nom</th>\n",
       "      <th>prix</th>\n",
       "      <th>ancien_prix</th>\n",
       "    </tr>\n",
       "  </thead>\n",
       "  <tbody>\n",
       "    <tr>\n",
       "      <th>0</th>\n",
       "      <td>Boutique Officielle</td>\n",
       "      <td>Apple IPhone 13 - 128Go - Noire</td>\n",
       "      <td>419,000 FCFA</td>\n",
       "      <td>null</td>\n",
       "    </tr>\n",
       "    <tr>\n",
       "      <th>1</th>\n",
       "      <td>Boutique Officielle</td>\n",
       "      <td>Apple IPHONE 15-128Go Noir</td>\n",
       "      <td>589,000 FCFA</td>\n",
       "      <td>null</td>\n",
       "    </tr>\n",
       "    <tr>\n",
       "      <th>2</th>\n",
       "      <td>Boutique Officielle</td>\n",
       "      <td>Apple IPhone 13 ProMax-256Go Graphite</td>\n",
       "      <td>909,000 FCFA</td>\n",
       "      <td>null</td>\n",
       "    </tr>\n",
       "    <tr>\n",
       "      <th>3</th>\n",
       "      <td>Boutique Officielle</td>\n",
       "      <td>Apple IPhone 15Pro-256Go Titane Blanc</td>\n",
       "      <td>809,000 FCFA</td>\n",
       "      <td>null</td>\n",
       "    </tr>\n",
       "    <tr>\n",
       "      <th>4</th>\n",
       "      <td>Boutique Officielle</td>\n",
       "      <td>Apple IPHONE 15 PRO - 6.1\" Super Retina XDR OL...</td>\n",
       "      <td>713,500 FCFA</td>\n",
       "      <td>null</td>\n",
       "    </tr>\n",
       "    <tr>\n",
       "      <th>...</th>\n",
       "      <td>...</td>\n",
       "      <td>...</td>\n",
       "      <td>...</td>\n",
       "      <td>...</td>\n",
       "    </tr>\n",
       "    <tr>\n",
       "      <th>191</th>\n",
       "      <td>null</td>\n",
       "      <td>Alegiphone Coque Transparent Compatible Pour I...</td>\n",
       "      <td>4,000 FCFA</td>\n",
       "      <td>null</td>\n",
       "    </tr>\n",
       "    <tr>\n",
       "      <th>192</th>\n",
       "      <td>null</td>\n",
       "      <td>Alegiphone Coque Transparent Compatible Pour I...</td>\n",
       "      <td>4,000 FCFA</td>\n",
       "      <td>null</td>\n",
       "    </tr>\n",
       "    <tr>\n",
       "      <th>193</th>\n",
       "      <td>null</td>\n",
       "      <td>Apple Chargeur Iphone 15 Pro Max - 35W - Blanc</td>\n",
       "      <td>6,000 FCFA</td>\n",
       "      <td>null</td>\n",
       "    </tr>\n",
       "    <tr>\n",
       "      <th>194</th>\n",
       "      <td>null</td>\n",
       "      <td>Diverse Coque Transparent Compatible Pour IPho...</td>\n",
       "      <td>4,500 FCFA</td>\n",
       "      <td>null</td>\n",
       "    </tr>\n",
       "    <tr>\n",
       "      <th>195</th>\n",
       "      <td>null</td>\n",
       "      <td>Diverse Coque Transparent Compatible Pour IPho...</td>\n",
       "      <td>4,500 FCFA</td>\n",
       "      <td>null</td>\n",
       "    </tr>\n",
       "  </tbody>\n",
       "</table>\n",
       "<p>196 rows × 4 columns</p>\n",
       "</div>"
      ],
      "text/plain": [
       "                  source                                                nom  \\\n",
       "0    Boutique Officielle                    Apple IPhone 13 - 128Go - Noire   \n",
       "1    Boutique Officielle                         Apple IPHONE 15-128Go Noir   \n",
       "2    Boutique Officielle              Apple IPhone 13 ProMax-256Go Graphite   \n",
       "3    Boutique Officielle              Apple IPhone 15Pro-256Go Titane Blanc   \n",
       "4    Boutique Officielle  Apple IPHONE 15 PRO - 6.1\" Super Retina XDR OL...   \n",
       "..                   ...                                                ...   \n",
       "191                 null  Alegiphone Coque Transparent Compatible Pour I...   \n",
       "192                 null  Alegiphone Coque Transparent Compatible Pour I...   \n",
       "193                 null     Apple Chargeur Iphone 15 Pro Max - 35W - Blanc   \n",
       "194                 null  Diverse Coque Transparent Compatible Pour IPho...   \n",
       "195                 null  Diverse Coque Transparent Compatible Pour IPho...   \n",
       "\n",
       "             prix ancien_prix  \n",
       "0    419,000 FCFA        null  \n",
       "1    589,000 FCFA        null  \n",
       "2    909,000 FCFA        null  \n",
       "3    809,000 FCFA        null  \n",
       "4    713,500 FCFA        null  \n",
       "..            ...         ...  \n",
       "191    4,000 FCFA        null  \n",
       "192    4,000 FCFA        null  \n",
       "193    6,000 FCFA        null  \n",
       "194    4,500 FCFA        null  \n",
       "195    4,500 FCFA        null  \n",
       "\n",
       "[196 rows x 4 columns]"
      ]
     },
     "execution_count": 365,
     "metadata": {},
     "output_type": "execute_result"
    }
   ],
   "source": [
    "df"
   ]
  }
 ],
 "metadata": {
  "kernelspec": {
   "display_name": "Python 3 (ipykernel)",
   "language": "python",
   "name": "python3"
  },
  "language_info": {
   "codemirror_mode": {
    "name": "ipython",
    "version": 3
   },
   "file_extension": ".py",
   "mimetype": "text/x-python",
   "name": "python",
   "nbconvert_exporter": "python",
   "pygments_lexer": "ipython3",
   "version": "3.12.7"
  }
 },
 "nbformat": 4,
 "nbformat_minor": 5
}
